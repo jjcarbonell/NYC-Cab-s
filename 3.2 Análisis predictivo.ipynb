{
 "cells": [
  {
   "cell_type": "markdown",
   "metadata": {
    "colab_type": "text",
    "id": "txPhH5dsYFKS"
   },
   "source": [
    "# 3. ANÁLISIS PREDICTIVO."
   ]
  },
  {
   "cell_type": "markdown",
   "metadata": {
    "colab_type": "text",
    "id": "uI84UpPqrkM8"
   },
   "source": [
    "## 3.2 ¿Cuál es la mejor hora del día para ir al aeropuerto?"
   ]
  },
  {
   "cell_type": "markdown",
   "metadata": {
    "colab_type": "text",
    "id": "NWZogrphYY_J"
   },
   "source": [
    "**1. Importar librerías**"
   ]
  },
  {
   "cell_type": "code",
   "execution_count": 0,
   "metadata": {
    "colab": {},
    "colab_type": "code",
    "id": "j-6zr63wzz0b"
   },
   "outputs": [],
   "source": [
    "import pandas as pd\n",
    "import numpy as np"
   ]
  },
  {
   "cell_type": "markdown",
   "metadata": {
    "colab_type": "text",
    "id": "v7J4KftPYa0z"
   },
   "source": [
    "**2. Configuración para trabajar en el entorno de collaboratory**"
   ]
  },
  {
   "cell_type": "code",
   "execution_count": 0,
   "metadata": {
    "colab": {},
    "colab_type": "code",
    "id": "FtlMDzsGz7Dr"
   },
   "outputs": [],
   "source": [
    "!pip install -U -q PyDrive\n",
    "\n",
    "from pydrive.auth import GoogleAuth\n",
    "from pydrive.drive import GoogleDrive\n",
    "from google.colab import auth\n",
    "from oauth2client.client import GoogleCredentials"
   ]
  },
  {
   "cell_type": "code",
   "execution_count": 0,
   "metadata": {
    "colab": {},
    "colab_type": "code",
    "id": "iVhHGsUiz7jE"
   },
   "outputs": [],
   "source": [
    "auth.authenticate_user()\n",
    "gauth = GoogleAuth()\n",
    "gauth.credentials = GoogleCredentials.get_application_default()\n",
    "drive = GoogleDrive(gauth)"
   ]
  },
  {
   "cell_type": "code",
   "execution_count": 0,
   "metadata": {
    "colab": {},
    "colab_type": "code",
    "id": "R2oqs1XZz9MK"
   },
   "outputs": [],
   "source": [
    "from google.colab import files"
   ]
  },
  {
   "cell_type": "code",
   "execution_count": 0,
   "metadata": {
    "colab": {},
    "colab_type": "code",
    "id": "EIWf8_Zuz_Is"
   },
   "outputs": [],
   "source": [
    "csv_import = drive.CreateFile({'id':'1TlBINWeLJhWvVMqkeDW-jflVKEH3zv3A'})"
   ]
  },
  {
   "cell_type": "code",
   "execution_count": 0,
   "metadata": {
    "colab": {},
    "colab_type": "code",
    "id": "m2o8ilgS0Fxb"
   },
   "outputs": [],
   "source": [
    " csv_import.GetContentFile('yellow_tripdata_2015-03.csv') "
   ]
  },
  {
   "cell_type": "markdown",
   "metadata": {
    "colab_type": "text",
    "id": "dBsu0leSYi4r"
   },
   "source": [
    "**3. Leer datos**"
   ]
  },
  {
   "cell_type": "code",
   "execution_count": 0,
   "metadata": {
    "colab": {},
    "colab_type": "code",
    "id": "ZC05EwEU0Hr8"
   },
   "outputs": [],
   "source": [
    "dy3 = pd.read_csv('yellow_tripdata_2015-03.csv', nrows = 1000000)"
   ]
  },
  {
   "cell_type": "markdown",
   "metadata": {
    "colab_type": "text",
    "id": "h-uOKAKRYmwx"
   },
   "source": [
    "**4. Visualización de los datos y shape de los mismos**"
   ]
  },
  {
   "cell_type": "code",
   "execution_count": 8,
   "metadata": {
    "colab": {
     "base_uri": "https://localhost:8080/",
     "height": 34
    },
    "colab_type": "code",
    "executionInfo": {
     "elapsed": 8904,
     "status": "ok",
     "timestamp": 1558196676662,
     "user": {
      "displayName": "iago feliubadaló",
      "photoUrl": "https://lh6.googleusercontent.com/-g5vDNw1YDNI/AAAAAAAAAAI/AAAAAAAAAQU/Mw5sY3LeNvs/s64/photo.jpg",
      "userId": "13426049142450112585"
     },
     "user_tz": -120
    },
    "id": "akLZvRsY0Um0",
    "outputId": "f01b35bb-10ee-4df0-ddb9-2ff75f3386ca"
   },
   "outputs": [
    {
     "data": {
      "text/plain": [
       "(1000000, 19)"
      ]
     },
     "execution_count": 8,
     "metadata": {
      "tags": []
     },
     "output_type": "execute_result"
    }
   ],
   "source": [
    "dy3.shape"
   ]
  },
  {
   "cell_type": "code",
   "execution_count": 9,
   "metadata": {
    "colab": {
     "base_uri": "https://localhost:8080/",
     "height": 224
    },
    "colab_type": "code",
    "executionInfo": {
     "elapsed": 7709,
     "status": "ok",
     "timestamp": 1558196676665,
     "user": {
      "displayName": "iago feliubadaló",
      "photoUrl": "https://lh6.googleusercontent.com/-g5vDNw1YDNI/AAAAAAAAAAI/AAAAAAAAAQU/Mw5sY3LeNvs/s64/photo.jpg",
      "userId": "13426049142450112585"
     },
     "user_tz": -120
    },
    "id": "Gcq5K5-a0fPD",
    "outputId": "16b2ecdb-2084-4b3a-e49f-eed0d5888a37"
   },
   "outputs": [
    {
     "data": {
      "text/html": [
       "<div>\n",
       "<style scoped>\n",
       "    .dataframe tbody tr th:only-of-type {\n",
       "        vertical-align: middle;\n",
       "    }\n",
       "\n",
       "    .dataframe tbody tr th {\n",
       "        vertical-align: top;\n",
       "    }\n",
       "\n",
       "    .dataframe thead th {\n",
       "        text-align: right;\n",
       "    }\n",
       "</style>\n",
       "<table border=\"1\" class=\"dataframe\">\n",
       "  <thead>\n",
       "    <tr style=\"text-align: right;\">\n",
       "      <th></th>\n",
       "      <th>VendorID</th>\n",
       "      <th>tpep_pickup_datetime</th>\n",
       "      <th>tpep_dropoff_datetime</th>\n",
       "      <th>passenger_count</th>\n",
       "      <th>trip_distance</th>\n",
       "      <th>pickup_longitude</th>\n",
       "      <th>pickup_latitude</th>\n",
       "      <th>RateCodeID</th>\n",
       "      <th>store_and_fwd_flag</th>\n",
       "      <th>dropoff_longitude</th>\n",
       "      <th>dropoff_latitude</th>\n",
       "      <th>payment_type</th>\n",
       "      <th>fare_amount</th>\n",
       "      <th>extra</th>\n",
       "      <th>mta_tax</th>\n",
       "      <th>tip_amount</th>\n",
       "      <th>tolls_amount</th>\n",
       "      <th>improvement_surcharge</th>\n",
       "      <th>total_amount</th>\n",
       "    </tr>\n",
       "  </thead>\n",
       "  <tbody>\n",
       "    <tr>\n",
       "      <th>0</th>\n",
       "      <td>1</td>\n",
       "      <td>2015-03-06 08:02:31</td>\n",
       "      <td>2015-03-06 08:09:55</td>\n",
       "      <td>1</td>\n",
       "      <td>1.2</td>\n",
       "      <td>-73.990211</td>\n",
       "      <td>40.750969</td>\n",
       "      <td>1</td>\n",
       "      <td>N</td>\n",
       "      <td>-73.987892</td>\n",
       "      <td>40.738037</td>\n",
       "      <td>2</td>\n",
       "      <td>7.0</td>\n",
       "      <td>0.0</td>\n",
       "      <td>0.5</td>\n",
       "      <td>0.00</td>\n",
       "      <td>0.0</td>\n",
       "      <td>0.3</td>\n",
       "      <td>7.80</td>\n",
       "    </tr>\n",
       "    <tr>\n",
       "      <th>1</th>\n",
       "      <td>1</td>\n",
       "      <td>2015-03-06 08:02:31</td>\n",
       "      <td>2015-03-06 08:15:23</td>\n",
       "      <td>1</td>\n",
       "      <td>3.2</td>\n",
       "      <td>-73.935188</td>\n",
       "      <td>40.800720</td>\n",
       "      <td>1</td>\n",
       "      <td>N</td>\n",
       "      <td>-73.952553</td>\n",
       "      <td>40.765373</td>\n",
       "      <td>2</td>\n",
       "      <td>11.5</td>\n",
       "      <td>0.0</td>\n",
       "      <td>0.5</td>\n",
       "      <td>0.00</td>\n",
       "      <td>0.0</td>\n",
       "      <td>0.3</td>\n",
       "      <td>12.30</td>\n",
       "    </tr>\n",
       "    <tr>\n",
       "      <th>2</th>\n",
       "      <td>1</td>\n",
       "      <td>2015-03-06 08:02:31</td>\n",
       "      <td>2015-03-06 08:12:27</td>\n",
       "      <td>1</td>\n",
       "      <td>1.1</td>\n",
       "      <td>-73.963753</td>\n",
       "      <td>40.767937</td>\n",
       "      <td>1</td>\n",
       "      <td>N</td>\n",
       "      <td>-73.956947</td>\n",
       "      <td>40.780270</td>\n",
       "      <td>2</td>\n",
       "      <td>8.0</td>\n",
       "      <td>0.0</td>\n",
       "      <td>0.5</td>\n",
       "      <td>0.00</td>\n",
       "      <td>0.0</td>\n",
       "      <td>0.3</td>\n",
       "      <td>8.80</td>\n",
       "    </tr>\n",
       "    <tr>\n",
       "      <th>3</th>\n",
       "      <td>1</td>\n",
       "      <td>2015-03-06 08:02:31</td>\n",
       "      <td>2015-03-06 08:09:09</td>\n",
       "      <td>1</td>\n",
       "      <td>0.8</td>\n",
       "      <td>-73.997177</td>\n",
       "      <td>40.742168</td>\n",
       "      <td>1</td>\n",
       "      <td>N</td>\n",
       "      <td>-74.008064</td>\n",
       "      <td>40.739281</td>\n",
       "      <td>1</td>\n",
       "      <td>6.0</td>\n",
       "      <td>0.0</td>\n",
       "      <td>0.5</td>\n",
       "      <td>1.00</td>\n",
       "      <td>0.0</td>\n",
       "      <td>0.3</td>\n",
       "      <td>7.80</td>\n",
       "    </tr>\n",
       "    <tr>\n",
       "      <th>4</th>\n",
       "      <td>1</td>\n",
       "      <td>2015-03-06 08:02:32</td>\n",
       "      <td>2015-03-06 08:19:37</td>\n",
       "      <td>1</td>\n",
       "      <td>2.7</td>\n",
       "      <td>-74.006844</td>\n",
       "      <td>40.730267</td>\n",
       "      <td>1</td>\n",
       "      <td>N</td>\n",
       "      <td>-73.976860</td>\n",
       "      <td>40.750671</td>\n",
       "      <td>1</td>\n",
       "      <td>13.0</td>\n",
       "      <td>0.0</td>\n",
       "      <td>0.5</td>\n",
       "      <td>2.75</td>\n",
       "      <td>0.0</td>\n",
       "      <td>0.3</td>\n",
       "      <td>16.55</td>\n",
       "    </tr>\n",
       "  </tbody>\n",
       "</table>\n",
       "</div>"
      ],
      "text/plain": [
       "   VendorID tpep_pickup_datetime  ... improvement_surcharge  total_amount\n",
       "0         1  2015-03-06 08:02:31  ...                   0.3          7.80\n",
       "1         1  2015-03-06 08:02:31  ...                   0.3         12.30\n",
       "2         1  2015-03-06 08:02:31  ...                   0.3          8.80\n",
       "3         1  2015-03-06 08:02:31  ...                   0.3          7.80\n",
       "4         1  2015-03-06 08:02:32  ...                   0.3         16.55\n",
       "\n",
       "[5 rows x 19 columns]"
      ]
     },
     "execution_count": 9,
     "metadata": {
      "tags": []
     },
     "output_type": "execute_result"
    }
   ],
   "source": [
    "dy3.head()"
   ]
  },
  {
   "cell_type": "markdown",
   "metadata": {
    "colab_type": "text",
    "id": "gQlqFuDxYq_n"
   },
   "source": [
    "**5. Limpieza de datos**"
   ]
  },
  {
   "cell_type": "code",
   "execution_count": 0,
   "metadata": {
    "colab": {},
    "colab_type": "code",
    "id": "r_16uezm02h8"
   },
   "outputs": [],
   "source": [
    "dy3 = dy3.drop(dy3[dy3['total_amount']<=0].index)\n",
    "dy3 = dy3.drop(dy3[dy3['total_amount']<=1].index)\n",
    "dy3 = dy3.drop(dy3[dy3['total_amount']>=1000].index)"
   ]
  },
  {
   "cell_type": "code",
   "execution_count": 0,
   "metadata": {
    "colab": {},
    "colab_type": "code",
    "id": "zsOa5SDF08nb"
   },
   "outputs": [],
   "source": [
    "dy3 = dy3.drop(dy3[dy3['pickup_latitude']<40.49].index)\n",
    "dy3 = dy3.drop(dy3[dy3['pickup_latitude']>40.92].index)\n",
    "dy3 = dy3.drop(dy3[dy3['pickup_longitude']<-74.27].index)\n",
    "dy3 = dy3.drop(dy3[dy3['pickup_longitude']>-73.68].index)\n",
    "dy3 = dy3.drop(dy3[dy3['dropoff_latitude']<40.49].index)\n",
    "dy3 = dy3.drop(dy3[dy3['dropoff_latitude']>40.92].index)\n",
    "dy3 = dy3.drop(dy3[dy3['dropoff_longitude']<-74.27].index)\n",
    "dy3 = dy3.drop(dy3[dy3['dropoff_longitude']>-73.68].index)\n",
    "dy3 = dy3.drop(dy3[dy3['trip_distance']<0.1].index)"
   ]
  },
  {
   "cell_type": "markdown",
   "metadata": {
    "colab_type": "text",
    "id": "WnI69_kwYwLH"
   },
   "source": [
    "**6. Importar librerías para cambiar formato de fechas**"
   ]
  },
  {
   "cell_type": "code",
   "execution_count": 0,
   "metadata": {
    "colab": {},
    "colab_type": "code",
    "id": "-aOdgP7p1TiF"
   },
   "outputs": [],
   "source": [
    "from datetime import datetime,date\n",
    "import time"
   ]
  },
  {
   "cell_type": "markdown",
   "metadata": {
    "colab_type": "text",
    "id": "z2i6bjcIY0_A"
   },
   "source": [
    "**7. Crear dos nuevas variables, duraciñon del trayecto en segundos y minutos**"
   ]
  },
  {
   "cell_type": "code",
   "execution_count": 0,
   "metadata": {
    "colab": {},
    "colab_type": "code",
    "id": "C6H929Yg1V7s"
   },
   "outputs": [],
   "source": [
    "dy3['Time_carreer_seconds'] = dy3.apply(\n",
    "    lambda s:\n",
    "    time.mktime((datetime.strptime(s['tpep_dropoff_datetime'],\"%Y-%m-%d %H:%M:%S\")).timetuple())\n",
    "    -time.mktime((datetime.strptime(s['tpep_pickup_datetime'],\"%Y-%m-%d %H:%M:%S\")).timetuple())\n",
    "    ,axis=1)"
   ]
  },
  {
   "cell_type": "code",
   "execution_count": 0,
   "metadata": {
    "colab": {},
    "colab_type": "code",
    "id": "02YSds4D1aD0"
   },
   "outputs": [],
   "source": [
    "dy3['Duración_del_trayecto_min'] = dy3.apply(\n",
    "    lambda s:\n",
    "    (s['Time_carreer_seconds'] % 3600) // 60\n",
    "    ,axis=1)"
   ]
  },
  {
   "cell_type": "markdown",
   "metadata": {
    "colab_type": "text",
    "id": "CPVfop20Y6cZ"
   },
   "source": [
    "**8. A  partir de las columnas de fechas, creamos variables que creemos que aportarán valor a nuestro modelo**"
   ]
  },
  {
   "cell_type": "code",
   "execution_count": 17,
   "metadata": {
    "colab": {
     "base_uri": "https://localhost:8080/",
     "height": 136
    },
    "colab_type": "code",
    "executionInfo": {
     "elapsed": 92710,
     "status": "ok",
     "timestamp": 1558197034176,
     "user": {
      "displayName": "iago feliubadaló",
      "photoUrl": "https://lh6.googleusercontent.com/-g5vDNw1YDNI/AAAAAAAAAAI/AAAAAAAAAQU/Mw5sY3LeNvs/s64/photo.jpg",
      "userId": "13426049142450112585"
     },
     "user_tz": -120
    },
    "id": "G_10jDdl7g4E",
    "outputId": "0b491722-c1c0-4f30-a764-c2349d313f94"
   },
   "outputs": [
    {
     "name": "stdout",
     "output_type": "stream",
     "text": [
      "1/7\n",
      "2/7\n",
      "3/7\n",
      "4/7\n",
      "5/7\n",
      "6/7\n",
      "7/7. All done!\n"
     ]
    }
   ],
   "source": [
    "def add_datetime_features(dy3):\n",
    "    \n",
    "    year = lambda x: datetime.strptime(x, \"%Y-%m-%d %H:%M:%S\" ).year\n",
    "    dy3['year'] = dy3['tpep_pickup_datetime'].map(year)\n",
    "    print('1/7')\n",
    "    \n",
    "    hour = lambda x: datetime.strptime(x, \"%Y-%m-%d %H:%M:%S\" ).hour\n",
    "    dy3['hour'] = dy3['tpep_pickup_datetime'].map(hour)\n",
    "    print('2/7')\n",
    "\n",
    "    day_of_week = lambda x: datetime.strptime(x, \"%Y-%m-%d %H:%M:%S\" ).weekday()\n",
    "    dy3['day_of_week'] = dy3['tpep_pickup_datetime'].map(day_of_week)\n",
    "    print('3/7')\n",
    "\n",
    "    month = lambda x: datetime.strptime(x, \"%Y-%m-%d %H:%M:%S\" ).month\n",
    "    dy3['month'] = dy3['tpep_pickup_datetime'].map(month)\n",
    "    print('4/7')\n",
    "\n",
    "    week_number = lambda x: datetime.strptime(x, \"%Y-%m-%d %H:%M:%S\" ).strftime('%V')\n",
    "    dy3['week_number'] = dy3['tpep_pickup_datetime'].map(week_number)\n",
    "    print('5/7')\n",
    "    \n",
    "    seasons = [0,0,1,1,1,2,2,2,3,3,3,0] #dec - feb is winter, then spring, summer, fall etc\n",
    "    season = lambda x: seasons[(datetime.strptime(x, \"%Y-%m-%d %H:%M:%S\" ).month-1)]\n",
    "    dy3['season'] = dy3['tpep_pickup_datetime'].map(season)\n",
    "    print('6/7')\n",
    "    \n",
    "    late_night_hours = [1, 1, 1, 1, 1, 1, 0, 0, 0, 0, 0, 0, 0, 0, 0, 0, 0, 0, 0, 0, 0, 0, 1, 1]\n",
    "    late_night = lambda x: late_night_hours[(datetime.strptime(x, \"%Y-%m-%d %H:%M:%S\" ).hour)]\n",
    "    dy3['late_night'] = dy3['tpep_pickup_datetime'].map(late_night)\n",
    "    print('7/7. All done!')\n",
    "    \n",
    "add_datetime_features(dy3)"
   ]
  },
  {
   "cell_type": "markdown",
   "metadata": {
    "colab_type": "text",
    "id": "euqO0Z_qygSX"
   },
   "source": [
    "**9. Creamos variable velocidad en millas / min**"
   ]
  },
  {
   "cell_type": "code",
   "execution_count": 0,
   "metadata": {
    "colab": {},
    "colab_type": "code",
    "id": "KAxs-Ej8u2Ac"
   },
   "outputs": [],
   "source": [
    "dy3['velocidad'] = (dy3['trip_distance']/dy3['Duración_del_trayecto_min'])"
   ]
  },
  {
   "cell_type": "code",
   "execution_count": 29,
   "metadata": {
    "colab": {
     "base_uri": "https://localhost:8080/",
     "height": 224
    },
    "colab_type": "code",
    "executionInfo": {
     "elapsed": 603,
     "status": "ok",
     "timestamp": 1558197378386,
     "user": {
      "displayName": "iago feliubadaló",
      "photoUrl": "https://lh6.googleusercontent.com/-g5vDNw1YDNI/AAAAAAAAAAI/AAAAAAAAAQU/Mw5sY3LeNvs/s64/photo.jpg",
      "userId": "13426049142450112585"
     },
     "user_tz": -120
    },
    "id": "-N3gvWLytMzQ",
    "outputId": "9f23580e-db66-40d9-d4e8-2ee05c39995a"
   },
   "outputs": [
    {
     "data": {
      "text/html": [
       "<div>\n",
       "<style scoped>\n",
       "    .dataframe tbody tr th:only-of-type {\n",
       "        vertical-align: middle;\n",
       "    }\n",
       "\n",
       "    .dataframe tbody tr th {\n",
       "        vertical-align: top;\n",
       "    }\n",
       "\n",
       "    .dataframe thead th {\n",
       "        text-align: right;\n",
       "    }\n",
       "</style>\n",
       "<table border=\"1\" class=\"dataframe\">\n",
       "  <thead>\n",
       "    <tr style=\"text-align: right;\">\n",
       "      <th></th>\n",
       "      <th>VendorID</th>\n",
       "      <th>tpep_pickup_datetime</th>\n",
       "      <th>tpep_dropoff_datetime</th>\n",
       "      <th>passenger_count</th>\n",
       "      <th>trip_distance</th>\n",
       "      <th>pickup_longitude</th>\n",
       "      <th>pickup_latitude</th>\n",
       "      <th>RateCodeID</th>\n",
       "      <th>store_and_fwd_flag</th>\n",
       "      <th>dropoff_longitude</th>\n",
       "      <th>dropoff_latitude</th>\n",
       "      <th>payment_type</th>\n",
       "      <th>fare_amount</th>\n",
       "      <th>extra</th>\n",
       "      <th>mta_tax</th>\n",
       "      <th>tip_amount</th>\n",
       "      <th>tolls_amount</th>\n",
       "      <th>improvement_surcharge</th>\n",
       "      <th>total_amount</th>\n",
       "      <th>Time_carreer_seconds</th>\n",
       "      <th>Duración_del_trayecto_min</th>\n",
       "      <th>year</th>\n",
       "      <th>hour</th>\n",
       "      <th>day_of_week</th>\n",
       "      <th>month</th>\n",
       "      <th>week_number</th>\n",
       "      <th>season</th>\n",
       "      <th>late_night</th>\n",
       "      <th>velocidad</th>\n",
       "      <th>JFKDist</th>\n",
       "      <th>EWRDist</th>\n",
       "      <th>LGADist</th>\n",
       "    </tr>\n",
       "  </thead>\n",
       "  <tbody>\n",
       "    <tr>\n",
       "      <th>0</th>\n",
       "      <td>1</td>\n",
       "      <td>2015-03-06 08:02:31</td>\n",
       "      <td>2015-03-06 08:09:55</td>\n",
       "      <td>1</td>\n",
       "      <td>1.2</td>\n",
       "      <td>-73.990211</td>\n",
       "      <td>40.750969</td>\n",
       "      <td>1</td>\n",
       "      <td>N</td>\n",
       "      <td>-73.987892</td>\n",
       "      <td>40.738037</td>\n",
       "      <td>2</td>\n",
       "      <td>7.0</td>\n",
       "      <td>0.0</td>\n",
       "      <td>0.5</td>\n",
       "      <td>0.00</td>\n",
       "      <td>0.0</td>\n",
       "      <td>0.3</td>\n",
       "      <td>7.80</td>\n",
       "      <td>444.0</td>\n",
       "      <td>7.0</td>\n",
       "      <td>2015</td>\n",
       "      <td>8</td>\n",
       "      <td>4</td>\n",
       "      <td>3</td>\n",
       "      <td>10</td>\n",
       "      <td>1</td>\n",
       "      <td>0</td>\n",
       "      <td>0.171429</td>\n",
       "      <td>20.737599</td>\n",
       "      <td>16.050834</td>\n",
       "      <td>10.326384</td>\n",
       "    </tr>\n",
       "    <tr>\n",
       "      <th>1</th>\n",
       "      <td>1</td>\n",
       "      <td>2015-03-06 08:02:31</td>\n",
       "      <td>2015-03-06 08:15:23</td>\n",
       "      <td>1</td>\n",
       "      <td>3.2</td>\n",
       "      <td>-73.935188</td>\n",
       "      <td>40.800720</td>\n",
       "      <td>1</td>\n",
       "      <td>N</td>\n",
       "      <td>-73.952553</td>\n",
       "      <td>40.765373</td>\n",
       "      <td>2</td>\n",
       "      <td>11.5</td>\n",
       "      <td>0.0</td>\n",
       "      <td>0.5</td>\n",
       "      <td>0.00</td>\n",
       "      <td>0.0</td>\n",
       "      <td>0.3</td>\n",
       "      <td>12.30</td>\n",
       "      <td>772.0</td>\n",
       "      <td>12.0</td>\n",
       "      <td>2015</td>\n",
       "      <td>8</td>\n",
       "      <td>4</td>\n",
       "      <td>3</td>\n",
       "      <td>10</td>\n",
       "      <td>1</td>\n",
       "      <td>0</td>\n",
       "      <td>0.266667</td>\n",
       "      <td>20.236671</td>\n",
       "      <td>19.927789</td>\n",
       "      <td>5.879235</td>\n",
       "    </tr>\n",
       "    <tr>\n",
       "      <th>2</th>\n",
       "      <td>1</td>\n",
       "      <td>2015-03-06 08:02:31</td>\n",
       "      <td>2015-03-06 08:12:27</td>\n",
       "      <td>1</td>\n",
       "      <td>1.1</td>\n",
       "      <td>-73.963753</td>\n",
       "      <td>40.767937</td>\n",
       "      <td>1</td>\n",
       "      <td>N</td>\n",
       "      <td>-73.956947</td>\n",
       "      <td>40.780270</td>\n",
       "      <td>2</td>\n",
       "      <td>8.0</td>\n",
       "      <td>0.0</td>\n",
       "      <td>0.5</td>\n",
       "      <td>0.00</td>\n",
       "      <td>0.0</td>\n",
       "      <td>0.3</td>\n",
       "      <td>8.80</td>\n",
       "      <td>596.0</td>\n",
       "      <td>9.0</td>\n",
       "      <td>2015</td>\n",
       "      <td>8</td>\n",
       "      <td>4</td>\n",
       "      <td>3</td>\n",
       "      <td>10</td>\n",
       "      <td>1</td>\n",
       "      <td>0</td>\n",
       "      <td>0.122222</td>\n",
       "      <td>21.120942</td>\n",
       "      <td>19.192002</td>\n",
       "      <td>7.109131</td>\n",
       "    </tr>\n",
       "    <tr>\n",
       "      <th>3</th>\n",
       "      <td>1</td>\n",
       "      <td>2015-03-06 08:02:31</td>\n",
       "      <td>2015-03-06 08:09:09</td>\n",
       "      <td>1</td>\n",
       "      <td>0.8</td>\n",
       "      <td>-73.997177</td>\n",
       "      <td>40.742168</td>\n",
       "      <td>1</td>\n",
       "      <td>N</td>\n",
       "      <td>-74.008064</td>\n",
       "      <td>40.739281</td>\n",
       "      <td>1</td>\n",
       "      <td>6.0</td>\n",
       "      <td>0.0</td>\n",
       "      <td>0.5</td>\n",
       "      <td>1.00</td>\n",
       "      <td>0.0</td>\n",
       "      <td>0.3</td>\n",
       "      <td>7.80</td>\n",
       "      <td>398.0</td>\n",
       "      <td>6.0</td>\n",
       "      <td>2015</td>\n",
       "      <td>8</td>\n",
       "      <td>4</td>\n",
       "      <td>3</td>\n",
       "      <td>10</td>\n",
       "      <td>1</td>\n",
       "      <td>0</td>\n",
       "      <td>0.133333</td>\n",
       "      <td>21.644540</td>\n",
       "      <td>14.496399</td>\n",
       "      <td>11.193321</td>\n",
       "    </tr>\n",
       "    <tr>\n",
       "      <th>4</th>\n",
       "      <td>1</td>\n",
       "      <td>2015-03-06 08:02:32</td>\n",
       "      <td>2015-03-06 08:19:37</td>\n",
       "      <td>1</td>\n",
       "      <td>2.7</td>\n",
       "      <td>-74.006844</td>\n",
       "      <td>40.730267</td>\n",
       "      <td>1</td>\n",
       "      <td>N</td>\n",
       "      <td>-73.976860</td>\n",
       "      <td>40.750671</td>\n",
       "      <td>1</td>\n",
       "      <td>13.0</td>\n",
       "      <td>0.0</td>\n",
       "      <td>0.5</td>\n",
       "      <td>2.75</td>\n",
       "      <td>0.0</td>\n",
       "      <td>0.3</td>\n",
       "      <td>16.55</td>\n",
       "      <td>1025.0</td>\n",
       "      <td>17.0</td>\n",
       "      <td>2015</td>\n",
       "      <td>8</td>\n",
       "      <td>4</td>\n",
       "      <td>3</td>\n",
       "      <td>10</td>\n",
       "      <td>1</td>\n",
       "      <td>0</td>\n",
       "      <td>0.158824</td>\n",
       "      <td>20.754939</td>\n",
       "      <td>14.266830</td>\n",
       "      <td>9.263893</td>\n",
       "    </tr>\n",
       "  </tbody>\n",
       "</table>\n",
       "</div>"
      ],
      "text/plain": [
       "   VendorID tpep_pickup_datetime  ...    EWRDist    LGADist\n",
       "0         1  2015-03-06 08:02:31  ...  16.050834  10.326384\n",
       "1         1  2015-03-06 08:02:31  ...  19.927789   5.879235\n",
       "2         1  2015-03-06 08:02:31  ...  19.192002   7.109131\n",
       "3         1  2015-03-06 08:02:31  ...  14.496399  11.193321\n",
       "4         1  2015-03-06 08:02:32  ...  14.266830   9.263893\n",
       "\n",
       "[5 rows x 32 columns]"
      ]
     },
     "execution_count": 29,
     "metadata": {
      "tags": []
     },
     "output_type": "execute_result"
    }
   ],
   "source": [
    "dy3.head()"
   ]
  },
  {
   "cell_type": "markdown",
   "metadata": {
    "colab_type": "text",
    "id": "S4ZKf_Hbykps"
   },
   "source": [
    "**10. Creamos la distancia esférica para el posterior cálculo del punto 11.**"
   ]
  },
  {
   "cell_type": "code",
   "execution_count": 0,
   "metadata": {
    "colab": {},
    "colab_type": "code",
    "id": "0OcDl6AmyX6N"
   },
   "outputs": [],
   "source": [
    "def sphere_dist(pickup_lat, pickup_lon, dropoff_lat, dropoff_lon):\n",
    "   \n",
    "    R_earth = 6371\n",
    "    pickup_lat, pickup_lon, dropoff_lat, dropoff_lon = map(np.radians,\n",
    "                                                             [pickup_lat, pickup_lon, \n",
    "                                                              dropoff_lat, dropoff_lon])\n",
    "    dlat = dropoff_lat - pickup_lat\n",
    "    dlon = dropoff_lon - pickup_lon\n",
    "    \n",
    "    a = np.sin(dlat/2.0)**2 + np.cos(pickup_lat) * np.cos(dropoff_lat) * np.sin(dlon/2.0)**2\n",
    "    \n",
    "    return 2 * R_earth * np.arcsin(np.sqrt(a))"
   ]
  },
  {
   "cell_type": "markdown",
   "metadata": {
    "colab_type": "text",
    "id": "UoBpS8h7ynmR"
   },
   "source": [
    "**11. Cálculo de las distancias a los aeropuertos**"
   ]
  },
  {
   "cell_type": "code",
   "execution_count": 0,
   "metadata": {
    "colab": {},
    "colab_type": "code",
    "id": "rYdYFIEXyA6y"
   },
   "outputs": [],
   "source": [
    "def add_airport_dist(dataset):\n",
    "    \"\"\"\n",
    "    JFK: John F. Kennedy International Airport\n",
    "    EWR: Newark Liberty International Airport\n",
    "    LGA: LaGuardia Airport\n",
    "    \"\"\"\n",
    "    jfk_coord = (40.639722, -73.778889)\n",
    "    ewr_coord = (40.6925, -74.168611)\n",
    "    lga_coord = (40.77725, -73.872611)\n",
    "    \n",
    "    pickup_lat = dataset['pickup_latitude']\n",
    "    dropoff_lat = dataset['dropoff_latitude']\n",
    "    pickup_lon = dataset['pickup_longitude']\n",
    "    dropoff_lon = dataset['dropoff_longitude']\n",
    "    \n",
    "    pickup_jfk = sphere_dist(pickup_lat, pickup_lon, jfk_coord[0], jfk_coord[1]) \n",
    "    dropoff_jfk = sphere_dist(jfk_coord[0], jfk_coord[1], dropoff_lat, dropoff_lon) \n",
    "    pickup_ewr = sphere_dist(pickup_lat, pickup_lon, ewr_coord[0], ewr_coord[1])\n",
    "    dropoff_ewr = sphere_dist(ewr_coord[0], ewr_coord[1], dropoff_lat, dropoff_lon) \n",
    "    pickup_lga = sphere_dist(pickup_lat, pickup_lon, lga_coord[0], lga_coord[1]) \n",
    "    dropoff_lga = sphere_dist(lga_coord[0], lga_coord[1], dropoff_lat, dropoff_lon) \n",
    "    \n",
    "    dataset['JFKDist'] = pd.concat([pickup_jfk, dropoff_jfk], axis=1).min(axis=1)\n",
    "    dataset['EWRDist'] = pd.concat([pickup_ewr, dropoff_ewr], axis=1).min(axis=1)\n",
    "    dataset['LGADist'] = pd.concat([pickup_lga, dropoff_lga], axis=1).min(axis=1)\n",
    "    \n",
    "    return dataset"
   ]
  },
  {
   "cell_type": "markdown",
   "metadata": {
    "colab_type": "text",
    "id": "d2eQmjkVyr-6"
   },
   "source": [
    "**12. Añadimos el dataset creado al dataset existente**"
   ]
  },
  {
   "cell_type": "code",
   "execution_count": 0,
   "metadata": {
    "colab": {},
    "colab_type": "code",
    "id": "xruc1KENyOh4"
   },
   "outputs": [],
   "source": [
    "dy3 = add_airport_dist(dy3)"
   ]
  },
  {
   "cell_type": "markdown",
   "metadata": {
    "colab_type": "text",
    "id": "ecz3Sdz3yt8U"
   },
   "source": [
    "**13. Visualización de los datos**"
   ]
  },
  {
   "cell_type": "code",
   "execution_count": 27,
   "metadata": {
    "colab": {
     "base_uri": "https://localhost:8080/",
     "height": 224
    },
    "colab_type": "code",
    "executionInfo": {
     "elapsed": 648,
     "status": "ok",
     "timestamp": 1558197157990,
     "user": {
      "displayName": "iago feliubadaló",
      "photoUrl": "https://lh6.googleusercontent.com/-g5vDNw1YDNI/AAAAAAAAAAI/AAAAAAAAAQU/Mw5sY3LeNvs/s64/photo.jpg",
      "userId": "13426049142450112585"
     },
     "user_tz": -120
    },
    "id": "nNALuVATySFV",
    "outputId": "752c7fac-e1a0-4ec5-a3bc-86a7c7510d2c"
   },
   "outputs": [
    {
     "data": {
      "text/html": [
       "<div>\n",
       "<style scoped>\n",
       "    .dataframe tbody tr th:only-of-type {\n",
       "        vertical-align: middle;\n",
       "    }\n",
       "\n",
       "    .dataframe tbody tr th {\n",
       "        vertical-align: top;\n",
       "    }\n",
       "\n",
       "    .dataframe thead th {\n",
       "        text-align: right;\n",
       "    }\n",
       "</style>\n",
       "<table border=\"1\" class=\"dataframe\">\n",
       "  <thead>\n",
       "    <tr style=\"text-align: right;\">\n",
       "      <th></th>\n",
       "      <th>VendorID</th>\n",
       "      <th>tpep_pickup_datetime</th>\n",
       "      <th>tpep_dropoff_datetime</th>\n",
       "      <th>passenger_count</th>\n",
       "      <th>trip_distance</th>\n",
       "      <th>pickup_longitude</th>\n",
       "      <th>pickup_latitude</th>\n",
       "      <th>RateCodeID</th>\n",
       "      <th>store_and_fwd_flag</th>\n",
       "      <th>dropoff_longitude</th>\n",
       "      <th>dropoff_latitude</th>\n",
       "      <th>payment_type</th>\n",
       "      <th>fare_amount</th>\n",
       "      <th>extra</th>\n",
       "      <th>mta_tax</th>\n",
       "      <th>tip_amount</th>\n",
       "      <th>tolls_amount</th>\n",
       "      <th>improvement_surcharge</th>\n",
       "      <th>total_amount</th>\n",
       "      <th>Time_carreer_seconds</th>\n",
       "      <th>Duración_del_trayecto_min</th>\n",
       "      <th>year</th>\n",
       "      <th>hour</th>\n",
       "      <th>day_of_week</th>\n",
       "      <th>month</th>\n",
       "      <th>week_number</th>\n",
       "      <th>season</th>\n",
       "      <th>late_night</th>\n",
       "      <th>velocidad</th>\n",
       "      <th>JFKDist</th>\n",
       "      <th>EWRDist</th>\n",
       "      <th>LGADist</th>\n",
       "    </tr>\n",
       "  </thead>\n",
       "  <tbody>\n",
       "    <tr>\n",
       "      <th>0</th>\n",
       "      <td>1</td>\n",
       "      <td>2015-03-06 08:02:31</td>\n",
       "      <td>2015-03-06 08:09:55</td>\n",
       "      <td>1</td>\n",
       "      <td>1.2</td>\n",
       "      <td>-73.990211</td>\n",
       "      <td>40.750969</td>\n",
       "      <td>1</td>\n",
       "      <td>N</td>\n",
       "      <td>-73.987892</td>\n",
       "      <td>40.738037</td>\n",
       "      <td>2</td>\n",
       "      <td>7.0</td>\n",
       "      <td>0.0</td>\n",
       "      <td>0.5</td>\n",
       "      <td>0.00</td>\n",
       "      <td>0.0</td>\n",
       "      <td>0.3</td>\n",
       "      <td>7.80</td>\n",
       "      <td>444.0</td>\n",
       "      <td>7.0</td>\n",
       "      <td>2015</td>\n",
       "      <td>8</td>\n",
       "      <td>4</td>\n",
       "      <td>3</td>\n",
       "      <td>10</td>\n",
       "      <td>1</td>\n",
       "      <td>0</td>\n",
       "      <td>10.285714</td>\n",
       "      <td>20.737599</td>\n",
       "      <td>16.050834</td>\n",
       "      <td>10.326384</td>\n",
       "    </tr>\n",
       "    <tr>\n",
       "      <th>1</th>\n",
       "      <td>1</td>\n",
       "      <td>2015-03-06 08:02:31</td>\n",
       "      <td>2015-03-06 08:15:23</td>\n",
       "      <td>1</td>\n",
       "      <td>3.2</td>\n",
       "      <td>-73.935188</td>\n",
       "      <td>40.800720</td>\n",
       "      <td>1</td>\n",
       "      <td>N</td>\n",
       "      <td>-73.952553</td>\n",
       "      <td>40.765373</td>\n",
       "      <td>2</td>\n",
       "      <td>11.5</td>\n",
       "      <td>0.0</td>\n",
       "      <td>0.5</td>\n",
       "      <td>0.00</td>\n",
       "      <td>0.0</td>\n",
       "      <td>0.3</td>\n",
       "      <td>12.30</td>\n",
       "      <td>772.0</td>\n",
       "      <td>12.0</td>\n",
       "      <td>2015</td>\n",
       "      <td>8</td>\n",
       "      <td>4</td>\n",
       "      <td>3</td>\n",
       "      <td>10</td>\n",
       "      <td>1</td>\n",
       "      <td>0</td>\n",
       "      <td>16.000000</td>\n",
       "      <td>20.236671</td>\n",
       "      <td>19.927789</td>\n",
       "      <td>5.879235</td>\n",
       "    </tr>\n",
       "    <tr>\n",
       "      <th>2</th>\n",
       "      <td>1</td>\n",
       "      <td>2015-03-06 08:02:31</td>\n",
       "      <td>2015-03-06 08:12:27</td>\n",
       "      <td>1</td>\n",
       "      <td>1.1</td>\n",
       "      <td>-73.963753</td>\n",
       "      <td>40.767937</td>\n",
       "      <td>1</td>\n",
       "      <td>N</td>\n",
       "      <td>-73.956947</td>\n",
       "      <td>40.780270</td>\n",
       "      <td>2</td>\n",
       "      <td>8.0</td>\n",
       "      <td>0.0</td>\n",
       "      <td>0.5</td>\n",
       "      <td>0.00</td>\n",
       "      <td>0.0</td>\n",
       "      <td>0.3</td>\n",
       "      <td>8.80</td>\n",
       "      <td>596.0</td>\n",
       "      <td>9.0</td>\n",
       "      <td>2015</td>\n",
       "      <td>8</td>\n",
       "      <td>4</td>\n",
       "      <td>3</td>\n",
       "      <td>10</td>\n",
       "      <td>1</td>\n",
       "      <td>0</td>\n",
       "      <td>7.333333</td>\n",
       "      <td>21.120942</td>\n",
       "      <td>19.192002</td>\n",
       "      <td>7.109131</td>\n",
       "    </tr>\n",
       "    <tr>\n",
       "      <th>3</th>\n",
       "      <td>1</td>\n",
       "      <td>2015-03-06 08:02:31</td>\n",
       "      <td>2015-03-06 08:09:09</td>\n",
       "      <td>1</td>\n",
       "      <td>0.8</td>\n",
       "      <td>-73.997177</td>\n",
       "      <td>40.742168</td>\n",
       "      <td>1</td>\n",
       "      <td>N</td>\n",
       "      <td>-74.008064</td>\n",
       "      <td>40.739281</td>\n",
       "      <td>1</td>\n",
       "      <td>6.0</td>\n",
       "      <td>0.0</td>\n",
       "      <td>0.5</td>\n",
       "      <td>1.00</td>\n",
       "      <td>0.0</td>\n",
       "      <td>0.3</td>\n",
       "      <td>7.80</td>\n",
       "      <td>398.0</td>\n",
       "      <td>6.0</td>\n",
       "      <td>2015</td>\n",
       "      <td>8</td>\n",
       "      <td>4</td>\n",
       "      <td>3</td>\n",
       "      <td>10</td>\n",
       "      <td>1</td>\n",
       "      <td>0</td>\n",
       "      <td>8.000000</td>\n",
       "      <td>21.644540</td>\n",
       "      <td>14.496399</td>\n",
       "      <td>11.193321</td>\n",
       "    </tr>\n",
       "    <tr>\n",
       "      <th>4</th>\n",
       "      <td>1</td>\n",
       "      <td>2015-03-06 08:02:32</td>\n",
       "      <td>2015-03-06 08:19:37</td>\n",
       "      <td>1</td>\n",
       "      <td>2.7</td>\n",
       "      <td>-74.006844</td>\n",
       "      <td>40.730267</td>\n",
       "      <td>1</td>\n",
       "      <td>N</td>\n",
       "      <td>-73.976860</td>\n",
       "      <td>40.750671</td>\n",
       "      <td>1</td>\n",
       "      <td>13.0</td>\n",
       "      <td>0.0</td>\n",
       "      <td>0.5</td>\n",
       "      <td>2.75</td>\n",
       "      <td>0.0</td>\n",
       "      <td>0.3</td>\n",
       "      <td>16.55</td>\n",
       "      <td>1025.0</td>\n",
       "      <td>17.0</td>\n",
       "      <td>2015</td>\n",
       "      <td>8</td>\n",
       "      <td>4</td>\n",
       "      <td>3</td>\n",
       "      <td>10</td>\n",
       "      <td>1</td>\n",
       "      <td>0</td>\n",
       "      <td>9.529412</td>\n",
       "      <td>20.754939</td>\n",
       "      <td>14.266830</td>\n",
       "      <td>9.263893</td>\n",
       "    </tr>\n",
       "  </tbody>\n",
       "</table>\n",
       "</div>"
      ],
      "text/plain": [
       "   VendorID tpep_pickup_datetime  ...    EWRDist    LGADist\n",
       "0         1  2015-03-06 08:02:31  ...  16.050834  10.326384\n",
       "1         1  2015-03-06 08:02:31  ...  19.927789   5.879235\n",
       "2         1  2015-03-06 08:02:31  ...  19.192002   7.109131\n",
       "3         1  2015-03-06 08:02:31  ...  14.496399  11.193321\n",
       "4         1  2015-03-06 08:02:32  ...  14.266830   9.263893\n",
       "\n",
       "[5 rows x 32 columns]"
      ]
     },
     "execution_count": 27,
     "metadata": {
      "tags": []
     },
     "output_type": "execute_result"
    }
   ],
   "source": [
    "dy3.head()"
   ]
  },
  {
   "cell_type": "markdown",
   "metadata": {
    "colab_type": "text",
    "id": "I4vxK5iF4PyH"
   },
   "source": [
    "**14. Creación variable tiempo a aeropuerto**"
   ]
  },
  {
   "cell_type": "code",
   "execution_count": 0,
   "metadata": {
    "colab": {},
    "colab_type": "code",
    "id": "QBlCFHS0yb2t"
   },
   "outputs": [],
   "source": [
    "dy3['Tiempo_aeropuerto_JFK'] = dy3['JFKDist'] / dy3['velocidad']\n",
    "dy3['Tiempo_aeropuerto_EWR'] = dy3['EWRDist'] / dy3['velocidad']\n",
    "dy3['Tiempo_aeropuerto_LGA'] = dy3['LGADist'] / dy3['velocidad']"
   ]
  },
  {
   "cell_type": "markdown",
   "metadata": {
    "colab_type": "text",
    "id": "FymyCvZQ4Ua0"
   },
   "source": [
    "**15. Visualización datos**"
   ]
  },
  {
   "cell_type": "code",
   "execution_count": 31,
   "metadata": {
    "colab": {
     "base_uri": "https://localhost:8080/",
     "height": 224
    },
    "colab_type": "code",
    "executionInfo": {
     "elapsed": 540,
     "status": "ok",
     "timestamp": 1558197396697,
     "user": {
      "displayName": "iago feliubadaló",
      "photoUrl": "https://lh6.googleusercontent.com/-g5vDNw1YDNI/AAAAAAAAAAI/AAAAAAAAAQU/Mw5sY3LeNvs/s64/photo.jpg",
      "userId": "13426049142450112585"
     },
     "user_tz": -120
    },
    "id": "zxV-zD1ozU26",
    "outputId": "67220897-1369-4463-c9d7-ebe664f51a7b"
   },
   "outputs": [
    {
     "data": {
      "text/html": [
       "<div>\n",
       "<style scoped>\n",
       "    .dataframe tbody tr th:only-of-type {\n",
       "        vertical-align: middle;\n",
       "    }\n",
       "\n",
       "    .dataframe tbody tr th {\n",
       "        vertical-align: top;\n",
       "    }\n",
       "\n",
       "    .dataframe thead th {\n",
       "        text-align: right;\n",
       "    }\n",
       "</style>\n",
       "<table border=\"1\" class=\"dataframe\">\n",
       "  <thead>\n",
       "    <tr style=\"text-align: right;\">\n",
       "      <th></th>\n",
       "      <th>VendorID</th>\n",
       "      <th>tpep_pickup_datetime</th>\n",
       "      <th>tpep_dropoff_datetime</th>\n",
       "      <th>passenger_count</th>\n",
       "      <th>trip_distance</th>\n",
       "      <th>pickup_longitude</th>\n",
       "      <th>pickup_latitude</th>\n",
       "      <th>RateCodeID</th>\n",
       "      <th>store_and_fwd_flag</th>\n",
       "      <th>dropoff_longitude</th>\n",
       "      <th>dropoff_latitude</th>\n",
       "      <th>payment_type</th>\n",
       "      <th>fare_amount</th>\n",
       "      <th>extra</th>\n",
       "      <th>mta_tax</th>\n",
       "      <th>tip_amount</th>\n",
       "      <th>tolls_amount</th>\n",
       "      <th>improvement_surcharge</th>\n",
       "      <th>total_amount</th>\n",
       "      <th>Time_carreer_seconds</th>\n",
       "      <th>Duración_del_trayecto_min</th>\n",
       "      <th>year</th>\n",
       "      <th>hour</th>\n",
       "      <th>day_of_week</th>\n",
       "      <th>month</th>\n",
       "      <th>week_number</th>\n",
       "      <th>season</th>\n",
       "      <th>late_night</th>\n",
       "      <th>velocidad</th>\n",
       "      <th>JFKDist</th>\n",
       "      <th>EWRDist</th>\n",
       "      <th>LGADist</th>\n",
       "      <th>Tiempo_aeropuerto_JFK</th>\n",
       "      <th>Tiempo_aeropuerto_EWR</th>\n",
       "      <th>Tiempo_aeropuerto_LGA</th>\n",
       "    </tr>\n",
       "  </thead>\n",
       "  <tbody>\n",
       "    <tr>\n",
       "      <th>0</th>\n",
       "      <td>1</td>\n",
       "      <td>2015-03-06 08:02:31</td>\n",
       "      <td>2015-03-06 08:09:55</td>\n",
       "      <td>1</td>\n",
       "      <td>1.2</td>\n",
       "      <td>-73.990211</td>\n",
       "      <td>40.750969</td>\n",
       "      <td>1</td>\n",
       "      <td>N</td>\n",
       "      <td>-73.987892</td>\n",
       "      <td>40.738037</td>\n",
       "      <td>2</td>\n",
       "      <td>7.0</td>\n",
       "      <td>0.0</td>\n",
       "      <td>0.5</td>\n",
       "      <td>0.00</td>\n",
       "      <td>0.0</td>\n",
       "      <td>0.3</td>\n",
       "      <td>7.80</td>\n",
       "      <td>444.0</td>\n",
       "      <td>7.0</td>\n",
       "      <td>2015</td>\n",
       "      <td>8</td>\n",
       "      <td>4</td>\n",
       "      <td>3</td>\n",
       "      <td>10</td>\n",
       "      <td>1</td>\n",
       "      <td>0</td>\n",
       "      <td>0.171429</td>\n",
       "      <td>20.737599</td>\n",
       "      <td>16.050834</td>\n",
       "      <td>10.326384</td>\n",
       "      <td>120.969328</td>\n",
       "      <td>93.629866</td>\n",
       "      <td>60.237240</td>\n",
       "    </tr>\n",
       "    <tr>\n",
       "      <th>1</th>\n",
       "      <td>1</td>\n",
       "      <td>2015-03-06 08:02:31</td>\n",
       "      <td>2015-03-06 08:15:23</td>\n",
       "      <td>1</td>\n",
       "      <td>3.2</td>\n",
       "      <td>-73.935188</td>\n",
       "      <td>40.800720</td>\n",
       "      <td>1</td>\n",
       "      <td>N</td>\n",
       "      <td>-73.952553</td>\n",
       "      <td>40.765373</td>\n",
       "      <td>2</td>\n",
       "      <td>11.5</td>\n",
       "      <td>0.0</td>\n",
       "      <td>0.5</td>\n",
       "      <td>0.00</td>\n",
       "      <td>0.0</td>\n",
       "      <td>0.3</td>\n",
       "      <td>12.30</td>\n",
       "      <td>772.0</td>\n",
       "      <td>12.0</td>\n",
       "      <td>2015</td>\n",
       "      <td>8</td>\n",
       "      <td>4</td>\n",
       "      <td>3</td>\n",
       "      <td>10</td>\n",
       "      <td>1</td>\n",
       "      <td>0</td>\n",
       "      <td>0.266667</td>\n",
       "      <td>20.236671</td>\n",
       "      <td>19.927789</td>\n",
       "      <td>5.879235</td>\n",
       "      <td>75.887515</td>\n",
       "      <td>74.729209</td>\n",
       "      <td>22.047133</td>\n",
       "    </tr>\n",
       "    <tr>\n",
       "      <th>2</th>\n",
       "      <td>1</td>\n",
       "      <td>2015-03-06 08:02:31</td>\n",
       "      <td>2015-03-06 08:12:27</td>\n",
       "      <td>1</td>\n",
       "      <td>1.1</td>\n",
       "      <td>-73.963753</td>\n",
       "      <td>40.767937</td>\n",
       "      <td>1</td>\n",
       "      <td>N</td>\n",
       "      <td>-73.956947</td>\n",
       "      <td>40.780270</td>\n",
       "      <td>2</td>\n",
       "      <td>8.0</td>\n",
       "      <td>0.0</td>\n",
       "      <td>0.5</td>\n",
       "      <td>0.00</td>\n",
       "      <td>0.0</td>\n",
       "      <td>0.3</td>\n",
       "      <td>8.80</td>\n",
       "      <td>596.0</td>\n",
       "      <td>9.0</td>\n",
       "      <td>2015</td>\n",
       "      <td>8</td>\n",
       "      <td>4</td>\n",
       "      <td>3</td>\n",
       "      <td>10</td>\n",
       "      <td>1</td>\n",
       "      <td>0</td>\n",
       "      <td>0.122222</td>\n",
       "      <td>21.120942</td>\n",
       "      <td>19.192002</td>\n",
       "      <td>7.109131</td>\n",
       "      <td>172.807707</td>\n",
       "      <td>157.025471</td>\n",
       "      <td>58.165619</td>\n",
       "    </tr>\n",
       "    <tr>\n",
       "      <th>3</th>\n",
       "      <td>1</td>\n",
       "      <td>2015-03-06 08:02:31</td>\n",
       "      <td>2015-03-06 08:09:09</td>\n",
       "      <td>1</td>\n",
       "      <td>0.8</td>\n",
       "      <td>-73.997177</td>\n",
       "      <td>40.742168</td>\n",
       "      <td>1</td>\n",
       "      <td>N</td>\n",
       "      <td>-74.008064</td>\n",
       "      <td>40.739281</td>\n",
       "      <td>1</td>\n",
       "      <td>6.0</td>\n",
       "      <td>0.0</td>\n",
       "      <td>0.5</td>\n",
       "      <td>1.00</td>\n",
       "      <td>0.0</td>\n",
       "      <td>0.3</td>\n",
       "      <td>7.80</td>\n",
       "      <td>398.0</td>\n",
       "      <td>6.0</td>\n",
       "      <td>2015</td>\n",
       "      <td>8</td>\n",
       "      <td>4</td>\n",
       "      <td>3</td>\n",
       "      <td>10</td>\n",
       "      <td>1</td>\n",
       "      <td>0</td>\n",
       "      <td>0.133333</td>\n",
       "      <td>21.644540</td>\n",
       "      <td>14.496399</td>\n",
       "      <td>11.193321</td>\n",
       "      <td>162.334048</td>\n",
       "      <td>108.722992</td>\n",
       "      <td>83.949909</td>\n",
       "    </tr>\n",
       "    <tr>\n",
       "      <th>4</th>\n",
       "      <td>1</td>\n",
       "      <td>2015-03-06 08:02:32</td>\n",
       "      <td>2015-03-06 08:19:37</td>\n",
       "      <td>1</td>\n",
       "      <td>2.7</td>\n",
       "      <td>-74.006844</td>\n",
       "      <td>40.730267</td>\n",
       "      <td>1</td>\n",
       "      <td>N</td>\n",
       "      <td>-73.976860</td>\n",
       "      <td>40.750671</td>\n",
       "      <td>1</td>\n",
       "      <td>13.0</td>\n",
       "      <td>0.0</td>\n",
       "      <td>0.5</td>\n",
       "      <td>2.75</td>\n",
       "      <td>0.0</td>\n",
       "      <td>0.3</td>\n",
       "      <td>16.55</td>\n",
       "      <td>1025.0</td>\n",
       "      <td>17.0</td>\n",
       "      <td>2015</td>\n",
       "      <td>8</td>\n",
       "      <td>4</td>\n",
       "      <td>3</td>\n",
       "      <td>10</td>\n",
       "      <td>1</td>\n",
       "      <td>0</td>\n",
       "      <td>0.158824</td>\n",
       "      <td>20.754939</td>\n",
       "      <td>14.266830</td>\n",
       "      <td>9.263893</td>\n",
       "      <td>130.679245</td>\n",
       "      <td>89.828187</td>\n",
       "      <td>58.328213</td>\n",
       "    </tr>\n",
       "  </tbody>\n",
       "</table>\n",
       "</div>"
      ],
      "text/plain": [
       "   VendorID tpep_pickup_datetime  ... Tiempo_aeropuerto_EWR  Tiempo_aeropuerto_LGA\n",
       "0         1  2015-03-06 08:02:31  ...             93.629866              60.237240\n",
       "1         1  2015-03-06 08:02:31  ...             74.729209              22.047133\n",
       "2         1  2015-03-06 08:02:31  ...            157.025471              58.165619\n",
       "3         1  2015-03-06 08:02:31  ...            108.722992              83.949909\n",
       "4         1  2015-03-06 08:02:32  ...             89.828187              58.328213\n",
       "\n",
       "[5 rows x 35 columns]"
      ]
     },
     "execution_count": 31,
     "metadata": {
      "tags": []
     },
     "output_type": "execute_result"
    }
   ],
   "source": [
    "dy3.head()"
   ]
  },
  {
   "cell_type": "markdown",
   "metadata": {
    "colab_type": "text",
    "id": "sby1FE1M4XFf"
   },
   "source": [
    "**16. Describe de variable ejemplo tiempo aeropuerto a JFK**"
   ]
  },
  {
   "cell_type": "code",
   "execution_count": 36,
   "metadata": {
    "colab": {
     "base_uri": "https://localhost:8080/",
     "height": 170
    },
    "colab_type": "code",
    "executionInfo": {
     "elapsed": 580,
     "status": "ok",
     "timestamp": 1558197617853,
     "user": {
      "displayName": "iago feliubadaló",
      "photoUrl": "https://lh6.googleusercontent.com/-g5vDNw1YDNI/AAAAAAAAAAI/AAAAAAAAAQU/Mw5sY3LeNvs/s64/photo.jpg",
      "userId": "13426049142450112585"
     },
     "user_tz": -120
    },
    "id": "kC1M4WzC0Inz",
    "outputId": "1b162904-1380-4f0e-de0d-163c67f90255"
   },
   "outputs": [
    {
     "data": {
      "text/plain": [
       "count    970928.000000\n",
       "mean        123.467030\n",
       "std          81.803244\n",
       "min           0.000021\n",
       "25%          78.205877\n",
       "50%         110.132473\n",
       "75%         151.560135\n",
       "max        9699.294485\n",
       "Name: Tiempo_aeropuerto_JFK, dtype: float64"
      ]
     },
     "execution_count": 36,
     "metadata": {
      "tags": []
     },
     "output_type": "execute_result"
    }
   ],
   "source": [
    "dy3['Tiempo_aeropuerto_JFK'].describe()"
   ]
  },
  {
   "cell_type": "markdown",
   "metadata": {
    "colab_type": "text",
    "id": "cNfq_LpV4cS9"
   },
   "source": [
    "**17. Análisis quantiles de variables creadas**"
   ]
  },
  {
   "cell_type": "code",
   "execution_count": 39,
   "metadata": {
    "colab": {
     "base_uri": "https://localhost:8080/",
     "height": 1717
    },
    "colab_type": "code",
    "executionInfo": {
     "elapsed": 629,
     "status": "ok",
     "timestamp": 1558197736827,
     "user": {
      "displayName": "iago feliubadaló",
      "photoUrl": "https://lh6.googleusercontent.com/-g5vDNw1YDNI/AAAAAAAAAAI/AAAAAAAAAQU/Mw5sY3LeNvs/s64/photo.jpg",
      "userId": "13426049142450112585"
     },
     "user_tz": -120
    },
    "id": "paWBGmFX0bun",
    "outputId": "5d4fde8a-1098-4a66-a4a5-25334b1b1579"
   },
   "outputs": [
    {
     "name": "stdout",
     "output_type": "stream",
     "text": [
      "1 Valor del percentil tiempo a JFK: 1.4192504706221512min\n",
      "2 Valor del percentil tiempo a JFK: 2.4397139674726214min\n",
      "3 Valor del percentil tiempo a JFK: 24.315781241503796min\n",
      "4 Valor del percentil tiempo a JFK: 33.03977234888428min\n",
      "5 Valor del percentil tiempo a JFK: 37.628481459256854min\n",
      "6 Valor del percentil tiempo a JFK: 41.41934119718066min\n",
      "7 Valor del percentil tiempo a JFK: 44.54689412413833min\n",
      "8 Valor del percentil tiempo a JFK: 47.402623260714755min\n",
      "9 Valor del percentil tiempo a JFK: 50.05582062685096min\n",
      "10 Valor del percentil tiempo a JFK: 52.45439181153034min\n",
      "11 Valor del percentil tiempo a JFK: 54.64764450026787min\n",
      "12 Valor del percentil tiempo a JFK: 56.7758372415613min\n",
      "13 Valor del percentil tiempo a JFK: 58.771400388563876min\n",
      "14 Valor del percentil tiempo a JFK: 60.71603078750697min\n",
      "15 Valor del percentil tiempo a JFK: 62.54147803838875min\n",
      "16 Valor del percentil tiempo a JFK: 64.35979704898809min\n",
      "17 Valor del percentil tiempo a JFK: 66.12979137704252min\n",
      "18 Valor del percentil tiempo a JFK: 67.80230109253331min\n",
      "19 Valor del percentil tiempo a JFK: 69.32742327760495min\n",
      "20 Valor del percentil tiempo a JFK: 70.83699890012944min\n",
      "21 Valor del percentil tiempo a JFK: 72.34004861279719min\n",
      "22 Valor del percentil tiempo a JFK: 73.8661433869816min\n",
      "23 Valor del percentil tiempo a JFK: 75.36914099732444min\n",
      "24 Valor del percentil tiempo a JFK: 76.80641609953182min\n",
      "25 Valor del percentil tiempo a JFK: 78.20587715228237min\n",
      "26 Valor del percentil tiempo a JFK: 79.63435222667663min\n",
      "27 Valor del percentil tiempo a JFK: 81.02104097564091min\n",
      "28 Valor del percentil tiempo a JFK: 82.35550842729012min\n",
      "28 Valor del percentil tiempo a JFK: 83.69169998182535min\n",
      "30 Valor del percentil tiempo a JFK: 85.00840486496838min\n",
      "31 Valor del percentil tiempo a JFK: 86.29816385618724min\n",
      "32 Valor del percentil tiempo a JFK: 87.56893470369215min\n",
      "33 Valor del percentil tiempo a JFK: 88.81431680262189min\n",
      "34 Valor del percentil tiempo a JFK: 90.08459876763021min\n",
      "35 Valor del percentil tiempo a JFK: 91.33432427566575min\n",
      "36 Valor del percentil tiempo a JFK: 92.59186504564579min\n",
      "37 Valor del percentil tiempo a JFK: 93.83823875631177min\n",
      "38 Valor del percentil tiempo a JFK: 95.08655677981724min\n",
      "39 Valor del percentil tiempo a JFK: 96.40324475118541min\n",
      "40 Valor del percentil tiempo a JFK: 97.68681886695138min\n",
      "41 Valor del percentil tiempo a JFK: 98.9647759995356min\n",
      "42 Valor del percentil tiempo a JFK: 100.28018856815501min\n",
      "43 Valor del percentil tiempo a JFK: 101.56864331779084min\n",
      "44 Valor del percentil tiempo a JFK: 102.75981584977713min\n",
      "45 Valor del percentil tiempo a JFK: 103.92276019774886min\n",
      "46 Valor del percentil tiempo a JFK: 105.12177852660702min\n",
      "47 Valor del percentil tiempo a JFK: 106.32990542935698min\n",
      "48 Valor del percentil tiempo a JFK: 107.55148233949967min\n",
      "49 Valor del percentil tiempo a JFK: 108.81822321794903min\n",
      "50 Valor del percentil tiempo a JFK: 110.1324728827785min\n",
      "51 Valor del percentil tiempo a JFK: 111.4985189741623min\n",
      "52 Valor del percentil tiempo a JFK: 112.85916130856157min\n",
      "53 Valor del percentil tiempo a JFK: 114.22260139038471min\n",
      "54 Valor del percentil tiempo a JFK: 115.57657606635365min\n",
      "55 Valor del percentil tiempo a JFK: 116.91029705258075min\n",
      "56 Valor del percentil tiempo a JFK: 118.32201467187524min\n",
      "56 Valor del percentil tiempo a JFK: 119.73514296273976min\n",
      "57 Valor del percentil tiempo a JFK: 121.16474979952508min\n",
      "59 Valor del percentil tiempo a JFK: 122.60218863287277min\n",
      "60 Valor del percentil tiempo a JFK: 124.1234930098955min\n",
      "61 Valor del percentil tiempo a JFK: 125.64553694896921min\n",
      "62 Valor del percentil tiempo a JFK: 127.1893232099271min\n",
      "63 Valor del percentil tiempo a JFK: 128.73737586890377min\n",
      "64 Valor del percentil tiempo a JFK: 130.34986554896204min\n",
      "65 Valor del percentil tiempo a JFK: 132.0166512544243min\n",
      "66 Valor del percentil tiempo a JFK: 133.7643475532611min\n",
      "67 Valor del percentil tiempo a JFK: 135.55986887516733min\n",
      "68 Valor del percentil tiempo a JFK: 137.30217860459834min\n",
      "69 Valor del percentil tiempo a JFK: 139.1152449506128min\n",
      "70 Valor del percentil tiempo a JFK: 140.9808659018318min\n",
      "71 Valor del percentil tiempo a JFK: 142.90226833214882min\n",
      "72 Valor del percentil tiempo a JFK: 144.94496391669747min\n",
      "73 Valor del percentil tiempo a JFK: 147.01971669221123min\n",
      "74 Valor del percentil tiempo a JFK: 149.25083482942267min\n",
      "75 Valor del percentil tiempo a JFK: 151.56013462973758min\n",
      "76 Valor del percentil tiempo a JFK: 153.8582681870572min\n",
      "77 Valor del percentil tiempo a JFK: 156.33772463870656min\n",
      "78 Valor del percentil tiempo a JFK: 158.91544855796124min\n",
      "79 Valor del percentil tiempo a JFK: 161.60747621635613min\n",
      "80 Valor del percentil tiempo a JFK: 164.4525722652956min\n",
      "81 Valor del percentil tiempo a JFK: 167.4459789963293min\n",
      "82 Valor del percentil tiempo a JFK: 170.62786765892088min\n",
      "83 Valor del percentil tiempo a JFK: 173.88646902747809min\n",
      "84 Valor del percentil tiempo a JFK: 177.46237769336642min\n",
      "85 Valor del percentil tiempo a JFK: 181.31059950041583min\n",
      "86 Valor del percentil tiempo a JFK: 185.45252966245081min\n",
      "87 Valor del percentil tiempo a JFK: 189.9015427569678min\n",
      "88 Valor del percentil tiempo a JFK: 195.15615079111447min\n",
      "89 Valor del percentil tiempo a JFK: 201.390590150122min\n",
      "90 Valor del percentil tiempo a JFK: 206.85741127383565min\n",
      "91 Valor del percentil tiempo a JFK: 212.2319198065731min\n",
      "92 Valor del percentil tiempo a JFK: 219.48511900721496min\n",
      "93 Valor del percentil tiempo a JFK: 228.59525539765164min\n",
      "94 Valor del percentil tiempo a JFK: 238.88089296547525min\n",
      "95 Valor del percentil tiempo a JFK: 251.51010948296945min\n",
      "96 Valor del percentil tiempo a JFK: 267.02358819528354min\n",
      "97 Valor del percentil tiempo a JFK: 287.8317901842074min\n",
      "98 Valor del percentil tiempo a JFK: 318.64694563602404min\n",
      "99 Valor del percentil tiempo a JFK: 378.0535761427236min\n",
      "100 Valor del percentil tiempo a JFK: 9699.294484965365min\n"
     ]
    }
   ],
   "source": [
    "quantile_Tiempo_aeropuerto_JFK = dy3.Tiempo_aeropuerto_JFK.quantile(np.round(np.arange(0.00, 1.01, 0.01), 2))\n",
    "qValues = np.round(np.arange(0.01, 1.01, 0.01), 2)\n",
    "for i in qValues:\n",
    "    print(\"{} Valor del percentil tiempo a JFK: {}min\".format((int(i*100)), quantile_Tiempo_aeropuerto_JFK[i]))"
   ]
  },
  {
   "cell_type": "code",
   "execution_count": 51,
   "metadata": {
    "colab": {
     "base_uri": "https://localhost:8080/",
     "height": 1717
    },
    "colab_type": "code",
    "executionInfo": {
     "elapsed": 580,
     "status": "ok",
     "timestamp": 1558198491368,
     "user": {
      "displayName": "iago feliubadaló",
      "photoUrl": "https://lh6.googleusercontent.com/-g5vDNw1YDNI/AAAAAAAAAAI/AAAAAAAAAQU/Mw5sY3LeNvs/s64/photo.jpg",
      "userId": "13426049142450112585"
     },
     "user_tz": -120
    },
    "id": "SmGoB91u22X6",
    "outputId": "78a74e83-a97c-4fab-c781-8d074a624c4c"
   },
   "outputs": [
    {
     "name": "stdout",
     "output_type": "stream",
     "text": [
      "1 Valor del percentil tiempo a EWR: 27.77840875791388min\n",
      "2 Valor del percentil tiempo a EWR: 32.0703328505247min\n",
      "3 Valor del percentil tiempo a EWR: 35.08298592957436min\n",
      "4 Valor del percentil tiempo a EWR: 37.621147310644595min\n",
      "5 Valor del percentil tiempo a EWR: 39.77830656923471min\n",
      "6 Valor del percentil tiempo a EWR: 41.702804427900645min\n",
      "7 Valor del percentil tiempo a EWR: 43.4830921885357min\n",
      "8 Valor del percentil tiempo a EWR: 45.076078247454674min\n",
      "9 Valor del percentil tiempo a EWR: 46.63684122421472min\n",
      "10 Valor del percentil tiempo a EWR: 48.08672450487106min\n",
      "11 Valor del percentil tiempo a EWR: 49.44356868183631min\n",
      "12 Valor del percentil tiempo a EWR: 50.71839975566026min\n",
      "13 Valor del percentil tiempo a EWR: 51.94297089486116min\n",
      "14 Valor del percentil tiempo a EWR: 53.14146058755354min\n",
      "15 Valor del percentil tiempo a EWR: 54.31099240753559min\n",
      "16 Valor del percentil tiempo a EWR: 55.44882397832703min\n",
      "17 Valor del percentil tiempo a EWR: 56.56902398878813min\n",
      "18 Valor del percentil tiempo a EWR: 57.65584759781352min\n",
      "19 Valor del percentil tiempo a EWR: 58.71556519843797min\n",
      "20 Valor del percentil tiempo a EWR: 59.74565907259828min\n",
      "21 Valor del percentil tiempo a EWR: 60.81159222862608min\n",
      "22 Valor del percentil tiempo a EWR: 61.81541978668538min\n",
      "23 Valor del percentil tiempo a EWR: 62.81449514893903min\n",
      "24 Valor del percentil tiempo a EWR: 63.81319466561778min\n",
      "25 Valor del percentil tiempo a EWR: 64.77835365807901min\n",
      "26 Valor del percentil tiempo a EWR: 65.71492723755665min\n",
      "27 Valor del percentil tiempo a EWR: 66.65855723929127min\n",
      "28 Valor del percentil tiempo a EWR: 67.60803724683304min\n",
      "28 Valor del percentil tiempo a EWR: 68.53732579803257min\n",
      "30 Valor del percentil tiempo a EWR: 69.48914714325295min\n",
      "31 Valor del percentil tiempo a EWR: 70.4351375840917min\n",
      "32 Valor del percentil tiempo a EWR: 71.37568392988445min\n",
      "33 Valor del percentil tiempo a EWR: 72.30961093789453min\n",
      "34 Valor del percentil tiempo a EWR: 73.24345936377722min\n",
      "35 Valor del percentil tiempo a EWR: 74.1576260276404min\n",
      "36 Valor del percentil tiempo a EWR: 75.0698938854191min\n",
      "37 Valor del percentil tiempo a EWR: 75.99814915547705min\n",
      "38 Valor del percentil tiempo a EWR: 76.93491378458218min\n",
      "39 Valor del percentil tiempo a EWR: 77.87057895022515min\n",
      "40 Valor del percentil tiempo a EWR: 78.82266424446217min\n",
      "41 Valor del percentil tiempo a EWR: 79.74051479806558min\n",
      "42 Valor del percentil tiempo a EWR: 80.66260616499146min\n",
      "43 Valor del percentil tiempo a EWR: 81.58914488550644min\n",
      "44 Valor del percentil tiempo a EWR: 82.52974676208106min\n",
      "45 Valor del percentil tiempo a EWR: 83.46808612436291min\n",
      "46 Valor del percentil tiempo a EWR: 84.44446464224644min\n",
      "47 Valor del percentil tiempo a EWR: 85.42814965099572min\n",
      "48 Valor del percentil tiempo a EWR: 86.38255443282443min\n",
      "49 Valor del percentil tiempo a EWR: 87.36184271445929min\n",
      "50 Valor del percentil tiempo a EWR: 88.33445424831748min\n",
      "51 Valor del percentil tiempo a EWR: 89.33726055260838min\n",
      "52 Valor del percentil tiempo a EWR: 90.34812988548234min\n",
      "53 Valor del percentil tiempo a EWR: 91.39989661619703min\n",
      "54 Valor del percentil tiempo a EWR: 92.47776320487559min\n",
      "55 Valor del percentil tiempo a EWR: 93.53163825386848min\n",
      "56 Valor del percentil tiempo a EWR: 94.63753134708003min\n",
      "56 Valor del percentil tiempo a EWR: 95.74417868094582min\n",
      "57 Valor del percentil tiempo a EWR: 96.87261845016639min\n",
      "59 Valor del percentil tiempo a EWR: 98.00255936396812min\n",
      "60 Valor del percentil tiempo a EWR: 99.14383006119715min\n",
      "61 Valor del percentil tiempo a EWR: 100.29679141583986min\n",
      "62 Valor del percentil tiempo a EWR: 101.49060926118861min\n",
      "63 Valor del percentil tiempo a EWR: 102.68558852326449min\n",
      "64 Valor del percentil tiempo a EWR: 103.98766105271847min\n",
      "65 Valor del percentil tiempo a EWR: 105.28818565131914min\n",
      "66 Valor del percentil tiempo a EWR: 106.61615204231711min\n",
      "67 Valor del percentil tiempo a EWR: 107.97313470350107min\n",
      "68 Valor del percentil tiempo a EWR: 109.3742691576615min\n",
      "69 Valor del percentil tiempo a EWR: 110.80591349391723min\n",
      "70 Valor del percentil tiempo a EWR: 112.30306177720092min\n",
      "71 Valor del percentil tiempo a EWR: 113.84527465821309min\n",
      "72 Valor del percentil tiempo a EWR: 115.44864693943134min\n",
      "73 Valor del percentil tiempo a EWR: 117.08173462704875min\n",
      "74 Valor del percentil tiempo a EWR: 118.7711705304865min\n",
      "75 Valor del percentil tiempo a EWR: 120.50886531559739min\n",
      "76 Valor del percentil tiempo a EWR: 122.3659783846027min\n",
      "77 Valor del percentil tiempo a EWR: 124.29455836432533min\n",
      "78 Valor del percentil tiempo a EWR: 126.32373839636266min\n",
      "79 Valor del percentil tiempo a EWR: 128.45939892113884min\n",
      "80 Valor del percentil tiempo a EWR: 130.68688954166421min\n",
      "81 Valor del percentil tiempo a EWR: 132.9516018622528min\n",
      "82 Valor del percentil tiempo a EWR: 135.37330948479888min\n",
      "83 Valor del percentil tiempo a EWR: 137.97370440092513min\n",
      "84 Valor del percentil tiempo a EWR: 140.8154176896min\n",
      "85 Valor del percentil tiempo a EWR: 143.80431739497695min\n",
      "86 Valor del percentil tiempo a EWR: 146.9773725101136min\n",
      "87 Valor del percentil tiempo a EWR: 150.3376937879076min\n",
      "88 Valor del percentil tiempo a EWR: 154.07665864512455min\n",
      "89 Valor del percentil tiempo a EWR: 158.29933428264798min\n",
      "90 Valor del percentil tiempo a EWR: 162.62569841192698min\n",
      "91 Valor del percentil tiempo a EWR: 167.45549072505662min\n",
      "92 Valor del percentil tiempo a EWR: 173.20723547579448min\n",
      "93 Valor del percentil tiempo a EWR: 179.24137791562808min\n",
      "94 Valor del percentil tiempo a EWR: 186.50525108164805min\n",
      "95 Valor del percentil tiempo a EWR: 195.29390265708707min\n",
      "96 Valor del percentil tiempo a EWR: 205.63414216188613min\n",
      "97 Valor del percentil tiempo a EWR: 219.10096502199661min\n",
      "98 Valor del percentil tiempo a EWR: 237.11992903231575min\n",
      "99 Valor del percentil tiempo a EWR: 265.3159774076654min\n",
      "100 Valor del percentil tiempo a EWR: 7451.413614528245min\n"
     ]
    }
   ],
   "source": [
    "quantile_Tiempo_aeropuerto_EWR = dy3.Tiempo_aeropuerto_EWR.quantile(np.round(np.arange(0.00, 1.01, 0.01), 2))\n",
    "qValues = np.round(np.arange(0.01, 1.01, 0.01), 2)\n",
    "for i in qValues:\n",
    "    print(\"{} Valor del percentil tiempo a EWR: {}min\".format((int(i*100)), quantile_Tiempo_aeropuerto_EWR[i]))"
   ]
  },
  {
   "cell_type": "code",
   "execution_count": 52,
   "metadata": {
    "colab": {
     "base_uri": "https://localhost:8080/",
     "height": 1717
    },
    "colab_type": "code",
    "executionInfo": {
     "elapsed": 607,
     "status": "ok",
     "timestamp": 1558198583845,
     "user": {
      "displayName": "iago feliubadaló",
      "photoUrl": "https://lh6.googleusercontent.com/-g5vDNw1YDNI/AAAAAAAAAAI/AAAAAAAAAQU/Mw5sY3LeNvs/s64/photo.jpg",
      "userId": "13426049142450112585"
     },
     "user_tz": -120
    },
    "id": "Jl8-mD5s23_b",
    "outputId": "f2ad5113-50d2-45bf-f988-1137e4bb7d61"
   },
   "outputs": [
    {
     "name": "stdout",
     "output_type": "stream",
     "text": [
      "1 Valor del percentil tiempo a LGA: 1.0417912670187859min\n",
      "2 Valor del percentil tiempo a LGA: 2.0793769164827816min\n",
      "3 Valor del percentil tiempo a LGA: 3.5990385746196636min\n",
      "4 Valor del percentil tiempo a LGA: 9.689308578736696min\n",
      "5 Valor del percentil tiempo a LGA: 13.573498123711957min\n",
      "6 Valor del percentil tiempo a LGA: 15.685824570766519min\n",
      "7 Valor del percentil tiempo a LGA: 17.29678660947077min\n",
      "8 Valor del percentil tiempo a LGA: 18.67325994805268min\n",
      "9 Valor del percentil tiempo a LGA: 19.90675424134683min\n",
      "10 Valor del percentil tiempo a LGA: 21.03893658491112min\n",
      "11 Valor del percentil tiempo a LGA: 22.07711601070988min\n",
      "12 Valor del percentil tiempo a LGA: 23.06495545864521min\n",
      "13 Valor del percentil tiempo a LGA: 23.99308456554846min\n",
      "14 Valor del percentil tiempo a LGA: 24.874136779981335min\n",
      "15 Valor del percentil tiempo a LGA: 25.710148141330038min\n",
      "16 Valor del percentil tiempo a LGA: 26.504670755412015min\n",
      "17 Valor del percentil tiempo a LGA: 27.26481322128736min\n",
      "18 Valor del percentil tiempo a LGA: 28.01599508397932min\n",
      "19 Valor del percentil tiempo a LGA: 28.73473147617578min\n",
      "20 Valor del percentil tiempo a LGA: 29.431292908189615min\n",
      "21 Valor del percentil tiempo a LGA: 30.12076257116169min\n",
      "22 Valor del percentil tiempo a LGA: 30.77250928070991min\n",
      "23 Valor del percentil tiempo a LGA: 31.411255650151432min\n",
      "24 Valor del percentil tiempo a LGA: 32.04594989709303min\n",
      "25 Valor del percentil tiempo a LGA: 32.67560502059949min\n",
      "26 Valor del percentil tiempo a LGA: 33.30406347530707min\n",
      "27 Valor del percentil tiempo a LGA: 33.91551024884992min\n",
      "28 Valor del percentil tiempo a LGA: 34.514607841295046min\n",
      "28 Valor del percentil tiempo a LGA: 35.108543854984845min\n",
      "30 Valor del percentil tiempo a LGA: 35.702386375144734min\n",
      "31 Valor del percentil tiempo a LGA: 36.312956693016424min\n",
      "32 Valor del percentil tiempo a LGA: 36.91328479685025min\n",
      "33 Valor del percentil tiempo a LGA: 37.50604755186742min\n",
      "34 Valor del percentil tiempo a LGA: 38.09015538786565min\n",
      "35 Valor del percentil tiempo a LGA: 38.677806209151804min\n",
      "36 Valor del percentil tiempo a LGA: 39.27338260993729min\n",
      "37 Valor del percentil tiempo a LGA: 39.86548011397781min\n",
      "38 Valor del percentil tiempo a LGA: 40.45551950120506min\n",
      "39 Valor del percentil tiempo a LGA: 41.049572457799556min\n",
      "40 Valor del percentil tiempo a LGA: 41.647141814537754min\n",
      "41 Valor del percentil tiempo a LGA: 42.23510128118912min\n",
      "42 Valor del percentil tiempo a LGA: 42.82323236179501min\n",
      "43 Valor del percentil tiempo a LGA: 43.43942700036024min\n",
      "44 Valor del percentil tiempo a LGA: 44.051099544555704min\n",
      "45 Valor del percentil tiempo a LGA: 44.659322737452385min\n",
      "46 Valor del percentil tiempo a LGA: 45.28256294202119min\n",
      "47 Valor del percentil tiempo a LGA: 45.90039908226756min\n",
      "48 Valor del percentil tiempo a LGA: 46.512924621325006min\n",
      "49 Valor del percentil tiempo a LGA: 47.131356771032465min\n",
      "50 Valor del percentil tiempo a LGA: 47.77052383104471min\n",
      "51 Valor del percentil tiempo a LGA: 48.4141797900144min\n",
      "52 Valor del percentil tiempo a LGA: 49.068330659120036min\n",
      "53 Valor del percentil tiempo a LGA: 49.74734170661418min\n",
      "54 Valor del percentil tiempo a LGA: 50.43323683774822min\n",
      "55 Valor del percentil tiempo a LGA: 51.11241847117649min\n",
      "56 Valor del percentil tiempo a LGA: 51.81114565828051min\n",
      "56 Valor del percentil tiempo a LGA: 52.4986056982307min\n",
      "57 Valor del percentil tiempo a LGA: 53.22458187416282min\n",
      "59 Valor del percentil tiempo a LGA: 53.94184802636287min\n",
      "60 Valor del percentil tiempo a LGA: 54.695837640924026min\n",
      "61 Valor del percentil tiempo a LGA: 55.42078507027206min\n",
      "62 Valor del percentil tiempo a LGA: 56.179188276178245min\n",
      "63 Valor del percentil tiempo a LGA: 56.9597381296468min\n",
      "64 Valor del percentil tiempo a LGA: 57.75708610356597min\n",
      "65 Valor del percentil tiempo a LGA: 58.568741899415855min\n",
      "66 Valor del percentil tiempo a LGA: 59.394535055636936min\n",
      "67 Valor del percentil tiempo a LGA: 60.23591209077845min\n",
      "68 Valor del percentil tiempo a LGA: 61.10602265003555min\n",
      "69 Valor del percentil tiempo a LGA: 62.00778721898513min\n",
      "70 Valor del percentil tiempo a LGA: 62.91170399234773min\n",
      "71 Valor del percentil tiempo a LGA: 63.85713037971772min\n",
      "72 Valor del percentil tiempo a LGA: 64.82005111778713min\n",
      "73 Valor del percentil tiempo a LGA: 65.81412332026018min\n",
      "74 Valor del percentil tiempo a LGA: 66.83530422525011min\n",
      "75 Valor del percentil tiempo a LGA: 67.90752200868486min\n",
      "76 Valor del percentil tiempo a LGA: 69.02615127596222min\n",
      "77 Valor del percentil tiempo a LGA: 70.16088872319092min\n",
      "78 Valor del percentil tiempo a LGA: 71.35360632869min\n",
      "79 Valor del percentil tiempo a LGA: 72.61035486178847min\n",
      "80 Valor del percentil tiempo a LGA: 73.91349557507547min\n",
      "81 Valor del percentil tiempo a LGA: 75.2897088870147min\n",
      "82 Valor del percentil tiempo a LGA: 76.73600382227566min\n",
      "83 Valor del percentil tiempo a LGA: 78.25420562114559min\n",
      "84 Valor del percentil tiempo a LGA: 79.82675298772298min\n",
      "85 Valor del percentil tiempo a LGA: 81.54246089022513min\n",
      "86 Valor del percentil tiempo a LGA: 83.36850300623965min\n",
      "87 Valor del percentil tiempo a LGA: 85.32974520896887min\n",
      "88 Valor del percentil tiempo a LGA: 87.40959621434709min\n",
      "89 Valor del percentil tiempo a LGA: 89.77226161506168min\n",
      "90 Valor del percentil tiempo a LGA: 92.24899721360508min\n",
      "91 Valor del percentil tiempo a LGA: 94.95912374760901min\n",
      "92 Valor del percentil tiempo a LGA: 98.0824332667703min\n",
      "93 Valor del percentil tiempo a LGA: 101.52575902348916min\n",
      "94 Valor del percentil tiempo a LGA: 105.57340249757932min\n",
      "95 Valor del percentil tiempo a LGA: 110.37165104485848min\n",
      "96 Valor del percentil tiempo a LGA: 116.18149115574334min\n",
      "97 Valor del percentil tiempo a LGA: 123.41407232899849min\n",
      "98 Valor del percentil tiempo a LGA: 133.64994965623902min\n",
      "99 Valor del percentil tiempo a LGA: 149.5729718961072min\n",
      "100 Valor del percentil tiempo a LGA: 3487.031804856261min\n"
     ]
    }
   ],
   "source": [
    "quantile_Tiempo_aeropuerto_LGA = dy3.Tiempo_aeropuerto_LGA.quantile(np.round(np.arange(0.00, 1.01, 0.01), 2))\n",
    "qValues = np.round(np.arange(0.01, 1.01, 0.01), 2)\n",
    "for i in qValues:\n",
    "    print(\"{} Valor del percentil tiempo a LGA: {}min\".format((int(i*100)), quantile_Tiempo_aeropuerto_LGA[i]))"
   ]
  },
  {
   "cell_type": "markdown",
   "metadata": {
    "colab_type": "text",
    "id": "VhqQiIIt4hEx"
   },
   "source": [
    "**18. Limpieza de datos erroneos bajo criterio porpio**"
   ]
  },
  {
   "cell_type": "code",
   "execution_count": 93,
   "metadata": {
    "colab": {
     "base_uri": "https://localhost:8080/",
     "height": 170
    },
    "colab_type": "code",
    "executionInfo": {
     "elapsed": 556,
     "status": "ok",
     "timestamp": 1558199971349,
     "user": {
      "displayName": "iago feliubadaló",
      "photoUrl": "https://lh6.googleusercontent.com/-g5vDNw1YDNI/AAAAAAAAAAI/AAAAAAAAAQU/Mw5sY3LeNvs/s64/photo.jpg",
      "userId": "13426049142450112585"
     },
     "user_tz": -120
    },
    "id": "F8bDsV_Y5wPc",
    "outputId": "2213a535-610a-4332-839b-22db5d2b2b68"
   },
   "outputs": [
    {
     "data": {
      "text/plain": [
       "count    922551.000000\n",
       "mean        124.098679\n",
       "std          61.155190\n",
       "min           2.430029\n",
       "25%          82.191990\n",
       "50%         112.446438\n",
       "75%         152.572782\n",
       "max         399.990063\n",
       "Name: Tiempo_aeropuerto_JFK, dtype: float64"
      ]
     },
     "execution_count": 93,
     "metadata": {
      "tags": []
     },
     "output_type": "execute_result"
    }
   ],
   "source": [
    "dy3['Tiempo_aeropuerto_JFK'].describe()"
   ]
  },
  {
   "cell_type": "code",
   "execution_count": 94,
   "metadata": {
    "colab": {
     "base_uri": "https://localhost:8080/",
     "height": 170
    },
    "colab_type": "code",
    "executionInfo": {
     "elapsed": 576,
     "status": "ok",
     "timestamp": 1558199973324,
     "user": {
      "displayName": "iago feliubadaló",
      "photoUrl": "https://lh6.googleusercontent.com/-g5vDNw1YDNI/AAAAAAAAAAI/AAAAAAAAAQU/Mw5sY3LeNvs/s64/photo.jpg",
      "userId": "13426049142450112585"
     },
     "user_tz": -120
    },
    "id": "Lhc9O1Dd5wHn",
    "outputId": "f08cb5dd-4a2d-499f-a48d-60f2b6c696d7"
   },
   "outputs": [
    {
     "data": {
      "text/plain": [
       "count    922551.000000\n",
       "mean         99.738133\n",
       "std          48.621289\n",
       "min           0.200236\n",
       "25%          66.001915\n",
       "50%          89.364484\n",
       "75%         121.527867\n",
       "max         396.551191\n",
       "Name: Tiempo_aeropuerto_EWR, dtype: float64"
      ]
     },
     "execution_count": 94,
     "metadata": {
      "tags": []
     },
     "output_type": "execute_result"
    }
   ],
   "source": [
    "dy3['Tiempo_aeropuerto_EWR'].describe()"
   ]
  },
  {
   "cell_type": "code",
   "execution_count": 95,
   "metadata": {
    "colab": {
     "base_uri": "https://localhost:8080/",
     "height": 170
    },
    "colab_type": "code",
    "executionInfo": {
     "elapsed": 554,
     "status": "ok",
     "timestamp": 1558199974943,
     "user": {
      "displayName": "iago feliubadaló",
      "photoUrl": "https://lh6.googleusercontent.com/-g5vDNw1YDNI/AAAAAAAAAAI/AAAAAAAAAQU/Mw5sY3LeNvs/s64/photo.jpg",
      "userId": "13426049142450112585"
     },
     "user_tz": -120
    },
    "id": "aMXMhvKb5qrr",
    "outputId": "3ab5a782-7492-4aea-8ce9-a3eefc4184a4"
   },
   "outputs": [
    {
     "data": {
      "text/plain": [
       "count    922551.000000\n",
       "mean         54.164684\n",
       "std          29.365304\n",
       "min           2.430101\n",
       "25%          33.728983\n",
       "50%          48.494146\n",
       "75%          68.532465\n",
       "max         311.542916\n",
       "Name: Tiempo_aeropuerto_LGA, dtype: float64"
      ]
     },
     "execution_count": 95,
     "metadata": {
      "tags": []
     },
     "output_type": "execute_result"
    }
   ],
   "source": [
    "dy3['Tiempo_aeropuerto_LGA'].describe()"
   ]
  },
  {
   "cell_type": "markdown",
   "metadata": {
    "colab_type": "text",
    "id": "KVpgpBSw9W2p"
   },
   "source": [
    "**19. Limpiamos los datos en base a la media, así en el cálculo posterior se obtiene la mejor hora para el tiempo medio que se tarda a cada aeropuerto.**"
   ]
  },
  {
   "cell_type": "code",
   "execution_count": 0,
   "metadata": {
    "colab": {},
    "colab_type": "code",
    "id": "11k4rCdl9JMH"
   },
   "outputs": [],
   "source": [
    "dy3 = dy3.drop(dy3[dy3['Tiempo_aeropuerto_JFK']<=0].index)\n",
    "dy3 = dy3.drop(dy3[dy3['Tiempo_aeropuerto_JFK']<=123].index)\n",
    "dy3 = dy3.drop(dy3[dy3['Tiempo_aeropuerto_JFK']>124].index)\n",
    "dy3 = dy3.drop(dy3[dy3['Tiempo_aeropuerto_EWR']<=0].index)\n",
    "dy3 = dy3.drop(dy3[dy3['Tiempo_aeropuerto_EWR']<=98].index)\n",
    "dy3 = dy3.drop(dy3[dy3['Tiempo_aeropuerto_EWR']>100].index)\n",
    "dy3 = dy3.drop(dy3[dy3['Tiempo_aeropuerto_LGA']<=0].index)\n",
    "dy3 = dy3.drop(dy3[dy3['Tiempo_aeropuerto_LGA']<=53].index)\n",
    "dy3 = dy3.drop(dy3[dy3['Tiempo_aeropuerto_LGA']>54].index)"
   ]
  },
  {
   "cell_type": "code",
   "execution_count": 0,
   "metadata": {
    "colab": {},
    "colab_type": "code",
    "id": "W2WUswjIz4T0"
   },
   "outputs": [],
   "source": [
    "best_hour_JFK = dy3[dy3['Tiempo_aeropuerto_JFK'] ==  np.min(dy3['Tiempo_aeropuerto_JFK'])]\n",
    "best_hour_EWR = dy3[dy3['Tiempo_aeropuerto_EWR'] ==  np.min(dy3['Tiempo_aeropuerto_EWR'])]\n",
    "best_hour_LGA = dy3[dy3['Tiempo_aeropuerto_LGA'] ==  np.min(dy3['Tiempo_aeropuerto_LGA'])]"
   ]
  },
  {
   "cell_type": "markdown",
   "metadata": {
    "colab_type": "text",
    "id": "IdAXjRer4nVC"
   },
   "source": [
    "**20. Resultados de mejor hora para viajar al aeropuerto**"
   ]
  },
  {
   "cell_type": "code",
   "execution_count": 98,
   "metadata": {
    "colab": {
     "base_uri": "https://localhost:8080/",
     "height": 323
    },
    "colab_type": "code",
    "executionInfo": {
     "elapsed": 599,
     "status": "ok",
     "timestamp": 1558200008426,
     "user": {
      "displayName": "iago feliubadaló",
      "photoUrl": "https://lh6.googleusercontent.com/-g5vDNw1YDNI/AAAAAAAAAAI/AAAAAAAAAQU/Mw5sY3LeNvs/s64/photo.jpg",
      "userId": "13426049142450112585"
     },
     "user_tz": -120
    },
    "id": "dtj9FDGb2LUi",
    "outputId": "586b2ee8-d8ca-48ad-b028-0c16b5577b5d"
   },
   "outputs": [
    {
     "name": "stdout",
     "output_type": "stream",
     "text": [
      "902396    14\n",
      "Name: hour, dtype: int64\n",
      "902396    123.053722\n",
      "Name: Tiempo_aeropuerto_JFK, dtype: float64\n",
      "902396    1.83\n",
      "Name: trip_distance, dtype: float64\n",
      "488522    22\n",
      "Name: hour, dtype: int64\n",
      "488522    98.236307\n",
      "Name: Tiempo_aeropuerto_EWR, dtype: float64\n",
      "488522    1.33\n",
      "Name: trip_distance, dtype: float64\n",
      "775871    21\n",
      "Name: hour, dtype: int64\n",
      "775871    53.228888\n",
      "Name: Tiempo_aeropuerto_LGA, dtype: float64\n",
      "775871    1.0\n",
      "Name: trip_distance, dtype: float64\n"
     ]
    }
   ],
   "source": [
    "print(best_hour_JFK['hour'])\n",
    "print(best_hour_JFK['Tiempo_aeropuerto_JFK'])\n",
    "print(best_hour_JFK['trip_distance'])\n",
    "print(best_hour_EWR['hour'])\n",
    "print(best_hour_EWR['Tiempo_aeropuerto_EWR'])\n",
    "print(best_hour_EWR['trip_distance'])\n",
    "print(best_hour_LGA['hour'])\n",
    "print(best_hour_LGA['Tiempo_aeropuerto_LGA'])\n",
    "print(best_hour_LGA['trip_distance'])"
   ]
  },
  {
   "cell_type": "code",
   "execution_count": 0,
   "metadata": {
    "colab": {},
    "colab_type": "code",
    "id": "m_VX808F8qYM"
   },
   "outputs": [],
   "source": []
  }
 ],
 "metadata": {
  "colab": {
   "collapsed_sections": [],
   "name": "3.2 Análisis predictivo.ipynb",
   "provenance": [],
   "version": "0.3.2"
  },
  "kernelspec": {
   "display_name": "Python 3",
   "language": "python",
   "name": "python3"
  },
  "language_info": {
   "codemirror_mode": {
    "name": "ipython",
    "version": 3
   },
   "file_extension": ".py",
   "mimetype": "text/x-python",
   "name": "python",
   "nbconvert_exporter": "python",
   "pygments_lexer": "ipython3",
   "version": "3.7.1"
  }
 },
 "nbformat": 4,
 "nbformat_minor": 1
}
