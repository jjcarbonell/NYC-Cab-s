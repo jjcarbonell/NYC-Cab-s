{
 "cells": [
  {
   "cell_type": "markdown",
   "metadata": {
    "colab_type": "text",
    "id": "zfuPG8nLMIF7"
   },
   "source": [
    "# 1. ANÁLISIS CUANTITATIVO."
   ]
  },
  {
   "cell_type": "markdown",
   "metadata": {
    "colab_type": "text",
    "id": "_mMd1qIcMLIq"
   },
   "source": [
    "## 1.1 Primer examen preliminar del dataset. ¿Qué parámetros hay en el dataset? ¿Cuál es su significado? ¿Existen valores aparentemente incorrectos? "
   ]
  },
  {
   "cell_type": "markdown",
   "metadata": {
    "colab_type": "text",
    "id": "rIHAtaAGA68Q"
   },
   "source": [
    "**1. Importar librerías**"
   ]
  },
  {
   "cell_type": "code",
   "execution_count": 2,
   "metadata": {
    "colab": {},
    "colab_type": "code",
    "id": "oieI8l7fAnX3"
   },
   "outputs": [],
   "source": [
    "import pandas as pd\n",
    "import numpy as np"
   ]
  },
  {
   "cell_type": "markdown",
   "metadata": {
    "colab_type": "text",
    "id": "WdC7fUPjA_SX"
   },
   "source": [
    "**2. Leer datos GREEN**"
   ]
  },
  {
   "cell_type": "markdown",
   "metadata": {},
   "source": [
    "### Datos\n",
    "\n",
    "Tenemos datos de los taxis verdes, de los meses de Marzo y Abril del año 2015.\n",
    "\n",
    "<table>\n",
    "    <tr>\n",
    "        <th>Nombre del archivo</th>\n",
    "        <th>Tamaño del archivo</th>\n",
    "        <th>Variables</th>\n",
    "        </tr>\n",
    "    <tr>\n",
    "        <td> green_tripdata_2015-03</td>\n",
    "        <td> 265 MB </td>\n",
    "        <td> 20 </td>\n",
    "    </tr>\n",
    "    <tr>\n",
    "        <td> green_tripdata_2015-04</td>\n",
    "        <td> 256 MB </td>\n",
    "        <td> 20 </td>\n",
    "    </tr>"
   ]
  },
  {
   "cell_type": "code",
   "execution_count": 26,
   "metadata": {
    "colab": {},
    "colab_type": "code",
    "id": "vbq3BicvAnX6"
   },
   "outputs": [],
   "source": [
    "dg3 = pd.read_csv('C:/MBD/datos/green_tripdata_2015-03.csv', usecols=[0,1,2,3,4,5,6,7,8,9,10,11,12,13,14,15,16,17,18,19,20])\n",
    "dg4 = pd.read_csv('C:/MBD/datos/green_tripdata_2015-04.csv', usecols=[0,1,2,3,4,5,6,7,8,9,10,11,12,13,14,15,16,17,18,19,20])"
   ]
  },
  {
   "cell_type": "markdown",
   "metadata": {
    "colab_type": "text",
    "id": "BssGS-eJBBWm"
   },
   "source": [
    "**3. Head de datos, visualización primeras filas**"
   ]
  },
  {
   "cell_type": "code",
   "execution_count": 27,
   "metadata": {},
   "outputs": [
    {
     "data": {
      "text/html": [
       "<div>\n",
       "<style scoped>\n",
       "    .dataframe tbody tr th:only-of-type {\n",
       "        vertical-align: middle;\n",
       "    }\n",
       "\n",
       "    .dataframe tbody tr th {\n",
       "        vertical-align: top;\n",
       "    }\n",
       "\n",
       "    .dataframe thead th {\n",
       "        text-align: right;\n",
       "    }\n",
       "</style>\n",
       "<table border=\"1\" class=\"dataframe\">\n",
       "  <thead>\n",
       "    <tr style=\"text-align: right;\">\n",
       "      <th></th>\n",
       "      <th>VendorID</th>\n",
       "      <th>lpep_pickup_datetime</th>\n",
       "      <th>Lpep_dropoff_datetime</th>\n",
       "      <th>Store_and_fwd_flag</th>\n",
       "      <th>RateCodeID</th>\n",
       "      <th>Pickup_longitude</th>\n",
       "      <th>Pickup_latitude</th>\n",
       "      <th>Dropoff_longitude</th>\n",
       "      <th>Dropoff_latitude</th>\n",
       "      <th>Passenger_count</th>\n",
       "      <th>...</th>\n",
       "      <th>Fare_amount</th>\n",
       "      <th>Extra</th>\n",
       "      <th>MTA_tax</th>\n",
       "      <th>Tip_amount</th>\n",
       "      <th>Tolls_amount</th>\n",
       "      <th>Ehail_fee</th>\n",
       "      <th>improvement_surcharge</th>\n",
       "      <th>Total_amount</th>\n",
       "      <th>Payment_type</th>\n",
       "      <th>Trip_type</th>\n",
       "    </tr>\n",
       "  </thead>\n",
       "  <tbody>\n",
       "    <tr>\n",
       "      <th>0</th>\n",
       "      <td>1</td>\n",
       "      <td>2015-03-01 00:02:05</td>\n",
       "      <td>2015-03-01 00:08:01</td>\n",
       "      <td>N</td>\n",
       "      <td>1</td>\n",
       "      <td>-73.961479</td>\n",
       "      <td>40.801872</td>\n",
       "      <td>-73.980721</td>\n",
       "      <td>40.775055</td>\n",
       "      <td>1</td>\n",
       "      <td>...</td>\n",
       "      <td>8.0</td>\n",
       "      <td>0.5</td>\n",
       "      <td>0.5</td>\n",
       "      <td>0.0</td>\n",
       "      <td>0.0</td>\n",
       "      <td>NaN</td>\n",
       "      <td>0.3</td>\n",
       "      <td>9.3</td>\n",
       "      <td>1</td>\n",
       "      <td>1.0</td>\n",
       "    </tr>\n",
       "    <tr>\n",
       "      <th>1</th>\n",
       "      <td>1</td>\n",
       "      <td>2015-03-01 00:02:11</td>\n",
       "      <td>2015-03-01 00:27:09</td>\n",
       "      <td>N</td>\n",
       "      <td>1</td>\n",
       "      <td>-73.979759</td>\n",
       "      <td>40.677467</td>\n",
       "      <td>-74.017097</td>\n",
       "      <td>40.710930</td>\n",
       "      <td>1</td>\n",
       "      <td>...</td>\n",
       "      <td>20.0</td>\n",
       "      <td>0.5</td>\n",
       "      <td>0.5</td>\n",
       "      <td>4.0</td>\n",
       "      <td>0.0</td>\n",
       "      <td>NaN</td>\n",
       "      <td>0.3</td>\n",
       "      <td>25.3</td>\n",
       "      <td>1</td>\n",
       "      <td>1.0</td>\n",
       "    </tr>\n",
       "    <tr>\n",
       "      <th>2</th>\n",
       "      <td>2</td>\n",
       "      <td>2015-03-01 00:02:07</td>\n",
       "      <td>2015-03-01 00:10:31</td>\n",
       "      <td>N</td>\n",
       "      <td>1</td>\n",
       "      <td>-73.941376</td>\n",
       "      <td>40.833633</td>\n",
       "      <td>-73.926689</td>\n",
       "      <td>40.863411</td>\n",
       "      <td>1</td>\n",
       "      <td>...</td>\n",
       "      <td>11.0</td>\n",
       "      <td>0.5</td>\n",
       "      <td>0.5</td>\n",
       "      <td>0.0</td>\n",
       "      <td>0.0</td>\n",
       "      <td>NaN</td>\n",
       "      <td>0.3</td>\n",
       "      <td>12.3</td>\n",
       "      <td>2</td>\n",
       "      <td>1.0</td>\n",
       "    </tr>\n",
       "    <tr>\n",
       "      <th>3</th>\n",
       "      <td>1</td>\n",
       "      <td>2015-03-01 00:02:13</td>\n",
       "      <td>2015-03-01 00:09:09</td>\n",
       "      <td>N</td>\n",
       "      <td>1</td>\n",
       "      <td>-73.939674</td>\n",
       "      <td>40.821152</td>\n",
       "      <td>-73.931854</td>\n",
       "      <td>40.846458</td>\n",
       "      <td>1</td>\n",
       "      <td>...</td>\n",
       "      <td>8.5</td>\n",
       "      <td>0.5</td>\n",
       "      <td>0.5</td>\n",
       "      <td>0.0</td>\n",
       "      <td>0.0</td>\n",
       "      <td>NaN</td>\n",
       "      <td>0.3</td>\n",
       "      <td>9.8</td>\n",
       "      <td>4</td>\n",
       "      <td>1.0</td>\n",
       "    </tr>\n",
       "    <tr>\n",
       "      <th>4</th>\n",
       "      <td>2</td>\n",
       "      <td>2015-03-01 00:02:18</td>\n",
       "      <td>2015-03-01 00:07:52</td>\n",
       "      <td>N</td>\n",
       "      <td>1</td>\n",
       "      <td>-73.957344</td>\n",
       "      <td>40.712959</td>\n",
       "      <td>-73.954796</td>\n",
       "      <td>40.719650</td>\n",
       "      <td>6</td>\n",
       "      <td>...</td>\n",
       "      <td>5.5</td>\n",
       "      <td>0.5</td>\n",
       "      <td>0.5</td>\n",
       "      <td>1.0</td>\n",
       "      <td>0.0</td>\n",
       "      <td>NaN</td>\n",
       "      <td>0.3</td>\n",
       "      <td>7.8</td>\n",
       "      <td>1</td>\n",
       "      <td>1.0</td>\n",
       "    </tr>\n",
       "  </tbody>\n",
       "</table>\n",
       "<p>5 rows × 21 columns</p>\n",
       "</div>"
      ],
      "text/plain": [
       "   VendorID lpep_pickup_datetime Lpep_dropoff_datetime Store_and_fwd_flag  \\\n",
       "0         1  2015-03-01 00:02:05   2015-03-01 00:08:01                  N   \n",
       "1         1  2015-03-01 00:02:11   2015-03-01 00:27:09                  N   \n",
       "2         2  2015-03-01 00:02:07   2015-03-01 00:10:31                  N   \n",
       "3         1  2015-03-01 00:02:13   2015-03-01 00:09:09                  N   \n",
       "4         2  2015-03-01 00:02:18   2015-03-01 00:07:52                  N   \n",
       "\n",
       "   RateCodeID  Pickup_longitude  Pickup_latitude  Dropoff_longitude  \\\n",
       "0           1        -73.961479        40.801872         -73.980721   \n",
       "1           1        -73.979759        40.677467         -74.017097   \n",
       "2           1        -73.941376        40.833633         -73.926689   \n",
       "3           1        -73.939674        40.821152         -73.931854   \n",
       "4           1        -73.957344        40.712959         -73.954796   \n",
       "\n",
       "   Dropoff_latitude  Passenger_count    ...      Fare_amount  Extra  MTA_tax  \\\n",
       "0         40.775055                1    ...              8.0    0.5      0.5   \n",
       "1         40.710930                1    ...             20.0    0.5      0.5   \n",
       "2         40.863411                1    ...             11.0    0.5      0.5   \n",
       "3         40.846458                1    ...              8.5    0.5      0.5   \n",
       "4         40.719650                6    ...              5.5    0.5      0.5   \n",
       "\n",
       "   Tip_amount  Tolls_amount  Ehail_fee  improvement_surcharge  Total_amount  \\\n",
       "0         0.0           0.0        NaN                    0.3           9.3   \n",
       "1         4.0           0.0        NaN                    0.3          25.3   \n",
       "2         0.0           0.0        NaN                    0.3          12.3   \n",
       "3         0.0           0.0        NaN                    0.3           9.8   \n",
       "4         1.0           0.0        NaN                    0.3           7.8   \n",
       "\n",
       "   Payment_type  Trip_type  \n",
       "0             1        1.0  \n",
       "1             1        1.0  \n",
       "2             2        1.0  \n",
       "3             4        1.0  \n",
       "4             1        1.0  \n",
       "\n",
       "[5 rows x 21 columns]"
      ]
     },
     "execution_count": 27,
     "metadata": {},
     "output_type": "execute_result"
    }
   ],
   "source": [
    "dg3.head()"
   ]
  },
  {
   "cell_type": "code",
   "execution_count": 28,
   "metadata": {
    "colab": {},
    "colab_type": "code",
    "id": "pT0S96noAnX8",
    "outputId": "3695e852-f218-4a9c-a98b-4302e4bd85b3"
   },
   "outputs": [
    {
     "data": {
      "text/html": [
       "<div>\n",
       "<style scoped>\n",
       "    .dataframe tbody tr th:only-of-type {\n",
       "        vertical-align: middle;\n",
       "    }\n",
       "\n",
       "    .dataframe tbody tr th {\n",
       "        vertical-align: top;\n",
       "    }\n",
       "\n",
       "    .dataframe thead th {\n",
       "        text-align: right;\n",
       "    }\n",
       "</style>\n",
       "<table border=\"1\" class=\"dataframe\">\n",
       "  <thead>\n",
       "    <tr style=\"text-align: right;\">\n",
       "      <th></th>\n",
       "      <th>VendorID</th>\n",
       "      <th>lpep_pickup_datetime</th>\n",
       "      <th>Lpep_dropoff_datetime</th>\n",
       "      <th>Store_and_fwd_flag</th>\n",
       "      <th>RateCodeID</th>\n",
       "      <th>Pickup_longitude</th>\n",
       "      <th>Pickup_latitude</th>\n",
       "      <th>Dropoff_longitude</th>\n",
       "      <th>Dropoff_latitude</th>\n",
       "      <th>Passenger_count</th>\n",
       "      <th>...</th>\n",
       "      <th>Fare_amount</th>\n",
       "      <th>Extra</th>\n",
       "      <th>MTA_tax</th>\n",
       "      <th>Tip_amount</th>\n",
       "      <th>Tolls_amount</th>\n",
       "      <th>Ehail_fee</th>\n",
       "      <th>improvement_surcharge</th>\n",
       "      <th>Total_amount</th>\n",
       "      <th>Payment_type</th>\n",
       "      <th>Trip_type</th>\n",
       "    </tr>\n",
       "  </thead>\n",
       "  <tbody>\n",
       "    <tr>\n",
       "      <th>0</th>\n",
       "      <td>2</td>\n",
       "      <td>2015-04-01 00:00:00</td>\n",
       "      <td>2015-04-01 00:08:15</td>\n",
       "      <td>N</td>\n",
       "      <td>1</td>\n",
       "      <td>-73.958817</td>\n",
       "      <td>40.716824</td>\n",
       "      <td>-73.982971</td>\n",
       "      <td>40.696007</td>\n",
       "      <td>1</td>\n",
       "      <td>...</td>\n",
       "      <td>11.0</td>\n",
       "      <td>0.5</td>\n",
       "      <td>0.5</td>\n",
       "      <td>2.46</td>\n",
       "      <td>0.0</td>\n",
       "      <td>NaN</td>\n",
       "      <td>0.3</td>\n",
       "      <td>14.76</td>\n",
       "      <td>1</td>\n",
       "      <td>1.0</td>\n",
       "    </tr>\n",
       "    <tr>\n",
       "      <th>1</th>\n",
       "      <td>2</td>\n",
       "      <td>2015-04-01 00:00:04</td>\n",
       "      <td>2015-04-01 00:07:33</td>\n",
       "      <td>N</td>\n",
       "      <td>1</td>\n",
       "      <td>-73.937531</td>\n",
       "      <td>40.804501</td>\n",
       "      <td>-73.946800</td>\n",
       "      <td>40.815998</td>\n",
       "      <td>1</td>\n",
       "      <td>...</td>\n",
       "      <td>7.0</td>\n",
       "      <td>0.5</td>\n",
       "      <td>0.5</td>\n",
       "      <td>0.00</td>\n",
       "      <td>0.0</td>\n",
       "      <td>NaN</td>\n",
       "      <td>0.3</td>\n",
       "      <td>8.30</td>\n",
       "      <td>2</td>\n",
       "      <td>1.0</td>\n",
       "    </tr>\n",
       "    <tr>\n",
       "      <th>2</th>\n",
       "      <td>2</td>\n",
       "      <td>2015-04-01 00:00:09</td>\n",
       "      <td>2015-04-01 00:02:10</td>\n",
       "      <td>N</td>\n",
       "      <td>1</td>\n",
       "      <td>-73.955818</td>\n",
       "      <td>40.681152</td>\n",
       "      <td>-73.955406</td>\n",
       "      <td>40.687145</td>\n",
       "      <td>1</td>\n",
       "      <td>...</td>\n",
       "      <td>4.0</td>\n",
       "      <td>0.5</td>\n",
       "      <td>0.5</td>\n",
       "      <td>0.70</td>\n",
       "      <td>0.0</td>\n",
       "      <td>NaN</td>\n",
       "      <td>0.3</td>\n",
       "      <td>6.00</td>\n",
       "      <td>1</td>\n",
       "      <td>1.0</td>\n",
       "    </tr>\n",
       "    <tr>\n",
       "      <th>3</th>\n",
       "      <td>2</td>\n",
       "      <td>2015-04-01 00:00:23</td>\n",
       "      <td>2015-04-01 00:05:16</td>\n",
       "      <td>N</td>\n",
       "      <td>1</td>\n",
       "      <td>-73.830551</td>\n",
       "      <td>40.759460</td>\n",
       "      <td>-73.825363</td>\n",
       "      <td>40.741589</td>\n",
       "      <td>1</td>\n",
       "      <td>...</td>\n",
       "      <td>6.5</td>\n",
       "      <td>0.5</td>\n",
       "      <td>0.5</td>\n",
       "      <td>0.00</td>\n",
       "      <td>0.0</td>\n",
       "      <td>NaN</td>\n",
       "      <td>0.3</td>\n",
       "      <td>7.80</td>\n",
       "      <td>2</td>\n",
       "      <td>1.0</td>\n",
       "    </tr>\n",
       "    <tr>\n",
       "      <th>4</th>\n",
       "      <td>2</td>\n",
       "      <td>2015-04-01 00:00:25</td>\n",
       "      <td>2015-04-01 00:05:20</td>\n",
       "      <td>N</td>\n",
       "      <td>1</td>\n",
       "      <td>-73.912086</td>\n",
       "      <td>40.775356</td>\n",
       "      <td>-73.915474</td>\n",
       "      <td>40.764091</td>\n",
       "      <td>1</td>\n",
       "      <td>...</td>\n",
       "      <td>6.0</td>\n",
       "      <td>0.5</td>\n",
       "      <td>0.5</td>\n",
       "      <td>0.00</td>\n",
       "      <td>0.0</td>\n",
       "      <td>NaN</td>\n",
       "      <td>0.3</td>\n",
       "      <td>7.30</td>\n",
       "      <td>2</td>\n",
       "      <td>1.0</td>\n",
       "    </tr>\n",
       "  </tbody>\n",
       "</table>\n",
       "<p>5 rows × 21 columns</p>\n",
       "</div>"
      ],
      "text/plain": [
       "   VendorID lpep_pickup_datetime Lpep_dropoff_datetime Store_and_fwd_flag  \\\n",
       "0         2  2015-04-01 00:00:00   2015-04-01 00:08:15                  N   \n",
       "1         2  2015-04-01 00:00:04   2015-04-01 00:07:33                  N   \n",
       "2         2  2015-04-01 00:00:09   2015-04-01 00:02:10                  N   \n",
       "3         2  2015-04-01 00:00:23   2015-04-01 00:05:16                  N   \n",
       "4         2  2015-04-01 00:00:25   2015-04-01 00:05:20                  N   \n",
       "\n",
       "   RateCodeID  Pickup_longitude  Pickup_latitude  Dropoff_longitude  \\\n",
       "0           1        -73.958817        40.716824         -73.982971   \n",
       "1           1        -73.937531        40.804501         -73.946800   \n",
       "2           1        -73.955818        40.681152         -73.955406   \n",
       "3           1        -73.830551        40.759460         -73.825363   \n",
       "4           1        -73.912086        40.775356         -73.915474   \n",
       "\n",
       "   Dropoff_latitude  Passenger_count    ...      Fare_amount  Extra  MTA_tax  \\\n",
       "0         40.696007                1    ...             11.0    0.5      0.5   \n",
       "1         40.815998                1    ...              7.0    0.5      0.5   \n",
       "2         40.687145                1    ...              4.0    0.5      0.5   \n",
       "3         40.741589                1    ...              6.5    0.5      0.5   \n",
       "4         40.764091                1    ...              6.0    0.5      0.5   \n",
       "\n",
       "   Tip_amount  Tolls_amount  Ehail_fee  improvement_surcharge  Total_amount  \\\n",
       "0        2.46           0.0        NaN                    0.3         14.76   \n",
       "1        0.00           0.0        NaN                    0.3          8.30   \n",
       "2        0.70           0.0        NaN                    0.3          6.00   \n",
       "3        0.00           0.0        NaN                    0.3          7.80   \n",
       "4        0.00           0.0        NaN                    0.3          7.30   \n",
       "\n",
       "   Payment_type  Trip_type  \n",
       "0             1        1.0  \n",
       "1             2        1.0  \n",
       "2             1        1.0  \n",
       "3             2        1.0  \n",
       "4             2        1.0  \n",
       "\n",
       "[5 rows x 21 columns]"
      ]
     },
     "execution_count": 28,
     "metadata": {},
     "output_type": "execute_result"
    }
   ],
   "source": [
    "dg4.head()"
   ]
  },
  {
   "cell_type": "markdown",
   "metadata": {
    "colab_type": "text",
    "id": "xq5XCasKBOrY"
   },
   "source": [
    "**5. Descripción columna Ethail Fee y posterior eliminación**"
   ]
  },
  {
   "cell_type": "code",
   "execution_count": 30,
   "metadata": {
    "colab": {},
    "colab_type": "code",
    "id": "SDYpMwRWAnYD",
    "outputId": "89bd95de-59e8-4375-bad0-77b71f73d367"
   },
   "outputs": [
    {
     "data": {
      "text/plain": [
       "count    0.0\n",
       "mean     NaN\n",
       "std      NaN\n",
       "min      NaN\n",
       "25%      NaN\n",
       "50%      NaN\n",
       "75%      NaN\n",
       "max      NaN\n",
       "Name: Ehail_fee, dtype: float64"
      ]
     },
     "execution_count": 30,
     "metadata": {},
     "output_type": "execute_result"
    }
   ],
   "source": [
    "dg3['Ehail_fee'].describe()"
   ]
  },
  {
   "cell_type": "code",
   "execution_count": 31,
   "metadata": {},
   "outputs": [
    {
     "data": {
      "text/plain": [
       "count    0.0\n",
       "mean     NaN\n",
       "std      NaN\n",
       "min      NaN\n",
       "25%      NaN\n",
       "50%      NaN\n",
       "75%      NaN\n",
       "max      NaN\n",
       "Name: Ehail_fee, dtype: float64"
      ]
     },
     "execution_count": 31,
     "metadata": {},
     "output_type": "execute_result"
    }
   ],
   "source": [
    "dg4['Ehail_fee'].describe()"
   ]
  },
  {
   "cell_type": "code",
   "execution_count": 32,
   "metadata": {
    "colab": {},
    "colab_type": "code",
    "id": "igZfHfFcAnYF"
   },
   "outputs": [],
   "source": [
    "dg3 = dg3.drop(\"Ehail_fee\",1)"
   ]
  },
  {
   "cell_type": "code",
   "execution_count": 33,
   "metadata": {},
   "outputs": [],
   "source": [
    "dg4 = dg4.drop(\"Ehail_fee\",1)"
   ]
  },
  {
   "cell_type": "markdown",
   "metadata": {
    "colab_type": "text",
    "id": "gD22M2_SBYyx"
   },
   "source": [
    "**6. Descripción columna Total amount y posterior corrección**"
   ]
  },
  {
   "cell_type": "code",
   "execution_count": 34,
   "metadata": {
    "colab": {},
    "colab_type": "code",
    "id": "tr5vK36BAnYH",
    "outputId": "3e1837e5-0116-4ee4-f9b4-96dfde44a931"
   },
   "outputs": [
    {
     "data": {
      "text/plain": [
       "count    1.722574e+06\n",
       "mean     1.457680e+01\n",
       "std      1.383678e+01\n",
       "min     -4.950000e+02\n",
       "25%      7.800000e+00\n",
       "50%      1.130000e+01\n",
       "75%      1.730000e+01\n",
       "max      5.660100e+03\n",
       "Name: Total_amount, dtype: float64"
      ]
     },
     "execution_count": 34,
     "metadata": {},
     "output_type": "execute_result"
    }
   ],
   "source": [
    "dg3['Total_amount'].describe()"
   ]
  },
  {
   "cell_type": "code",
   "execution_count": 35,
   "metadata": {
    "colab": {},
    "colab_type": "code",
    "id": "YtVEloPuAnYJ"
   },
   "outputs": [],
   "source": [
    "dg3 = dg3.drop(dg3[dg3['Total_amount']<=0].index)"
   ]
  },
  {
   "cell_type": "code",
   "execution_count": 36,
   "metadata": {
    "colab": {},
    "colab_type": "code",
    "id": "jLgdIp3rAnYL",
    "outputId": "b66cd234-3015-4d34-c69e-d37f2d561bbb"
   },
   "outputs": [
    {
     "data": {
      "text/plain": [
       "count    1.664394e+06\n",
       "mean     1.481462e+01\n",
       "std      1.279907e+01\n",
       "min     -4.990000e+02\n",
       "25%      7.880000e+00\n",
       "50%      1.130000e+01\n",
       "75%      1.780000e+01\n",
       "max      4.035460e+03\n",
       "Name: Total_amount, dtype: float64"
      ]
     },
     "execution_count": 36,
     "metadata": {},
     "output_type": "execute_result"
    }
   ],
   "source": [
    "dg4['Total_amount'].describe()"
   ]
  },
  {
   "cell_type": "code",
   "execution_count": 37,
   "metadata": {},
   "outputs": [],
   "source": [
    "dg4 = dg4.drop(dg4[dg4['Total_amount']<=0].index)"
   ]
  },
  {
   "cell_type": "markdown",
   "metadata": {
    "colab_type": "text",
    "id": "U53kMYxeBevR"
   },
   "source": [
    "**7. Eliminar datos fuera de rango de latitud y longitud**"
   ]
  },
  {
   "cell_type": "code",
   "execution_count": 38,
   "metadata": {
    "colab": {},
    "colab_type": "code",
    "id": "KNpg4x6SAnYP"
   },
   "outputs": [],
   "source": [
    "dg3 = dg3.drop(dg3[dg3['Pickup_latitude']<40.49].index)\n",
    "dg3 = dg3.drop(dg3[dg3['Pickup_latitude']>40.92].index)\n",
    "dg3 = dg3.drop(dg3[dg3['Pickup_longitude']<-74.27].index)\n",
    "dg3 = dg3.drop(dg3[dg3['Pickup_longitude']>-73.68].index)\n",
    "dg3 = dg3.drop(dg3[dg3['Dropoff_latitude']<40.49].index)\n",
    "dg3 = dg3.drop(dg3[dg3['Dropoff_latitude']>40.92].index)\n",
    "dg3 = dg3.drop(dg3[dg3['Dropoff_longitude']<-74.27].index)\n",
    "dg3 = dg3.drop(dg3[dg3['Dropoff_longitude']>-73.68].index)"
   ]
  },
  {
   "cell_type": "code",
   "execution_count": 39,
   "metadata": {
    "colab": {},
    "colab_type": "code",
    "id": "-DUf9s0bAnYS",
    "outputId": "7d551408-1952-421f-a1a5-3f2465e73c83"
   },
   "outputs": [
    {
     "data": {
      "text/plain": [
       "count    1.708997e+06\n",
       "mean     4.075133e+01\n",
       "std      5.870824e-02\n",
       "min      4.052623e+01\n",
       "25%      4.070020e+01\n",
       "50%      4.074707e+01\n",
       "75%      4.080484e+01\n",
       "max      4.091994e+01\n",
       "Name: Pickup_latitude, dtype: float64"
      ]
     },
     "execution_count": 39,
     "metadata": {},
     "output_type": "execute_result"
    }
   ],
   "source": [
    "dg3['Pickup_latitude'].describe()"
   ]
  },
  {
   "cell_type": "code",
   "execution_count": 40,
   "metadata": {
    "colab": {},
    "colab_type": "code",
    "id": "yqCtSamsAnYV",
    "outputId": "50477cff-cf4d-4011-b750-6787a508ed4f"
   },
   "outputs": [
    {
     "data": {
      "text/plain": [
       "count    1.708997e+06\n",
       "mean    -7.393423e+01\n",
       "std      4.184253e-02\n",
       "min     -7.425551e+01\n",
       "25%     -7.395856e+01\n",
       "50%     -7.394429e+01\n",
       "75%     -7.391526e+01\n",
       "max     -7.368068e+01\n",
       "Name: Pickup_longitude, dtype: float64"
      ]
     },
     "execution_count": 40,
     "metadata": {},
     "output_type": "execute_result"
    }
   ],
   "source": [
    "dg3['Pickup_longitude'].describe()"
   ]
  },
  {
   "cell_type": "code",
   "execution_count": 41,
   "metadata": {
    "colab": {},
    "colab_type": "code",
    "id": "uROz5iXMAnYg",
    "outputId": "057aacd2-6600-4e3d-ede6-6b414e76bfd0"
   },
   "outputs": [
    {
     "data": {
      "text/plain": [
       "count    1.708997e+06\n",
       "mean     4.074951e+01\n",
       "std      5.933959e-02\n",
       "min      4.050867e+01\n",
       "25%      4.070168e+01\n",
       "50%      4.074917e+01\n",
       "75%      4.079758e+01\n",
       "max      4.092000e+01\n",
       "Name: Dropoff_latitude, dtype: float64"
      ]
     },
     "execution_count": 41,
     "metadata": {},
     "output_type": "execute_result"
    }
   ],
   "source": [
    "dg3['Dropoff_latitude'].describe()"
   ]
  },
  {
   "cell_type": "code",
   "execution_count": 43,
   "metadata": {
    "colab": {},
    "colab_type": "code",
    "id": "N0nI4agiAnYq",
    "outputId": "480ac0e5-ba09-4df6-8946-3f1aa9e5d27b"
   },
   "outputs": [
    {
     "data": {
      "text/html": [
       "<div>\n",
       "<style scoped>\n",
       "    .dataframe tbody tr th:only-of-type {\n",
       "        vertical-align: middle;\n",
       "    }\n",
       "\n",
       "    .dataframe tbody tr th {\n",
       "        vertical-align: top;\n",
       "    }\n",
       "\n",
       "    .dataframe thead th {\n",
       "        text-align: right;\n",
       "    }\n",
       "</style>\n",
       "<table border=\"1\" class=\"dataframe\">\n",
       "  <thead>\n",
       "    <tr style=\"text-align: right;\">\n",
       "      <th></th>\n",
       "      <th>VendorID</th>\n",
       "      <th>lpep_pickup_datetime</th>\n",
       "      <th>Lpep_dropoff_datetime</th>\n",
       "      <th>Store_and_fwd_flag</th>\n",
       "      <th>RateCodeID</th>\n",
       "      <th>Pickup_longitude</th>\n",
       "      <th>Pickup_latitude</th>\n",
       "      <th>Dropoff_longitude</th>\n",
       "      <th>Dropoff_latitude</th>\n",
       "      <th>Passenger_count</th>\n",
       "      <th>Trip_distance</th>\n",
       "      <th>Fare_amount</th>\n",
       "      <th>Extra</th>\n",
       "      <th>MTA_tax</th>\n",
       "      <th>Tip_amount</th>\n",
       "      <th>Tolls_amount</th>\n",
       "      <th>improvement_surcharge</th>\n",
       "      <th>Total_amount</th>\n",
       "      <th>Payment_type</th>\n",
       "      <th>Trip_type</th>\n",
       "    </tr>\n",
       "  </thead>\n",
       "  <tbody>\n",
       "    <tr>\n",
       "      <th>0</th>\n",
       "      <td>1</td>\n",
       "      <td>2015-03-01 00:02:05</td>\n",
       "      <td>2015-03-01 00:08:01</td>\n",
       "      <td>N</td>\n",
       "      <td>1</td>\n",
       "      <td>-73.961479</td>\n",
       "      <td>40.801872</td>\n",
       "      <td>-73.980721</td>\n",
       "      <td>40.775055</td>\n",
       "      <td>1</td>\n",
       "      <td>2.10</td>\n",
       "      <td>8.0</td>\n",
       "      <td>0.5</td>\n",
       "      <td>0.5</td>\n",
       "      <td>0.0</td>\n",
       "      <td>0.0</td>\n",
       "      <td>0.3</td>\n",
       "      <td>9.3</td>\n",
       "      <td>1</td>\n",
       "      <td>1.0</td>\n",
       "    </tr>\n",
       "    <tr>\n",
       "      <th>1</th>\n",
       "      <td>1</td>\n",
       "      <td>2015-03-01 00:02:11</td>\n",
       "      <td>2015-03-01 00:27:09</td>\n",
       "      <td>N</td>\n",
       "      <td>1</td>\n",
       "      <td>-73.979759</td>\n",
       "      <td>40.677467</td>\n",
       "      <td>-74.017097</td>\n",
       "      <td>40.710930</td>\n",
       "      <td>1</td>\n",
       "      <td>4.70</td>\n",
       "      <td>20.0</td>\n",
       "      <td>0.5</td>\n",
       "      <td>0.5</td>\n",
       "      <td>4.0</td>\n",
       "      <td>0.0</td>\n",
       "      <td>0.3</td>\n",
       "      <td>25.3</td>\n",
       "      <td>1</td>\n",
       "      <td>1.0</td>\n",
       "    </tr>\n",
       "    <tr>\n",
       "      <th>2</th>\n",
       "      <td>2</td>\n",
       "      <td>2015-03-01 00:02:07</td>\n",
       "      <td>2015-03-01 00:10:31</td>\n",
       "      <td>N</td>\n",
       "      <td>1</td>\n",
       "      <td>-73.941376</td>\n",
       "      <td>40.833633</td>\n",
       "      <td>-73.926689</td>\n",
       "      <td>40.863411</td>\n",
       "      <td>1</td>\n",
       "      <td>3.09</td>\n",
       "      <td>11.0</td>\n",
       "      <td>0.5</td>\n",
       "      <td>0.5</td>\n",
       "      <td>0.0</td>\n",
       "      <td>0.0</td>\n",
       "      <td>0.3</td>\n",
       "      <td>12.3</td>\n",
       "      <td>2</td>\n",
       "      <td>1.0</td>\n",
       "    </tr>\n",
       "    <tr>\n",
       "      <th>3</th>\n",
       "      <td>1</td>\n",
       "      <td>2015-03-01 00:02:13</td>\n",
       "      <td>2015-03-01 00:09:09</td>\n",
       "      <td>N</td>\n",
       "      <td>1</td>\n",
       "      <td>-73.939674</td>\n",
       "      <td>40.821152</td>\n",
       "      <td>-73.931854</td>\n",
       "      <td>40.846458</td>\n",
       "      <td>1</td>\n",
       "      <td>2.20</td>\n",
       "      <td>8.5</td>\n",
       "      <td>0.5</td>\n",
       "      <td>0.5</td>\n",
       "      <td>0.0</td>\n",
       "      <td>0.0</td>\n",
       "      <td>0.3</td>\n",
       "      <td>9.8</td>\n",
       "      <td>4</td>\n",
       "      <td>1.0</td>\n",
       "    </tr>\n",
       "    <tr>\n",
       "      <th>4</th>\n",
       "      <td>2</td>\n",
       "      <td>2015-03-01 00:02:18</td>\n",
       "      <td>2015-03-01 00:07:52</td>\n",
       "      <td>N</td>\n",
       "      <td>1</td>\n",
       "      <td>-73.957344</td>\n",
       "      <td>40.712959</td>\n",
       "      <td>-73.954796</td>\n",
       "      <td>40.719650</td>\n",
       "      <td>6</td>\n",
       "      <td>0.75</td>\n",
       "      <td>5.5</td>\n",
       "      <td>0.5</td>\n",
       "      <td>0.5</td>\n",
       "      <td>1.0</td>\n",
       "      <td>0.0</td>\n",
       "      <td>0.3</td>\n",
       "      <td>7.8</td>\n",
       "      <td>1</td>\n",
       "      <td>1.0</td>\n",
       "    </tr>\n",
       "  </tbody>\n",
       "</table>\n",
       "</div>"
      ],
      "text/plain": [
       "   VendorID lpep_pickup_datetime Lpep_dropoff_datetime Store_and_fwd_flag  \\\n",
       "0         1  2015-03-01 00:02:05   2015-03-01 00:08:01                  N   \n",
       "1         1  2015-03-01 00:02:11   2015-03-01 00:27:09                  N   \n",
       "2         2  2015-03-01 00:02:07   2015-03-01 00:10:31                  N   \n",
       "3         1  2015-03-01 00:02:13   2015-03-01 00:09:09                  N   \n",
       "4         2  2015-03-01 00:02:18   2015-03-01 00:07:52                  N   \n",
       "\n",
       "   RateCodeID  Pickup_longitude  Pickup_latitude  Dropoff_longitude  \\\n",
       "0           1        -73.961479        40.801872         -73.980721   \n",
       "1           1        -73.979759        40.677467         -74.017097   \n",
       "2           1        -73.941376        40.833633         -73.926689   \n",
       "3           1        -73.939674        40.821152         -73.931854   \n",
       "4           1        -73.957344        40.712959         -73.954796   \n",
       "\n",
       "   Dropoff_latitude  Passenger_count  Trip_distance  Fare_amount  Extra  \\\n",
       "0         40.775055                1           2.10          8.0    0.5   \n",
       "1         40.710930                1           4.70         20.0    0.5   \n",
       "2         40.863411                1           3.09         11.0    0.5   \n",
       "3         40.846458                1           2.20          8.5    0.5   \n",
       "4         40.719650                6           0.75          5.5    0.5   \n",
       "\n",
       "   MTA_tax  Tip_amount  Tolls_amount  improvement_surcharge  Total_amount  \\\n",
       "0      0.5         0.0           0.0                    0.3           9.3   \n",
       "1      0.5         4.0           0.0                    0.3          25.3   \n",
       "2      0.5         0.0           0.0                    0.3          12.3   \n",
       "3      0.5         0.0           0.0                    0.3           9.8   \n",
       "4      0.5         1.0           0.0                    0.3           7.8   \n",
       "\n",
       "   Payment_type  Trip_type  \n",
       "0             1        1.0  \n",
       "1             1        1.0  \n",
       "2             2        1.0  \n",
       "3             4        1.0  \n",
       "4             1        1.0  "
      ]
     },
     "execution_count": 43,
     "metadata": {},
     "output_type": "execute_result"
    }
   ],
   "source": [
    "dg3.head()"
   ]
  },
  {
   "cell_type": "code",
   "execution_count": 44,
   "metadata": {},
   "outputs": [],
   "source": [
    "dg4 = dg4.drop(dg4[dg4['Pickup_latitude']<40.49].index)\n",
    "dg4 = dg4.drop(dg4[dg4['Pickup_latitude']>40.92].index)\n",
    "dg4 = dg4.drop(dg4[dg4['Pickup_longitude']<-74.27].index)\n",
    "dg4 = dg4.drop(dg4[dg4['Pickup_longitude']>-73.68].index)\n",
    "dg4 = dg4.drop(dg4[dg4['Dropoff_latitude']<40.49].index)\n",
    "dg4 = dg4.drop(dg4[dg4['Dropoff_latitude']>40.92].index)\n",
    "dg4 = dg4.drop(dg4[dg4['Dropoff_longitude']<-74.27].index)\n",
    "dg4 = dg4.drop(dg4[dg4['Dropoff_longitude']>-73.68].index)"
   ]
  },
  {
   "cell_type": "code",
   "execution_count": 45,
   "metadata": {},
   "outputs": [
    {
     "data": {
      "text/plain": [
       "count    1.651399e+06\n",
       "mean     4.075061e+01\n",
       "std      5.799132e-02\n",
       "min      4.052800e+01\n",
       "25%      4.070026e+01\n",
       "50%      4.074704e+01\n",
       "75%      4.080438e+01\n",
       "max      4.091992e+01\n",
       "Name: Pickup_latitude, dtype: float64"
      ]
     },
     "execution_count": 45,
     "metadata": {},
     "output_type": "execute_result"
    }
   ],
   "source": [
    "dg4['Pickup_latitude'].describe()"
   ]
  },
  {
   "cell_type": "code",
   "execution_count": 46,
   "metadata": {},
   "outputs": [
    {
     "data": {
      "text/plain": [
       "count    1.651399e+06\n",
       "mean    -7.393510e+01\n",
       "std      4.171565e-02\n",
       "min     -7.426811e+01\n",
       "25%     -7.395934e+01\n",
       "50%     -7.394503e+01\n",
       "75%     -7.391700e+01\n",
       "max     -7.368349e+01\n",
       "Name: Pickup_longitude, dtype: float64"
      ]
     },
     "execution_count": 46,
     "metadata": {},
     "output_type": "execute_result"
    }
   ],
   "source": [
    "dg4['Pickup_longitude'].describe()"
   ]
  },
  {
   "cell_type": "code",
   "execution_count": 47,
   "metadata": {},
   "outputs": [
    {
     "data": {
      "text/plain": [
       "count    1.651399e+06\n",
       "mean     4.074856e+01\n",
       "std      5.851751e-02\n",
       "min      4.050495e+01\n",
       "25%      4.070211e+01\n",
       "50%      4.074877e+01\n",
       "75%      4.079450e+01\n",
       "max      4.091998e+01\n",
       "Name: Dropoff_latitude, dtype: float64"
      ]
     },
     "execution_count": 47,
     "metadata": {},
     "output_type": "execute_result"
    }
   ],
   "source": [
    "dg4['Dropoff_latitude'].describe()"
   ]
  },
  {
   "cell_type": "code",
   "execution_count": 48,
   "metadata": {},
   "outputs": [
    {
     "data": {
      "text/html": [
       "<div>\n",
       "<style scoped>\n",
       "    .dataframe tbody tr th:only-of-type {\n",
       "        vertical-align: middle;\n",
       "    }\n",
       "\n",
       "    .dataframe tbody tr th {\n",
       "        vertical-align: top;\n",
       "    }\n",
       "\n",
       "    .dataframe thead th {\n",
       "        text-align: right;\n",
       "    }\n",
       "</style>\n",
       "<table border=\"1\" class=\"dataframe\">\n",
       "  <thead>\n",
       "    <tr style=\"text-align: right;\">\n",
       "      <th></th>\n",
       "      <th>VendorID</th>\n",
       "      <th>lpep_pickup_datetime</th>\n",
       "      <th>Lpep_dropoff_datetime</th>\n",
       "      <th>Store_and_fwd_flag</th>\n",
       "      <th>RateCodeID</th>\n",
       "      <th>Pickup_longitude</th>\n",
       "      <th>Pickup_latitude</th>\n",
       "      <th>Dropoff_longitude</th>\n",
       "      <th>Dropoff_latitude</th>\n",
       "      <th>Passenger_count</th>\n",
       "      <th>Trip_distance</th>\n",
       "      <th>Fare_amount</th>\n",
       "      <th>Extra</th>\n",
       "      <th>MTA_tax</th>\n",
       "      <th>Tip_amount</th>\n",
       "      <th>Tolls_amount</th>\n",
       "      <th>improvement_surcharge</th>\n",
       "      <th>Total_amount</th>\n",
       "      <th>Payment_type</th>\n",
       "      <th>Trip_type</th>\n",
       "    </tr>\n",
       "  </thead>\n",
       "  <tbody>\n",
       "    <tr>\n",
       "      <th>0</th>\n",
       "      <td>2</td>\n",
       "      <td>2015-04-01 00:00:00</td>\n",
       "      <td>2015-04-01 00:08:15</td>\n",
       "      <td>N</td>\n",
       "      <td>1</td>\n",
       "      <td>-73.958817</td>\n",
       "      <td>40.716824</td>\n",
       "      <td>-73.982971</td>\n",
       "      <td>40.696007</td>\n",
       "      <td>1</td>\n",
       "      <td>3.08</td>\n",
       "      <td>11.0</td>\n",
       "      <td>0.5</td>\n",
       "      <td>0.5</td>\n",
       "      <td>2.46</td>\n",
       "      <td>0.0</td>\n",
       "      <td>0.3</td>\n",
       "      <td>14.76</td>\n",
       "      <td>1</td>\n",
       "      <td>1.0</td>\n",
       "    </tr>\n",
       "    <tr>\n",
       "      <th>1</th>\n",
       "      <td>2</td>\n",
       "      <td>2015-04-01 00:00:04</td>\n",
       "      <td>2015-04-01 00:07:33</td>\n",
       "      <td>N</td>\n",
       "      <td>1</td>\n",
       "      <td>-73.937531</td>\n",
       "      <td>40.804501</td>\n",
       "      <td>-73.946800</td>\n",
       "      <td>40.815998</td>\n",
       "      <td>1</td>\n",
       "      <td>1.21</td>\n",
       "      <td>7.0</td>\n",
       "      <td>0.5</td>\n",
       "      <td>0.5</td>\n",
       "      <td>0.00</td>\n",
       "      <td>0.0</td>\n",
       "      <td>0.3</td>\n",
       "      <td>8.30</td>\n",
       "      <td>2</td>\n",
       "      <td>1.0</td>\n",
       "    </tr>\n",
       "    <tr>\n",
       "      <th>2</th>\n",
       "      <td>2</td>\n",
       "      <td>2015-04-01 00:00:09</td>\n",
       "      <td>2015-04-01 00:02:10</td>\n",
       "      <td>N</td>\n",
       "      <td>1</td>\n",
       "      <td>-73.955818</td>\n",
       "      <td>40.681152</td>\n",
       "      <td>-73.955406</td>\n",
       "      <td>40.687145</td>\n",
       "      <td>1</td>\n",
       "      <td>0.64</td>\n",
       "      <td>4.0</td>\n",
       "      <td>0.5</td>\n",
       "      <td>0.5</td>\n",
       "      <td>0.70</td>\n",
       "      <td>0.0</td>\n",
       "      <td>0.3</td>\n",
       "      <td>6.00</td>\n",
       "      <td>1</td>\n",
       "      <td>1.0</td>\n",
       "    </tr>\n",
       "    <tr>\n",
       "      <th>3</th>\n",
       "      <td>2</td>\n",
       "      <td>2015-04-01 00:00:23</td>\n",
       "      <td>2015-04-01 00:05:16</td>\n",
       "      <td>N</td>\n",
       "      <td>1</td>\n",
       "      <td>-73.830551</td>\n",
       "      <td>40.759460</td>\n",
       "      <td>-73.825363</td>\n",
       "      <td>40.741589</td>\n",
       "      <td>1</td>\n",
       "      <td>1.34</td>\n",
       "      <td>6.5</td>\n",
       "      <td>0.5</td>\n",
       "      <td>0.5</td>\n",
       "      <td>0.00</td>\n",
       "      <td>0.0</td>\n",
       "      <td>0.3</td>\n",
       "      <td>7.80</td>\n",
       "      <td>2</td>\n",
       "      <td>1.0</td>\n",
       "    </tr>\n",
       "    <tr>\n",
       "      <th>4</th>\n",
       "      <td>2</td>\n",
       "      <td>2015-04-01 00:00:25</td>\n",
       "      <td>2015-04-01 00:05:20</td>\n",
       "      <td>N</td>\n",
       "      <td>1</td>\n",
       "      <td>-73.912086</td>\n",
       "      <td>40.775356</td>\n",
       "      <td>-73.915474</td>\n",
       "      <td>40.764091</td>\n",
       "      <td>1</td>\n",
       "      <td>0.98</td>\n",
       "      <td>6.0</td>\n",
       "      <td>0.5</td>\n",
       "      <td>0.5</td>\n",
       "      <td>0.00</td>\n",
       "      <td>0.0</td>\n",
       "      <td>0.3</td>\n",
       "      <td>7.30</td>\n",
       "      <td>2</td>\n",
       "      <td>1.0</td>\n",
       "    </tr>\n",
       "  </tbody>\n",
       "</table>\n",
       "</div>"
      ],
      "text/plain": [
       "   VendorID lpep_pickup_datetime Lpep_dropoff_datetime Store_and_fwd_flag  \\\n",
       "0         2  2015-04-01 00:00:00   2015-04-01 00:08:15                  N   \n",
       "1         2  2015-04-01 00:00:04   2015-04-01 00:07:33                  N   \n",
       "2         2  2015-04-01 00:00:09   2015-04-01 00:02:10                  N   \n",
       "3         2  2015-04-01 00:00:23   2015-04-01 00:05:16                  N   \n",
       "4         2  2015-04-01 00:00:25   2015-04-01 00:05:20                  N   \n",
       "\n",
       "   RateCodeID  Pickup_longitude  Pickup_latitude  Dropoff_longitude  \\\n",
       "0           1        -73.958817        40.716824         -73.982971   \n",
       "1           1        -73.937531        40.804501         -73.946800   \n",
       "2           1        -73.955818        40.681152         -73.955406   \n",
       "3           1        -73.830551        40.759460         -73.825363   \n",
       "4           1        -73.912086        40.775356         -73.915474   \n",
       "\n",
       "   Dropoff_latitude  Passenger_count  Trip_distance  Fare_amount  Extra  \\\n",
       "0         40.696007                1           3.08         11.0    0.5   \n",
       "1         40.815998                1           1.21          7.0    0.5   \n",
       "2         40.687145                1           0.64          4.0    0.5   \n",
       "3         40.741589                1           1.34          6.5    0.5   \n",
       "4         40.764091                1           0.98          6.0    0.5   \n",
       "\n",
       "   MTA_tax  Tip_amount  Tolls_amount  improvement_surcharge  Total_amount  \\\n",
       "0      0.5        2.46           0.0                    0.3         14.76   \n",
       "1      0.5        0.00           0.0                    0.3          8.30   \n",
       "2      0.5        0.70           0.0                    0.3          6.00   \n",
       "3      0.5        0.00           0.0                    0.3          7.80   \n",
       "4      0.5        0.00           0.0                    0.3          7.30   \n",
       "\n",
       "   Payment_type  Trip_type  \n",
       "0             1        1.0  \n",
       "1             2        1.0  \n",
       "2             1        1.0  \n",
       "3             2        1.0  \n",
       "4             2        1.0  "
      ]
     },
     "execution_count": 48,
     "metadata": {},
     "output_type": "execute_result"
    }
   ],
   "source": [
    "dg4.head()"
   ]
  },
  {
   "cell_type": "markdown",
   "metadata": {
    "colab_type": "text",
    "id": "ZeDOvTvHB3tC"
   },
   "source": [
    "**8. Visualización datos correctos + describe de los mismos**"
   ]
  },
  {
   "cell_type": "code",
   "execution_count": 49,
   "metadata": {
    "colab": {},
    "colab_type": "code",
    "id": "gYwlvXcRAnYx",
    "outputId": "424d6be1-10ca-4da2-999b-ab2699e47fc6"
   },
   "outputs": [
    {
     "data": {
      "text/plain": [
       "count    1.708997e+06\n",
       "mean     1.377524e+00\n",
       "std      1.056952e+00\n",
       "min      0.000000e+00\n",
       "25%      1.000000e+00\n",
       "50%      1.000000e+00\n",
       "75%      1.000000e+00\n",
       "max      9.000000e+00\n",
       "Name: Passenger_count, dtype: float64"
      ]
     },
     "execution_count": 49,
     "metadata": {},
     "output_type": "execute_result"
    }
   ],
   "source": [
    "dg3['Passenger_count'].describe()"
   ]
  },
  {
   "cell_type": "code",
   "execution_count": 50,
   "metadata": {},
   "outputs": [
    {
     "data": {
      "text/plain": [
       "count    1.651399e+06\n",
       "mean     1.378510e+00\n",
       "std      1.055576e+00\n",
       "min      0.000000e+00\n",
       "25%      1.000000e+00\n",
       "50%      1.000000e+00\n",
       "75%      1.000000e+00\n",
       "max      9.000000e+00\n",
       "Name: Passenger_count, dtype: float64"
      ]
     },
     "execution_count": 50,
     "metadata": {},
     "output_type": "execute_result"
    }
   ],
   "source": [
    "dg4['Passenger_count'].describe()"
   ]
  },
  {
   "cell_type": "code",
   "execution_count": 51,
   "metadata": {
    "colab": {},
    "colab_type": "code",
    "id": "9cpHFlNwAnY4",
    "outputId": "8923b861-e180-4a70-e342-a0985034a3b8"
   },
   "outputs": [
    {
     "data": {
      "text/plain": [
       "count    1.708997e+06\n",
       "mean     1.459610e+01\n",
       "std      1.347660e+01\n",
       "min      1.000000e-02\n",
       "25%      7.800000e+00\n",
       "50%      1.130000e+01\n",
       "75%      1.730000e+01\n",
       "max      5.660100e+03\n",
       "Name: Total_amount, dtype: float64"
      ]
     },
     "execution_count": 51,
     "metadata": {},
     "output_type": "execute_result"
    }
   ],
   "source": [
    "dg3['Total_amount'].describe()"
   ]
  },
  {
   "cell_type": "code",
   "execution_count": 52,
   "metadata": {},
   "outputs": [
    {
     "data": {
      "text/plain": [
       "count    1.651399e+06\n",
       "mean     1.483378e+01\n",
       "std      1.241134e+01\n",
       "min      1.000000e-02\n",
       "25%      8.000000e+00\n",
       "50%      1.130000e+01\n",
       "75%      1.780000e+01\n",
       "max      4.035460e+03\n",
       "Name: Total_amount, dtype: float64"
      ]
     },
     "execution_count": 52,
     "metadata": {},
     "output_type": "execute_result"
    }
   ],
   "source": [
    "dg4['Total_amount'].describe()"
   ]
  },
  {
   "cell_type": "code",
   "execution_count": 53,
   "metadata": {
    "colab": {},
    "colab_type": "code",
    "id": "6aMB0j5UAnY-"
   },
   "outputs": [],
   "source": [
    "dg3 = dg3.drop(dg3[dg3['Total_amount']<=0].index)"
   ]
  },
  {
   "cell_type": "code",
   "execution_count": 54,
   "metadata": {},
   "outputs": [],
   "source": [
    "dg4 = dg4.drop(dg4[dg4['Total_amount']<=0].index)"
   ]
  },
  {
   "cell_type": "code",
   "execution_count": 55,
   "metadata": {
    "colab": {},
    "colab_type": "code",
    "id": "PpHVlm_fAnZC",
    "outputId": "91623cc8-7054-41fe-8783-93fd135619cc"
   },
   "outputs": [
    {
     "data": {
      "text/plain": [
       "count    1.708997e+06\n",
       "mean     1.161911e+00\n",
       "std      3.875740e+00\n",
       "min      0.000000e+00\n",
       "25%      0.000000e+00\n",
       "50%      0.000000e+00\n",
       "75%      1.860000e+00\n",
       "max      1.894650e+03\n",
       "Name: Tip_amount, dtype: float64"
      ]
     },
     "execution_count": 55,
     "metadata": {},
     "output_type": "execute_result"
    }
   ],
   "source": [
    "dg3['Tip_amount'].describe()"
   ]
  },
  {
   "cell_type": "code",
   "execution_count": 56,
   "metadata": {},
   "outputs": [
    {
     "data": {
      "text/plain": [
       "count    1.651399e+06\n",
       "mean     1.212857e+00\n",
       "std      3.546012e+00\n",
       "min      0.000000e+00\n",
       "25%      0.000000e+00\n",
       "50%      0.000000e+00\n",
       "75%      2.000000e+00\n",
       "max      2.017730e+03\n",
       "Name: Tip_amount, dtype: float64"
      ]
     },
     "execution_count": 56,
     "metadata": {},
     "output_type": "execute_result"
    }
   ],
   "source": [
    "dg4['Tip_amount'].describe()"
   ]
  },
  {
   "cell_type": "markdown",
   "metadata": {
    "colab_type": "text",
    "id": "_ErlO6LSn20H"
   },
   "source": [
    "**9. Escribir csv con limpieza de datos hecha**"
   ]
  },
  {
   "cell_type": "code",
   "execution_count": 57,
   "metadata": {
    "colab": {},
    "colab_type": "code",
    "id": "t2sAUgHFAnZH"
   },
   "outputs": [],
   "source": [
    "dg3.to_csv('C:/MBD/datos/green_tripdata_2015-03_2.csv', index=None , header=True )\n",
    "dg4.to_csv('C:/MBD/datos/green_tripdata_2015-04_2.csv', index=None , header=True )"
   ]
  },
  {
   "cell_type": "code",
   "execution_count": 0,
   "metadata": {
    "colab": {},
    "colab_type": "code",
    "id": "x_Rg4TIAAnZL"
   },
   "outputs": [],
   "source": []
  }
 ],
 "metadata": {
  "colab": {
   "collapsed_sections": [],
   "name": "1. ANÁLISIS CUANTITATIVO Green.ipynb",
   "provenance": [],
   "version": "0.3.2"
  },
  "kernelspec": {
   "display_name": "Python 3",
   "language": "python",
   "name": "python3"
  },
  "language_info": {
   "codemirror_mode": {
    "name": "ipython",
    "version": 3
   },
   "file_extension": ".py",
   "mimetype": "text/x-python",
   "name": "python",
   "nbconvert_exporter": "python",
   "pygments_lexer": "ipython3",
   "version": "3.7.1"
  }
 },
 "nbformat": 4,
 "nbformat_minor": 1
}
