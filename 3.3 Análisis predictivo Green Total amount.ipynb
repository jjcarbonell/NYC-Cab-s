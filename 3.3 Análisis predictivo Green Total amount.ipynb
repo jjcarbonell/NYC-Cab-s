{
 "cells": [
  {
   "cell_type": "markdown",
   "metadata": {
    "colab_type": "text",
    "id": "txPhH5dsYFKS"
   },
   "source": [
    "# 3. ANÁLISIS PREDICTIVO."
   ]
  },
  {
   "cell_type": "markdown",
   "metadata": {
    "colab_type": "text",
    "id": "uI84UpPqrkM8"
   },
   "source": [
    "## 3.2 ¿Cuál es la mejor hora del día para ir al aeropuerto?"
   ]
  },
  {
   "cell_type": "markdown",
   "metadata": {
    "colab_type": "text",
    "id": "iPEfSTiwYSB4"
   },
   "source": [
    "## 3.3 Diseña un modelo que, dada una hora, unas coordenadas origen, y unas coordenadas destino, predice la duración del trayecto y su coste. Muestra la relevancia de los atributos del dataset."
   ]
  },
  {
   "cell_type": "markdown",
   "metadata": {
    "colab_type": "text",
    "id": "NWZogrphYY_J"
   },
   "source": [
    "**1. Importar librerías**"
   ]
  },
  {
   "cell_type": "code",
   "execution_count": 0,
   "metadata": {
    "colab": {},
    "colab_type": "code",
    "id": "j-6zr63wzz0b"
   },
   "outputs": [],
   "source": [
    "import pandas as pd\n",
    "import numpy as np"
   ]
  },
  {
   "cell_type": "markdown",
   "metadata": {
    "colab_type": "text",
    "id": "v7J4KftPYa0z"
   },
   "source": [
    "**2. Configuración para trabajar en el entorno de collaboratory**"
   ]
  },
  {
   "cell_type": "code",
   "execution_count": 0,
   "metadata": {
    "colab": {
     "base_uri": "https://localhost:8080/",
     "height": 51
    },
    "colab_type": "code",
    "executionInfo": {
     "elapsed": 11417,
     "status": "ok",
     "timestamp": 1558195275103,
     "user": {
      "displayName": "iago feliubadaló",
      "photoUrl": "https://lh6.googleusercontent.com/-g5vDNw1YDNI/AAAAAAAAAAI/AAAAAAAAAQU/Mw5sY3LeNvs/s64/photo.jpg",
      "userId": "13426049142450112585"
     },
     "user_tz": -120
    },
    "id": "FtlMDzsGz7Dr",
    "outputId": "d4c23342-7af0-4668-8831-de4a0930d388"
   },
   "outputs": [
    {
     "name": "stdout",
     "output_type": "stream",
     "text": [
      "\u001b[?25l\r",
      "\u001b[K     |▎                               | 10kB 17.3MB/s eta 0:00:01\r",
      "\u001b[K     |▋                               | 20kB 1.8MB/s eta 0:00:01\r",
      "\u001b[K     |█                               | 30kB 2.7MB/s eta 0:00:01\r",
      "\u001b[K     |█▎                              | 40kB 1.8MB/s eta 0:00:01\r",
      "\u001b[K     |█▋                              | 51kB 2.2MB/s eta 0:00:01\r",
      "\u001b[K     |██                              | 61kB 2.6MB/s eta 0:00:01\r",
      "\u001b[K     |██▎                             | 71kB 3.0MB/s eta 0:00:01\r",
      "\u001b[K     |██▋                             | 81kB 3.4MB/s eta 0:00:01\r",
      "\u001b[K     |███                             | 92kB 3.8MB/s eta 0:00:01\r",
      "\u001b[K     |███▎                            | 102kB 2.9MB/s eta 0:00:01\r",
      "\u001b[K     |███▋                            | 112kB 2.9MB/s eta 0:00:01\r",
      "\u001b[K     |████                            | 122kB 2.9MB/s eta 0:00:01\r",
      "\u001b[K     |████▎                           | 133kB 2.9MB/s eta 0:00:01\r",
      "\u001b[K     |████▋                           | 143kB 2.9MB/s eta 0:00:01\r",
      "\u001b[K     |█████                           | 153kB 2.9MB/s eta 0:00:01\r",
      "\u001b[K     |█████▎                          | 163kB 2.9MB/s eta 0:00:01\r",
      "\u001b[K     |█████▋                          | 174kB 2.9MB/s eta 0:00:01\r",
      "\u001b[K     |██████                          | 184kB 2.9MB/s eta 0:00:01\r",
      "\u001b[K     |██████▎                         | 194kB 2.9MB/s eta 0:00:01\r",
      "\u001b[K     |██████▋                         | 204kB 2.9MB/s eta 0:00:01\r",
      "\u001b[K     |███████                         | 215kB 2.9MB/s eta 0:00:01\r",
      "\u001b[K     |███████▎                        | 225kB 2.9MB/s eta 0:00:01\r",
      "\u001b[K     |███████▋                        | 235kB 2.9MB/s eta 0:00:01\r",
      "\u001b[K     |████████                        | 245kB 2.9MB/s eta 0:00:01\r",
      "\u001b[K     |████████▎                       | 256kB 2.9MB/s eta 0:00:01\r",
      "\u001b[K     |████████▋                       | 266kB 2.9MB/s eta 0:00:01\r",
      "\u001b[K     |█████████                       | 276kB 2.9MB/s eta 0:00:01\r",
      "\u001b[K     |█████████▎                      | 286kB 2.9MB/s eta 0:00:01\r",
      "\u001b[K     |█████████▋                      | 296kB 2.9MB/s eta 0:00:01\r",
      "\u001b[K     |██████████                      | 307kB 2.9MB/s eta 0:00:01\r",
      "\u001b[K     |██████████▎                     | 317kB 2.9MB/s eta 0:00:01\r",
      "\u001b[K     |██████████▋                     | 327kB 2.9MB/s eta 0:00:01\r",
      "\u001b[K     |███████████                     | 337kB 2.9MB/s eta 0:00:01\r",
      "\u001b[K     |███████████▎                    | 348kB 2.9MB/s eta 0:00:01\r",
      "\u001b[K     |███████████▋                    | 358kB 2.9MB/s eta 0:00:01\r",
      "\u001b[K     |████████████                    | 368kB 2.9MB/s eta 0:00:01\r",
      "\u001b[K     |████████████▎                   | 378kB 2.9MB/s eta 0:00:01\r",
      "\u001b[K     |████████████▋                   | 389kB 2.9MB/s eta 0:00:01\r",
      "\u001b[K     |█████████████                   | 399kB 2.9MB/s eta 0:00:01\r",
      "\u001b[K     |█████████████▎                  | 409kB 2.9MB/s eta 0:00:01\r",
      "\u001b[K     |█████████████▋                  | 419kB 2.9MB/s eta 0:00:01\r",
      "\u001b[K     |██████████████                  | 430kB 2.9MB/s eta 0:00:01\r",
      "\u001b[K     |██████████████▎                 | 440kB 2.9MB/s eta 0:00:01\r",
      "\u001b[K     |██████████████▋                 | 450kB 2.9MB/s eta 0:00:01\r",
      "\u001b[K     |███████████████                 | 460kB 2.9MB/s eta 0:00:01\r",
      "\u001b[K     |███████████████▎                | 471kB 2.9MB/s eta 0:00:01\r",
      "\u001b[K     |███████████████▋                | 481kB 2.9MB/s eta 0:00:01\r",
      "\u001b[K     |████████████████                | 491kB 2.9MB/s eta 0:00:01\r",
      "\u001b[K     |████████████████▎               | 501kB 2.9MB/s eta 0:00:01\r",
      "\u001b[K     |████████████████▋               | 512kB 2.9MB/s eta 0:00:01\r",
      "\u001b[K     |█████████████████               | 522kB 2.9MB/s eta 0:00:01\r",
      "\u001b[K     |█████████████████▎              | 532kB 2.9MB/s eta 0:00:01\r",
      "\u001b[K     |█████████████████▋              | 542kB 2.9MB/s eta 0:00:01\r",
      "\u001b[K     |██████████████████              | 552kB 2.9MB/s eta 0:00:01\r",
      "\u001b[K     |██████████████████▎             | 563kB 2.9MB/s eta 0:00:01\r",
      "\u001b[K     |██████████████████▋             | 573kB 2.9MB/s eta 0:00:01\r",
      "\u001b[K     |███████████████████             | 583kB 2.9MB/s eta 0:00:01\r",
      "\u001b[K     |███████████████████▎            | 593kB 2.9MB/s eta 0:00:01\r",
      "\u001b[K     |███████████████████▋            | 604kB 2.9MB/s eta 0:00:01\r",
      "\u001b[K     |████████████████████            | 614kB 2.9MB/s eta 0:00:01\r",
      "\u001b[K     |████████████████████▎           | 624kB 2.9MB/s eta 0:00:01\r",
      "\u001b[K     |████████████████████▋           | 634kB 2.9MB/s eta 0:00:01\r",
      "\u001b[K     |█████████████████████           | 645kB 2.9MB/s eta 0:00:01\r",
      "\u001b[K     |█████████████████████▎          | 655kB 2.9MB/s eta 0:00:01\r",
      "\u001b[K     |█████████████████████▋          | 665kB 2.9MB/s eta 0:00:01\r",
      "\u001b[K     |██████████████████████          | 675kB 2.9MB/s eta 0:00:01\r",
      "\u001b[K     |██████████████████████▎         | 686kB 2.9MB/s eta 0:00:01\r",
      "\u001b[K     |██████████████████████▋         | 696kB 2.9MB/s eta 0:00:01\r",
      "\u001b[K     |███████████████████████         | 706kB 2.9MB/s eta 0:00:01\r",
      "\u001b[K     |███████████████████████▎        | 716kB 2.9MB/s eta 0:00:01\r",
      "\u001b[K     |███████████████████████▋        | 727kB 2.9MB/s eta 0:00:01\r",
      "\u001b[K     |████████████████████████        | 737kB 2.9MB/s eta 0:00:01\r",
      "\u001b[K     |████████████████████████▎       | 747kB 2.9MB/s eta 0:00:01\r",
      "\u001b[K     |████████████████████████▋       | 757kB 2.9MB/s eta 0:00:01\r",
      "\u001b[K     |████████████████████████▉       | 768kB 2.9MB/s eta 0:00:01\r",
      "\u001b[K     |█████████████████████████▏      | 778kB 2.9MB/s eta 0:00:01\r",
      "\u001b[K     |█████████████████████████▌      | 788kB 2.9MB/s eta 0:00:01\r",
      "\u001b[K     |█████████████████████████▉      | 798kB 2.9MB/s eta 0:00:01\r",
      "\u001b[K     |██████████████████████████▏     | 808kB 2.9MB/s eta 0:00:01\r",
      "\u001b[K     |██████████████████████████▌     | 819kB 2.9MB/s eta 0:00:01\r",
      "\u001b[K     |██████████████████████████▉     | 829kB 2.9MB/s eta 0:00:01\r",
      "\u001b[K     |███████████████████████████▏    | 839kB 2.9MB/s eta 0:00:01\r",
      "\u001b[K     |███████████████████████████▌    | 849kB 2.9MB/s eta 0:00:01\r",
      "\u001b[K     |███████████████████████████▉    | 860kB 2.9MB/s eta 0:00:01\r",
      "\u001b[K     |████████████████████████████▏   | 870kB 2.9MB/s eta 0:00:01\r",
      "\u001b[K     |████████████████████████████▌   | 880kB 2.9MB/s eta 0:00:01\r",
      "\u001b[K     |████████████████████████████▉   | 890kB 2.9MB/s eta 0:00:01\r",
      "\u001b[K     |█████████████████████████████▏  | 901kB 2.9MB/s eta 0:00:01\r",
      "\u001b[K     |█████████████████████████████▌  | 911kB 2.9MB/s eta 0:00:01\r",
      "\u001b[K     |█████████████████████████████▉  | 921kB 2.9MB/s eta 0:00:01\r",
      "\u001b[K     |██████████████████████████████▏ | 931kB 2.9MB/s eta 0:00:01\r",
      "\u001b[K     |██████████████████████████████▌ | 942kB 2.9MB/s eta 0:00:01\r",
      "\u001b[K     |██████████████████████████████▉ | 952kB 2.9MB/s eta 0:00:01\r",
      "\u001b[K     |███████████████████████████████▏| 962kB 2.9MB/s eta 0:00:01\r",
      "\u001b[K     |███████████████████████████████▌| 972kB 2.9MB/s eta 0:00:01\r",
      "\u001b[K     |███████████████████████████████▉| 983kB 2.9MB/s eta 0:00:01\r",
      "\u001b[K     |████████████████████████████████| 993kB 2.9MB/s \n",
      "\u001b[?25h  Building wheel for PyDrive (setup.py) ... \u001b[?25l\u001b[?25hdone\n"
     ]
    }
   ],
   "source": [
    "!pip install -U -q PyDrive\n",
    "\n",
    "from pydrive.auth import GoogleAuth\n",
    "from pydrive.drive import GoogleDrive\n",
    "from google.colab import auth\n",
    "from oauth2client.client import GoogleCredentials"
   ]
  },
  {
   "cell_type": "code",
   "execution_count": 0,
   "metadata": {
    "colab": {},
    "colab_type": "code",
    "id": "iVhHGsUiz7jE"
   },
   "outputs": [],
   "source": [
    "auth.authenticate_user()\n",
    "gauth = GoogleAuth()\n",
    "gauth.credentials = GoogleCredentials.get_application_default()\n",
    "drive = GoogleDrive(gauth)"
   ]
  },
  {
   "cell_type": "code",
   "execution_count": 0,
   "metadata": {
    "colab": {},
    "colab_type": "code",
    "id": "R2oqs1XZz9MK"
   },
   "outputs": [],
   "source": [
    "from google.colab import files"
   ]
  },
  {
   "cell_type": "code",
   "execution_count": 0,
   "metadata": {
    "colab": {},
    "colab_type": "code",
    "id": "EIWf8_Zuz_Is"
   },
   "outputs": [],
   "source": [
    "csv_import = drive.CreateFile({'id':'1qY1cajRH-FnCEl_I7mVjdhQl9kvBD6Qv'})"
   ]
  },
  {
   "cell_type": "code",
   "execution_count": 0,
   "metadata": {
    "colab": {},
    "colab_type": "code",
    "id": "m2o8ilgS0Fxb"
   },
   "outputs": [],
   "source": [
    " csv_import.GetContentFile('green_tripdata_2015-03.csv') "
   ]
  },
  {
   "cell_type": "markdown",
   "metadata": {
    "colab_type": "text",
    "id": "dBsu0leSYi4r"
   },
   "source": [
    "**3. Leer datos**"
   ]
  },
  {
   "cell_type": "code",
   "execution_count": 0,
   "metadata": {
    "colab": {},
    "colab_type": "code",
    "id": "ZC05EwEU0Hr8"
   },
   "outputs": [],
   "source": [
    "dg3 = pd.read_csv('green_tripdata_2015-03.csv', usecols=[0,1,2,3,4,5,6,7,8,9,10,11,12,13,14,15,16,17,18,19,20], nrows = 1000000)"
   ]
  },
  {
   "cell_type": "markdown",
   "metadata": {
    "colab_type": "text",
    "id": "h-uOKAKRYmwx"
   },
   "source": [
    "**4. Visualización de los datos y shape de los mismos**"
   ]
  },
  {
   "cell_type": "code",
   "execution_count": 0,
   "metadata": {
    "colab": {
     "base_uri": "https://localhost:8080/",
     "height": 34
    },
    "colab_type": "code",
    "executionInfo": {
     "elapsed": 639,
     "status": "ok",
     "timestamp": 1558195337504,
     "user": {
      "displayName": "iago feliubadaló",
      "photoUrl": "https://lh6.googleusercontent.com/-g5vDNw1YDNI/AAAAAAAAAAI/AAAAAAAAAQU/Mw5sY3LeNvs/s64/photo.jpg",
      "userId": "13426049142450112585"
     },
     "user_tz": -120
    },
    "id": "akLZvRsY0Um0",
    "outputId": "03c6fe85-e010-4ea0-8045-9cd895b2eea0"
   },
   "outputs": [
    {
     "data": {
      "text/plain": [
       "(1000000, 21)"
      ]
     },
     "execution_count": 8,
     "metadata": {
      "tags": []
     },
     "output_type": "execute_result"
    }
   ],
   "source": [
    "dg3.shape"
   ]
  },
  {
   "cell_type": "code",
   "execution_count": 0,
   "metadata": {
    "colab": {
     "base_uri": "https://localhost:8080/",
     "height": 224
    },
    "colab_type": "code",
    "executionInfo": {
     "elapsed": 574,
     "status": "ok",
     "timestamp": 1558195339519,
     "user": {
      "displayName": "iago feliubadaló",
      "photoUrl": "https://lh6.googleusercontent.com/-g5vDNw1YDNI/AAAAAAAAAAI/AAAAAAAAAQU/Mw5sY3LeNvs/s64/photo.jpg",
      "userId": "13426049142450112585"
     },
     "user_tz": -120
    },
    "id": "Gcq5K5-a0fPD",
    "outputId": "b0c70975-5410-4550-959e-79dfa5c4af53"
   },
   "outputs": [
    {
     "data": {
      "text/html": [
       "<div>\n",
       "<style scoped>\n",
       "    .dataframe tbody tr th:only-of-type {\n",
       "        vertical-align: middle;\n",
       "    }\n",
       "\n",
       "    .dataframe tbody tr th {\n",
       "        vertical-align: top;\n",
       "    }\n",
       "\n",
       "    .dataframe thead th {\n",
       "        text-align: right;\n",
       "    }\n",
       "</style>\n",
       "<table border=\"1\" class=\"dataframe\">\n",
       "  <thead>\n",
       "    <tr style=\"text-align: right;\">\n",
       "      <th></th>\n",
       "      <th>VendorID</th>\n",
       "      <th>lpep_pickup_datetime</th>\n",
       "      <th>Lpep_dropoff_datetime</th>\n",
       "      <th>Store_and_fwd_flag</th>\n",
       "      <th>RateCodeID</th>\n",
       "      <th>Pickup_longitude</th>\n",
       "      <th>Pickup_latitude</th>\n",
       "      <th>Dropoff_longitude</th>\n",
       "      <th>Dropoff_latitude</th>\n",
       "      <th>Passenger_count</th>\n",
       "      <th>Trip_distance</th>\n",
       "      <th>Fare_amount</th>\n",
       "      <th>Extra</th>\n",
       "      <th>MTA_tax</th>\n",
       "      <th>Tip_amount</th>\n",
       "      <th>Tolls_amount</th>\n",
       "      <th>Ehail_fee</th>\n",
       "      <th>improvement_surcharge</th>\n",
       "      <th>Total_amount</th>\n",
       "      <th>Payment_type</th>\n",
       "      <th>Trip_type</th>\n",
       "    </tr>\n",
       "  </thead>\n",
       "  <tbody>\n",
       "    <tr>\n",
       "      <th>0</th>\n",
       "      <td>1</td>\n",
       "      <td>2015-03-01 00:02:05</td>\n",
       "      <td>2015-03-01 00:08:01</td>\n",
       "      <td>N</td>\n",
       "      <td>1</td>\n",
       "      <td>-73.961479</td>\n",
       "      <td>40.801872</td>\n",
       "      <td>-73.980721</td>\n",
       "      <td>40.775055</td>\n",
       "      <td>1</td>\n",
       "      <td>2.10</td>\n",
       "      <td>8.0</td>\n",
       "      <td>0.5</td>\n",
       "      <td>0.5</td>\n",
       "      <td>0.0</td>\n",
       "      <td>0.0</td>\n",
       "      <td>NaN</td>\n",
       "      <td>0.3</td>\n",
       "      <td>9.3</td>\n",
       "      <td>1</td>\n",
       "      <td>1</td>\n",
       "    </tr>\n",
       "    <tr>\n",
       "      <th>1</th>\n",
       "      <td>1</td>\n",
       "      <td>2015-03-01 00:02:11</td>\n",
       "      <td>2015-03-01 00:27:09</td>\n",
       "      <td>N</td>\n",
       "      <td>1</td>\n",
       "      <td>-73.979759</td>\n",
       "      <td>40.677467</td>\n",
       "      <td>-74.017097</td>\n",
       "      <td>40.710930</td>\n",
       "      <td>1</td>\n",
       "      <td>4.70</td>\n",
       "      <td>20.0</td>\n",
       "      <td>0.5</td>\n",
       "      <td>0.5</td>\n",
       "      <td>4.0</td>\n",
       "      <td>0.0</td>\n",
       "      <td>NaN</td>\n",
       "      <td>0.3</td>\n",
       "      <td>25.3</td>\n",
       "      <td>1</td>\n",
       "      <td>1</td>\n",
       "    </tr>\n",
       "    <tr>\n",
       "      <th>2</th>\n",
       "      <td>2</td>\n",
       "      <td>2015-03-01 00:02:07</td>\n",
       "      <td>2015-03-01 00:10:31</td>\n",
       "      <td>N</td>\n",
       "      <td>1</td>\n",
       "      <td>-73.941376</td>\n",
       "      <td>40.833633</td>\n",
       "      <td>-73.926689</td>\n",
       "      <td>40.863411</td>\n",
       "      <td>1</td>\n",
       "      <td>3.09</td>\n",
       "      <td>11.0</td>\n",
       "      <td>0.5</td>\n",
       "      <td>0.5</td>\n",
       "      <td>0.0</td>\n",
       "      <td>0.0</td>\n",
       "      <td>NaN</td>\n",
       "      <td>0.3</td>\n",
       "      <td>12.3</td>\n",
       "      <td>2</td>\n",
       "      <td>1</td>\n",
       "    </tr>\n",
       "    <tr>\n",
       "      <th>3</th>\n",
       "      <td>1</td>\n",
       "      <td>2015-03-01 00:02:13</td>\n",
       "      <td>2015-03-01 00:09:09</td>\n",
       "      <td>N</td>\n",
       "      <td>1</td>\n",
       "      <td>-73.939674</td>\n",
       "      <td>40.821152</td>\n",
       "      <td>-73.931854</td>\n",
       "      <td>40.846458</td>\n",
       "      <td>1</td>\n",
       "      <td>2.20</td>\n",
       "      <td>8.5</td>\n",
       "      <td>0.5</td>\n",
       "      <td>0.5</td>\n",
       "      <td>0.0</td>\n",
       "      <td>0.0</td>\n",
       "      <td>NaN</td>\n",
       "      <td>0.3</td>\n",
       "      <td>9.8</td>\n",
       "      <td>4</td>\n",
       "      <td>1</td>\n",
       "    </tr>\n",
       "    <tr>\n",
       "      <th>4</th>\n",
       "      <td>2</td>\n",
       "      <td>2015-03-01 00:02:18</td>\n",
       "      <td>2015-03-01 00:07:52</td>\n",
       "      <td>N</td>\n",
       "      <td>1</td>\n",
       "      <td>-73.957344</td>\n",
       "      <td>40.712959</td>\n",
       "      <td>-73.954796</td>\n",
       "      <td>40.719650</td>\n",
       "      <td>6</td>\n",
       "      <td>0.75</td>\n",
       "      <td>5.5</td>\n",
       "      <td>0.5</td>\n",
       "      <td>0.5</td>\n",
       "      <td>1.0</td>\n",
       "      <td>0.0</td>\n",
       "      <td>NaN</td>\n",
       "      <td>0.3</td>\n",
       "      <td>7.8</td>\n",
       "      <td>1</td>\n",
       "      <td>1</td>\n",
       "    </tr>\n",
       "  </tbody>\n",
       "</table>\n",
       "</div>"
      ],
      "text/plain": [
       "   VendorID lpep_pickup_datetime  ... Payment_type Trip_type\n",
       "0         1  2015-03-01 00:02:05  ...            1         1\n",
       "1         1  2015-03-01 00:02:11  ...            1         1\n",
       "2         2  2015-03-01 00:02:07  ...            2         1\n",
       "3         1  2015-03-01 00:02:13  ...            4         1\n",
       "4         2  2015-03-01 00:02:18  ...            1         1\n",
       "\n",
       "[5 rows x 21 columns]"
      ]
     },
     "execution_count": 9,
     "metadata": {
      "tags": []
     },
     "output_type": "execute_result"
    }
   ],
   "source": [
    "dg3.head()"
   ]
  },
  {
   "cell_type": "markdown",
   "metadata": {
    "colab_type": "text",
    "id": "gQlqFuDxYq_n"
   },
   "source": [
    "**5. Limpieza de datos**"
   ]
  },
  {
   "cell_type": "code",
   "execution_count": 0,
   "metadata": {
    "colab": {},
    "colab_type": "code",
    "id": "meMSqpcF0w4k"
   },
   "outputs": [],
   "source": [
    "dg3 = dg3.drop(\"Ehail_fee\",1)"
   ]
  },
  {
   "cell_type": "code",
   "execution_count": 0,
   "metadata": {
    "colab": {},
    "colab_type": "code",
    "id": "r_16uezm02h8"
   },
   "outputs": [],
   "source": [
    "dg3 = dg3.drop(dg3[dg3['Total_amount']<=0].index)\n",
    "dg3 = dg3.drop(dg3[dg3['Total_amount']<=1].index)\n",
    "dg3 = dg3.drop(dg3[dg3['Total_amount']>=1000].index)"
   ]
  },
  {
   "cell_type": "code",
   "execution_count": 0,
   "metadata": {
    "colab": {},
    "colab_type": "code",
    "id": "zsOa5SDF08nb"
   },
   "outputs": [],
   "source": [
    "dg3 = dg3.drop(dg3[dg3['Pickup_latitude']<40.49].index)\n",
    "dg3 = dg3.drop(dg3[dg3['Pickup_latitude']>40.92].index)\n",
    "dg3 = dg3.drop(dg3[dg3['Pickup_longitude']<-74.27].index)\n",
    "dg3 = dg3.drop(dg3[dg3['Pickup_longitude']>-73.68].index)\n",
    "dg3 = dg3.drop(dg3[dg3['Dropoff_latitude']<40.49].index)\n",
    "dg3 = dg3.drop(dg3[dg3['Dropoff_latitude']>40.92].index)\n",
    "dg3 = dg3.drop(dg3[dg3['Dropoff_longitude']<-74.27].index)\n",
    "dg3 = dg3.drop(dg3[dg3['Dropoff_longitude']>-73.68].index)\n",
    "dg3 = dg3.drop(dg3[dg3['Trip_distance']<0.1].index)\n"
   ]
  },
  {
   "cell_type": "markdown",
   "metadata": {
    "colab_type": "text",
    "id": "WnI69_kwYwLH"
   },
   "source": [
    "**6. Importar librerías para cambiar formato de fechas**"
   ]
  },
  {
   "cell_type": "code",
   "execution_count": 0,
   "metadata": {
    "colab": {},
    "colab_type": "code",
    "id": "-aOdgP7p1TiF"
   },
   "outputs": [],
   "source": [
    "from datetime import datetime,date\n",
    "import time"
   ]
  },
  {
   "cell_type": "markdown",
   "metadata": {
    "colab_type": "text",
    "id": "z2i6bjcIY0_A"
   },
   "source": [
    "**7. Crear dos nuevas variables, duraciñon del trayecto en segundos y minutos**"
   ]
  },
  {
   "cell_type": "code",
   "execution_count": 0,
   "metadata": {
    "colab": {},
    "colab_type": "code",
    "id": "C6H929Yg1V7s"
   },
   "outputs": [],
   "source": [
    "dg3['Time_carreer_seconds'] = dg3.apply(\n",
    "    lambda s:\n",
    "    time.mktime((datetime.strptime(s['Lpep_dropoff_datetime'],\"%Y-%m-%d %H:%M:%S\")).timetuple())\n",
    "    -time.mktime((datetime.strptime(s['lpep_pickup_datetime'],\"%Y-%m-%d %H:%M:%S\")).timetuple())\n",
    "    ,axis=1)"
   ]
  },
  {
   "cell_type": "code",
   "execution_count": 0,
   "metadata": {
    "colab": {},
    "colab_type": "code",
    "id": "02YSds4D1aD0"
   },
   "outputs": [],
   "source": [
    "dg3['Duración_del_trayecto_min'] = dg3.apply(\n",
    "    lambda s:\n",
    "    (s['Time_carreer_seconds'] % 3600) // 60\n",
    "    ,axis=1)"
   ]
  },
  {
   "cell_type": "markdown",
   "metadata": {
    "colab_type": "text",
    "id": "CPVfop20Y6cZ"
   },
   "source": [
    "**8. A  partir de las columnas de fechas, creamos variables que creemos que aportarán valor a nuestro modelo**"
   ]
  },
  {
   "cell_type": "code",
   "execution_count": 0,
   "metadata": {
    "colab": {
     "base_uri": "https://localhost:8080/",
     "height": 136
    },
    "colab_type": "code",
    "executionInfo": {
     "elapsed": 161890,
     "status": "ok",
     "timestamp": 1558195565667,
     "user": {
      "displayName": "iago feliubadaló",
      "photoUrl": "https://lh6.googleusercontent.com/-g5vDNw1YDNI/AAAAAAAAAAI/AAAAAAAAAQU/Mw5sY3LeNvs/s64/photo.jpg",
      "userId": "13426049142450112585"
     },
     "user_tz": -120
    },
    "id": "G_10jDdl7g4E",
    "outputId": "ce54b4b5-390f-47a9-e61d-b988e37f6ed5"
   },
   "outputs": [
    {
     "name": "stdout",
     "output_type": "stream",
     "text": [
      "1/7\n",
      "2/7\n",
      "3/7\n",
      "4/7\n",
      "5/7\n",
      "6/7\n",
      "7/7. All done!\n"
     ]
    }
   ],
   "source": [
    "def add_datetime_features(dg3):\n",
    "    \n",
    "    year = lambda x: datetime.strptime(x, \"%Y-%m-%d %H:%M:%S\" ).year\n",
    "    dg3['year'] = dg3['lpep_pickup_datetime'].map(year)\n",
    "    print('1/7')\n",
    "    \n",
    "    hour = lambda x: datetime.strptime(x, \"%Y-%m-%d %H:%M:%S\" ).hour\n",
    "    dg3['hour'] = dg3['lpep_pickup_datetime'].map(hour)\n",
    "    print('2/7')\n",
    "\n",
    "    day_of_week = lambda x: datetime.strptime(x, \"%Y-%m-%d %H:%M:%S\" ).weekday()\n",
    "    dg3['day_of_week'] = dg3['lpep_pickup_datetime'].map(day_of_week)\n",
    "    print('3/7')\n",
    "\n",
    "    month = lambda x: datetime.strptime(x, \"%Y-%m-%d %H:%M:%S\" ).month\n",
    "    dg3['month'] = dg3['lpep_pickup_datetime'].map(month)\n",
    "    print('4/7')\n",
    "\n",
    "    week_number = lambda x: datetime.strptime(x, \"%Y-%m-%d %H:%M:%S\" ).strftime('%V')\n",
    "    dg3['week_number'] = dg3['lpep_pickup_datetime'].map(week_number)\n",
    "    print('5/7')\n",
    "    \n",
    "    seasons = [0,0,1,1,1,2,2,2,3,3,3,0] #dec - feb is winter, then spring, summer, fall etc\n",
    "    season = lambda x: seasons[(datetime.strptime(x, \"%Y-%m-%d %H:%M:%S\" ).month-1)]\n",
    "    dg3['season'] = dg3['lpep_pickup_datetime'].map(season)\n",
    "    print('6/7')\n",
    "    \n",
    "    late_night_hours = [1, 1, 1, 1, 1, 1, 0, 0, 0, 0, 0, 0, 0, 0, 0, 0, 0, 0, 0, 0, 0, 0, 1, 1]\n",
    "    late_night = lambda x: late_night_hours[(datetime.strptime(x, \"%Y-%m-%d %H:%M:%S\" ).hour)]\n",
    "    dg3['late_night'] = dg3['lpep_pickup_datetime'].map(late_night)\n",
    "    print('7/7. All done!')\n",
    "    \n",
    "add_datetime_features(dg3)"
   ]
  },
  {
   "cell_type": "code",
   "execution_count": 0,
   "metadata": {
    "colab": {},
    "colab_type": "code",
    "id": "ExVdJCvrtAjh"
   },
   "outputs": [],
   "source": [
    "dg3['Duración_del_trayecto_hora'] = dg3.apply(\n",
    "    lambda s:\n",
    "    (s['Duración_del_trayecto_min']) // 60\n",
    "    ,axis=1)"
   ]
  },
  {
   "cell_type": "code",
   "execution_count": 0,
   "metadata": {
    "colab": {},
    "colab_type": "code",
    "id": "KAxs-Ej8u2Ac"
   },
   "outputs": [],
   "source": [
    "dg3['velocidad'] = (dg3['Trip_distance']/dg3['Duración_del_trayecto_min'])*60"
   ]
  },
  {
   "cell_type": "code",
   "execution_count": 0,
   "metadata": {
    "colab": {
     "base_uri": "https://localhost:8080/",
     "height": 224
    },
    "colab_type": "code",
    "executionInfo": {
     "elapsed": 606,
     "status": "ok",
     "timestamp": 1558196343696,
     "user": {
      "displayName": "iago feliubadaló",
      "photoUrl": "https://lh6.googleusercontent.com/-g5vDNw1YDNI/AAAAAAAAAAI/AAAAAAAAAQU/Mw5sY3LeNvs/s64/photo.jpg",
      "userId": "13426049142450112585"
     },
     "user_tz": -120
    },
    "id": "-N3gvWLytMzQ",
    "outputId": "f20ea029-22dc-40e1-c2fc-593714d36f0a"
   },
   "outputs": [
    {
     "data": {
      "text/html": [
       "<div>\n",
       "<style scoped>\n",
       "    .dataframe tbody tr th:only-of-type {\n",
       "        vertical-align: middle;\n",
       "    }\n",
       "\n",
       "    .dataframe tbody tr th {\n",
       "        vertical-align: top;\n",
       "    }\n",
       "\n",
       "    .dataframe thead th {\n",
       "        text-align: right;\n",
       "    }\n",
       "</style>\n",
       "<table border=\"1\" class=\"dataframe\">\n",
       "  <thead>\n",
       "    <tr style=\"text-align: right;\">\n",
       "      <th></th>\n",
       "      <th>VendorID</th>\n",
       "      <th>lpep_pickup_datetime</th>\n",
       "      <th>Lpep_dropoff_datetime</th>\n",
       "      <th>Store_and_fwd_flag</th>\n",
       "      <th>RateCodeID</th>\n",
       "      <th>Pickup_longitude</th>\n",
       "      <th>Pickup_latitude</th>\n",
       "      <th>Dropoff_longitude</th>\n",
       "      <th>Dropoff_latitude</th>\n",
       "      <th>Passenger_count</th>\n",
       "      <th>Trip_distance</th>\n",
       "      <th>Fare_amount</th>\n",
       "      <th>Extra</th>\n",
       "      <th>MTA_tax</th>\n",
       "      <th>Tip_amount</th>\n",
       "      <th>Tolls_amount</th>\n",
       "      <th>improvement_surcharge</th>\n",
       "      <th>Total_amount</th>\n",
       "      <th>Payment_type</th>\n",
       "      <th>Trip_type</th>\n",
       "      <th>Time_carreer_seconds</th>\n",
       "      <th>Duración_del_trayecto_min</th>\n",
       "      <th>year</th>\n",
       "      <th>hour</th>\n",
       "      <th>day_of_week</th>\n",
       "      <th>month</th>\n",
       "      <th>week_number</th>\n",
       "      <th>season</th>\n",
       "      <th>late_night</th>\n",
       "      <th>Duración_del_trayecto_hora</th>\n",
       "      <th>velocidad</th>\n",
       "    </tr>\n",
       "  </thead>\n",
       "  <tbody>\n",
       "    <tr>\n",
       "      <th>0</th>\n",
       "      <td>1</td>\n",
       "      <td>2015-03-01 00:02:05</td>\n",
       "      <td>2015-03-01 00:08:01</td>\n",
       "      <td>N</td>\n",
       "      <td>1</td>\n",
       "      <td>-73.961479</td>\n",
       "      <td>40.801872</td>\n",
       "      <td>-73.980721</td>\n",
       "      <td>40.775055</td>\n",
       "      <td>1</td>\n",
       "      <td>2.10</td>\n",
       "      <td>8.0</td>\n",
       "      <td>0.5</td>\n",
       "      <td>0.5</td>\n",
       "      <td>0.0</td>\n",
       "      <td>0.0</td>\n",
       "      <td>0.3</td>\n",
       "      <td>9.3</td>\n",
       "      <td>1</td>\n",
       "      <td>1</td>\n",
       "      <td>356.0</td>\n",
       "      <td>5.0</td>\n",
       "      <td>2015</td>\n",
       "      <td>0</td>\n",
       "      <td>6</td>\n",
       "      <td>3</td>\n",
       "      <td>09</td>\n",
       "      <td>1</td>\n",
       "      <td>1</td>\n",
       "      <td>0.0</td>\n",
       "      <td>25.200</td>\n",
       "    </tr>\n",
       "    <tr>\n",
       "      <th>1</th>\n",
       "      <td>1</td>\n",
       "      <td>2015-03-01 00:02:11</td>\n",
       "      <td>2015-03-01 00:27:09</td>\n",
       "      <td>N</td>\n",
       "      <td>1</td>\n",
       "      <td>-73.979759</td>\n",
       "      <td>40.677467</td>\n",
       "      <td>-74.017097</td>\n",
       "      <td>40.710930</td>\n",
       "      <td>1</td>\n",
       "      <td>4.70</td>\n",
       "      <td>20.0</td>\n",
       "      <td>0.5</td>\n",
       "      <td>0.5</td>\n",
       "      <td>4.0</td>\n",
       "      <td>0.0</td>\n",
       "      <td>0.3</td>\n",
       "      <td>25.3</td>\n",
       "      <td>1</td>\n",
       "      <td>1</td>\n",
       "      <td>1498.0</td>\n",
       "      <td>24.0</td>\n",
       "      <td>2015</td>\n",
       "      <td>0</td>\n",
       "      <td>6</td>\n",
       "      <td>3</td>\n",
       "      <td>09</td>\n",
       "      <td>1</td>\n",
       "      <td>1</td>\n",
       "      <td>0.0</td>\n",
       "      <td>11.750</td>\n",
       "    </tr>\n",
       "    <tr>\n",
       "      <th>2</th>\n",
       "      <td>2</td>\n",
       "      <td>2015-03-01 00:02:07</td>\n",
       "      <td>2015-03-01 00:10:31</td>\n",
       "      <td>N</td>\n",
       "      <td>1</td>\n",
       "      <td>-73.941376</td>\n",
       "      <td>40.833633</td>\n",
       "      <td>-73.926689</td>\n",
       "      <td>40.863411</td>\n",
       "      <td>1</td>\n",
       "      <td>3.09</td>\n",
       "      <td>11.0</td>\n",
       "      <td>0.5</td>\n",
       "      <td>0.5</td>\n",
       "      <td>0.0</td>\n",
       "      <td>0.0</td>\n",
       "      <td>0.3</td>\n",
       "      <td>12.3</td>\n",
       "      <td>2</td>\n",
       "      <td>1</td>\n",
       "      <td>504.0</td>\n",
       "      <td>8.0</td>\n",
       "      <td>2015</td>\n",
       "      <td>0</td>\n",
       "      <td>6</td>\n",
       "      <td>3</td>\n",
       "      <td>09</td>\n",
       "      <td>1</td>\n",
       "      <td>1</td>\n",
       "      <td>0.0</td>\n",
       "      <td>23.175</td>\n",
       "    </tr>\n",
       "    <tr>\n",
       "      <th>3</th>\n",
       "      <td>1</td>\n",
       "      <td>2015-03-01 00:02:13</td>\n",
       "      <td>2015-03-01 00:09:09</td>\n",
       "      <td>N</td>\n",
       "      <td>1</td>\n",
       "      <td>-73.939674</td>\n",
       "      <td>40.821152</td>\n",
       "      <td>-73.931854</td>\n",
       "      <td>40.846458</td>\n",
       "      <td>1</td>\n",
       "      <td>2.20</td>\n",
       "      <td>8.5</td>\n",
       "      <td>0.5</td>\n",
       "      <td>0.5</td>\n",
       "      <td>0.0</td>\n",
       "      <td>0.0</td>\n",
       "      <td>0.3</td>\n",
       "      <td>9.8</td>\n",
       "      <td>4</td>\n",
       "      <td>1</td>\n",
       "      <td>416.0</td>\n",
       "      <td>6.0</td>\n",
       "      <td>2015</td>\n",
       "      <td>0</td>\n",
       "      <td>6</td>\n",
       "      <td>3</td>\n",
       "      <td>09</td>\n",
       "      <td>1</td>\n",
       "      <td>1</td>\n",
       "      <td>0.0</td>\n",
       "      <td>22.000</td>\n",
       "    </tr>\n",
       "    <tr>\n",
       "      <th>4</th>\n",
       "      <td>2</td>\n",
       "      <td>2015-03-01 00:02:18</td>\n",
       "      <td>2015-03-01 00:07:52</td>\n",
       "      <td>N</td>\n",
       "      <td>1</td>\n",
       "      <td>-73.957344</td>\n",
       "      <td>40.712959</td>\n",
       "      <td>-73.954796</td>\n",
       "      <td>40.719650</td>\n",
       "      <td>6</td>\n",
       "      <td>0.75</td>\n",
       "      <td>5.5</td>\n",
       "      <td>0.5</td>\n",
       "      <td>0.5</td>\n",
       "      <td>1.0</td>\n",
       "      <td>0.0</td>\n",
       "      <td>0.3</td>\n",
       "      <td>7.8</td>\n",
       "      <td>1</td>\n",
       "      <td>1</td>\n",
       "      <td>334.0</td>\n",
       "      <td>5.0</td>\n",
       "      <td>2015</td>\n",
       "      <td>0</td>\n",
       "      <td>6</td>\n",
       "      <td>3</td>\n",
       "      <td>09</td>\n",
       "      <td>1</td>\n",
       "      <td>1</td>\n",
       "      <td>0.0</td>\n",
       "      <td>9.000</td>\n",
       "    </tr>\n",
       "  </tbody>\n",
       "</table>\n",
       "</div>"
      ],
      "text/plain": [
       "   VendorID lpep_pickup_datetime  ... Duración_del_trayecto_hora velocidad\n",
       "0         1  2015-03-01 00:02:05  ...                        0.0    25.200\n",
       "1         1  2015-03-01 00:02:11  ...                        0.0    11.750\n",
       "2         2  2015-03-01 00:02:07  ...                        0.0    23.175\n",
       "3         1  2015-03-01 00:02:13  ...                        0.0    22.000\n",
       "4         2  2015-03-01 00:02:18  ...                        0.0     9.000\n",
       "\n",
       "[5 rows x 31 columns]"
      ]
     },
     "execution_count": 22,
     "metadata": {
      "tags": []
     },
     "output_type": "execute_result"
    }
   ],
   "source": [
    "dg3.head()"
   ]
  },
  {
   "cell_type": "markdown",
   "metadata": {
    "colab_type": "text",
    "id": "Zs75imIFZKfc"
   },
   "source": [
    "**9. Importamos las librerías para aplicar técnicas de machine learning**"
   ]
  },
  {
   "cell_type": "code",
   "execution_count": 0,
   "metadata": {
    "colab": {},
    "colab_type": "code",
    "id": "P38vJ55M1r48"
   },
   "outputs": [],
   "source": [
    "from  sklearn.model_selection import train_test_split\n",
    "from sklearn import metrics\n",
    "from sklearn.metrics import mean_squared_error\n",
    "from sklearn.model_selection import train_test_split, cross_val_score \n",
    "from sklearn.linear_model import LinearRegression \n",
    "import xgboost as xgb\n",
    "\n"
   ]
  },
  {
   "cell_type": "markdown",
   "metadata": {
    "colab_type": "text",
    "id": "TF00r-bHnXdQ"
   },
   "source": [
    "**10. Creamos la distancia esférica para el posterior cálculo del punto 11.**"
   ]
  },
  {
   "cell_type": "code",
   "execution_count": 0,
   "metadata": {
    "colab": {},
    "colab_type": "code",
    "id": "2jFm-29bg6bU"
   },
   "outputs": [],
   "source": [
    "def sphere_dist(pickup_lat, pickup_lon, dropoff_lat, dropoff_lon):\n",
    "   \n",
    "    R_earth = 6371\n",
    "    pickup_lat, pickup_lon, dropoff_lat, dropoff_lon = map(np.radians,\n",
    "                                                             [pickup_lat, pickup_lon, \n",
    "                                                              dropoff_lat, dropoff_lon])\n",
    "    dlat = dropoff_lat - pickup_lat\n",
    "    dlon = dropoff_lon - pickup_lon\n",
    "    \n",
    "    a = np.sin(dlat/2.0)**2 + np.cos(pickup_lat) * np.cos(dropoff_lat) * np.sin(dlon/2.0)**2\n",
    "    \n",
    "    return 2 * R_earth * np.arcsin(np.sqrt(a))"
   ]
  },
  {
   "cell_type": "markdown",
   "metadata": {
    "colab_type": "text",
    "id": "osIp-zImnkSB"
   },
   "source": [
    "**11. Cálculo de las distancias a los aeropuertos**"
   ]
  },
  {
   "cell_type": "code",
   "execution_count": 0,
   "metadata": {
    "colab": {},
    "colab_type": "code",
    "id": "YY6_iCEZe_ni"
   },
   "outputs": [],
   "source": [
    "def add_airport_dist(dataset):\n",
    "    \"\"\"\n",
    "    JFK: John F. Kennedy International Airport\n",
    "    EWR: Newark Liberty International Airport\n",
    "    LGA: LaGuardia Airport\n",
    "    \"\"\"\n",
    "    jfk_coord = (40.639722, -73.778889)\n",
    "    ewr_coord = (40.6925, -74.168611)\n",
    "    lga_coord = (40.77725, -73.872611)\n",
    "    \n",
    "    pickup_lat = dataset['Pickup_latitude']\n",
    "    dropoff_lat = dataset['Dropoff_latitude']\n",
    "    pickup_lon = dataset['Pickup_longitude']\n",
    "    dropoff_lon = dataset['Dropoff_longitude']\n",
    "    \n",
    "    pickup_jfk = sphere_dist(pickup_lat, pickup_lon, jfk_coord[0], jfk_coord[1]) \n",
    "    dropoff_jfk = sphere_dist(jfk_coord[0], jfk_coord[1], dropoff_lat, dropoff_lon) \n",
    "    pickup_ewr = sphere_dist(pickup_lat, pickup_lon, ewr_coord[0], ewr_coord[1])\n",
    "    dropoff_ewr = sphere_dist(ewr_coord[0], ewr_coord[1], dropoff_lat, dropoff_lon) \n",
    "    pickup_lga = sphere_dist(pickup_lat, pickup_lon, lga_coord[0], lga_coord[1]) \n",
    "    dropoff_lga = sphere_dist(lga_coord[0], lga_coord[1], dropoff_lat, dropoff_lon) \n",
    "    \n",
    "    dataset['JFKDist'] = pd.concat([pickup_jfk, dropoff_jfk], axis=1).min(axis=1)\n",
    "    dataset['EWRDist'] = pd.concat([pickup_ewr, dropoff_ewr], axis=1).min(axis=1)\n",
    "    dataset['LGADist'] = pd.concat([pickup_lga, dropoff_lga], axis=1).min(axis=1)\n",
    "    \n",
    "    return dataset"
   ]
  },
  {
   "cell_type": "markdown",
   "metadata": {
    "colab_type": "text",
    "id": "mgTDGAPgnr_W"
   },
   "source": [
    "**12. Añadimos el dataset creado al dataset existente**"
   ]
  },
  {
   "cell_type": "code",
   "execution_count": 0,
   "metadata": {
    "colab": {},
    "colab_type": "code",
    "id": "qKhOH1zSgrcp"
   },
   "outputs": [],
   "source": [
    "dg3 = add_airport_dist(dg3)"
   ]
  },
  {
   "cell_type": "markdown",
   "metadata": {
    "colab_type": "text",
    "id": "YnZ2BVyxnwpj"
   },
   "source": [
    "**13. Visualización de los datos**"
   ]
  },
  {
   "cell_type": "code",
   "execution_count": 0,
   "metadata": {
    "colab": {
     "base_uri": "https://localhost:8080/",
     "height": 253
    },
    "colab_type": "code",
    "executionInfo": {
     "elapsed": 607,
     "status": "ok",
     "timestamp": 1557673089023,
     "user": {
      "displayName": "iago feliubadaló",
      "photoUrl": "https://lh6.googleusercontent.com/-g5vDNw1YDNI/AAAAAAAAAAI/AAAAAAAAAQU/Mw5sY3LeNvs/s64/photo.jpg",
      "userId": "13426049142450112585"
     },
     "user_tz": -120
    },
    "id": "wQvlQJoT2MUb",
    "outputId": "c8ceb6f4-dd09-41d1-f360-7ab520ed41aa"
   },
   "outputs": [
    {
     "data": {
      "text/html": [
       "<div>\n",
       "<style scoped>\n",
       "    .dataframe tbody tr th:only-of-type {\n",
       "        vertical-align: middle;\n",
       "    }\n",
       "\n",
       "    .dataframe tbody tr th {\n",
       "        vertical-align: top;\n",
       "    }\n",
       "\n",
       "    .dataframe thead th {\n",
       "        text-align: right;\n",
       "    }\n",
       "</style>\n",
       "<table border=\"1\" class=\"dataframe\">\n",
       "  <thead>\n",
       "    <tr style=\"text-align: right;\">\n",
       "      <th></th>\n",
       "      <th>VendorID</th>\n",
       "      <th>lpep_pickup_datetime</th>\n",
       "      <th>Lpep_dropoff_datetime</th>\n",
       "      <th>Store_and_fwd_flag</th>\n",
       "      <th>RateCodeID</th>\n",
       "      <th>Pickup_longitude</th>\n",
       "      <th>Pickup_latitude</th>\n",
       "      <th>Dropoff_longitude</th>\n",
       "      <th>Dropoff_latitude</th>\n",
       "      <th>Passenger_count</th>\n",
       "      <th>...</th>\n",
       "      <th>year</th>\n",
       "      <th>hour</th>\n",
       "      <th>day_of_week</th>\n",
       "      <th>month</th>\n",
       "      <th>week_number</th>\n",
       "      <th>season</th>\n",
       "      <th>late_night</th>\n",
       "      <th>JFKDist</th>\n",
       "      <th>EWRDist</th>\n",
       "      <th>LGADist</th>\n",
       "    </tr>\n",
       "  </thead>\n",
       "  <tbody>\n",
       "    <tr>\n",
       "      <th>0</th>\n",
       "      <td>1</td>\n",
       "      <td>2015-03-01 00:02:05</td>\n",
       "      <td>2015-03-01 00:08:01</td>\n",
       "      <td>N</td>\n",
       "      <td>1</td>\n",
       "      <td>-73.961479</td>\n",
       "      <td>40.801872</td>\n",
       "      <td>-73.980721</td>\n",
       "      <td>40.775055</td>\n",
       "      <td>1</td>\n",
       "      <td>...</td>\n",
       "      <td>2015</td>\n",
       "      <td>0</td>\n",
       "      <td>6</td>\n",
       "      <td>3</td>\n",
       "      <td>09</td>\n",
       "      <td>1</td>\n",
       "      <td>1</td>\n",
       "      <td>22.713038</td>\n",
       "      <td>18.300146</td>\n",
       "      <td>7.966792</td>\n",
       "    </tr>\n",
       "    <tr>\n",
       "      <th>1</th>\n",
       "      <td>1</td>\n",
       "      <td>2015-03-01 00:02:11</td>\n",
       "      <td>2015-03-01 00:27:09</td>\n",
       "      <td>N</td>\n",
       "      <td>1</td>\n",
       "      <td>-73.979759</td>\n",
       "      <td>40.677467</td>\n",
       "      <td>-74.017097</td>\n",
       "      <td>40.710930</td>\n",
       "      <td>1</td>\n",
       "      <td>...</td>\n",
       "      <td>2015</td>\n",
       "      <td>0</td>\n",
       "      <td>6</td>\n",
       "      <td>3</td>\n",
       "      <td>09</td>\n",
       "      <td>1</td>\n",
       "      <td>1</td>\n",
       "      <td>17.456094</td>\n",
       "      <td>12.935724</td>\n",
       "      <td>14.231870</td>\n",
       "    </tr>\n",
       "    <tr>\n",
       "      <th>2</th>\n",
       "      <td>2</td>\n",
       "      <td>2015-03-01 00:02:07</td>\n",
       "      <td>2015-03-01 00:10:31</td>\n",
       "      <td>N</td>\n",
       "      <td>1</td>\n",
       "      <td>-73.941376</td>\n",
       "      <td>40.833633</td>\n",
       "      <td>-73.926689</td>\n",
       "      <td>40.863411</td>\n",
       "      <td>1</td>\n",
       "      <td>...</td>\n",
       "      <td>2015</td>\n",
       "      <td>0</td>\n",
       "      <td>6</td>\n",
       "      <td>3</td>\n",
       "      <td>09</td>\n",
       "      <td>1</td>\n",
       "      <td>1</td>\n",
       "      <td>25.540934</td>\n",
       "      <td>24.749552</td>\n",
       "      <td>8.532588</td>\n",
       "    </tr>\n",
       "    <tr>\n",
       "      <th>3</th>\n",
       "      <td>1</td>\n",
       "      <td>2015-03-01 00:02:13</td>\n",
       "      <td>2015-03-01 00:09:09</td>\n",
       "      <td>N</td>\n",
       "      <td>1</td>\n",
       "      <td>-73.939674</td>\n",
       "      <td>40.821152</td>\n",
       "      <td>-73.931854</td>\n",
       "      <td>40.846458</td>\n",
       "      <td>1</td>\n",
       "      <td>...</td>\n",
       "      <td>2015</td>\n",
       "      <td>0</td>\n",
       "      <td>6</td>\n",
       "      <td>3</td>\n",
       "      <td>09</td>\n",
       "      <td>1</td>\n",
       "      <td>1</td>\n",
       "      <td>24.301112</td>\n",
       "      <td>24.009999</td>\n",
       "      <td>7.463057</td>\n",
       "    </tr>\n",
       "    <tr>\n",
       "      <th>4</th>\n",
       "      <td>2</td>\n",
       "      <td>2015-03-01 00:02:18</td>\n",
       "      <td>2015-03-01 00:07:52</td>\n",
       "      <td>N</td>\n",
       "      <td>1</td>\n",
       "      <td>-73.957344</td>\n",
       "      <td>40.712959</td>\n",
       "      <td>-73.954796</td>\n",
       "      <td>40.719650</td>\n",
       "      <td>6</td>\n",
       "      <td>...</td>\n",
       "      <td>2015</td>\n",
       "      <td>0</td>\n",
       "      <td>6</td>\n",
       "      <td>3</td>\n",
       "      <td>09</td>\n",
       "      <td>1</td>\n",
       "      <td>1</td>\n",
       "      <td>17.111327</td>\n",
       "      <td>17.953931</td>\n",
       "      <td>9.431441</td>\n",
       "    </tr>\n",
       "  </tbody>\n",
       "</table>\n",
       "<p>5 rows × 32 columns</p>\n",
       "</div>"
      ],
      "text/plain": [
       "   VendorID lpep_pickup_datetime Lpep_dropoff_datetime Store_and_fwd_flag  \\\n",
       "0         1  2015-03-01 00:02:05   2015-03-01 00:08:01                  N   \n",
       "1         1  2015-03-01 00:02:11   2015-03-01 00:27:09                  N   \n",
       "2         2  2015-03-01 00:02:07   2015-03-01 00:10:31                  N   \n",
       "3         1  2015-03-01 00:02:13   2015-03-01 00:09:09                  N   \n",
       "4         2  2015-03-01 00:02:18   2015-03-01 00:07:52                  N   \n",
       "\n",
       "   RateCodeID  Pickup_longitude  Pickup_latitude  Dropoff_longitude  \\\n",
       "0           1        -73.961479        40.801872         -73.980721   \n",
       "1           1        -73.979759        40.677467         -74.017097   \n",
       "2           1        -73.941376        40.833633         -73.926689   \n",
       "3           1        -73.939674        40.821152         -73.931854   \n",
       "4           1        -73.957344        40.712959         -73.954796   \n",
       "\n",
       "   Dropoff_latitude  Passenger_count  ...  year  hour  day_of_week  month  \\\n",
       "0         40.775055                1  ...  2015     0            6      3   \n",
       "1         40.710930                1  ...  2015     0            6      3   \n",
       "2         40.863411                1  ...  2015     0            6      3   \n",
       "3         40.846458                1  ...  2015     0            6      3   \n",
       "4         40.719650                6  ...  2015     0            6      3   \n",
       "\n",
       "   week_number  season  late_night    JFKDist    EWRDist    LGADist  \n",
       "0           09       1           1  22.713038  18.300146   7.966792  \n",
       "1           09       1           1  17.456094  12.935724  14.231870  \n",
       "2           09       1           1  25.540934  24.749552   8.532588  \n",
       "3           09       1           1  24.301112  24.009999   7.463057  \n",
       "4           09       1           1  17.111327  17.953931   9.431441  \n",
       "\n",
       "[5 rows x 32 columns]"
      ]
     },
     "execution_count": 56,
     "metadata": {
      "tags": []
     },
     "output_type": "execute_result"
    }
   ],
   "source": [
    "dg3.head()"
   ]
  },
  {
   "cell_type": "code",
   "execution_count": 0,
   "metadata": {
    "colab": {
     "base_uri": "https://localhost:8080/",
     "height": 595
    },
    "colab_type": "code",
    "executionInfo": {
     "elapsed": 2158,
     "status": "ok",
     "timestamp": 1557672261883,
     "user": {
      "displayName": "iago feliubadaló",
      "photoUrl": "https://lh6.googleusercontent.com/-g5vDNw1YDNI/AAAAAAAAAAI/AAAAAAAAAQU/Mw5sY3LeNvs/s64/photo.jpg",
      "userId": "13426049142450112585"
     },
     "user_tz": -120
    },
    "id": "VrxFBbJnf0Xt",
    "outputId": "c77cf7d1-fa31-4b5a-bd43-2207f7665404"
   },
   "outputs": [
    {
     "name": "stdout",
     "output_type": "stream",
     "text": [
      "<class 'pandas.core.frame.DataFrame'>\n",
      "Int64Index: 974375 entries, 0 to 999999\n",
      "Data columns (total 29 columns):\n",
      "VendorID                     974375 non-null int64\n",
      "lpep_pickup_datetime         974375 non-null object\n",
      "Lpep_dropoff_datetime        974375 non-null object\n",
      "Store_and_fwd_flag           974375 non-null object\n",
      "RateCodeID                   974375 non-null int64\n",
      "Pickup_longitude             974375 non-null float64\n",
      "Pickup_latitude              974375 non-null float64\n",
      "Dropoff_longitude            974375 non-null float64\n",
      "Dropoff_latitude             974375 non-null float64\n",
      "Passenger_count              974375 non-null int64\n",
      "Trip_distance                974375 non-null float64\n",
      "Fare_amount                  974375 non-null float64\n",
      "Extra                        974375 non-null float64\n",
      "MTA_tax                      974375 non-null float64\n",
      "Tip_amount                   974375 non-null float64\n",
      "Tolls_amount                 974375 non-null float64\n",
      "improvement_surcharge        974375 non-null float64\n",
      "Total_amount                 974375 non-null float64\n",
      "Payment_type                 974375 non-null int64\n",
      "Trip_type                    974375 non-null int64\n",
      "Time_carreer_seconds         974375 non-null float64\n",
      "Duración_del_trayecto_min    974375 non-null float64\n",
      "year                         974375 non-null int64\n",
      "hour                         974375 non-null int64\n",
      "day_of_week                  974375 non-null int64\n",
      "month                        974375 non-null int64\n",
      "week_number                  974375 non-null object\n",
      "season                       974375 non-null int64\n",
      "late_night                   974375 non-null int64\n",
      "dtypes: float64(14), int64(11), object(4)\n",
      "memory usage: 223.0+ MB\n"
     ]
    }
   ],
   "source": [
    "dg3.info()"
   ]
  },
  {
   "cell_type": "markdown",
   "metadata": {
    "colab_type": "text",
    "id": "w5jJEQXpZRxC"
   },
   "source": [
    "**14. Definimos X e y**"
   ]
  },
  {
   "cell_type": "code",
   "execution_count": 0,
   "metadata": {
    "colab": {},
    "colab_type": "code",
    "id": "vkA5P7nT1u2a"
   },
   "outputs": [],
   "source": [
    "y = dg3['Total_amount']"
   ]
  },
  {
   "cell_type": "code",
   "execution_count": 0,
   "metadata": {
    "colab": {},
    "colab_type": "code",
    "id": "oEM3mfL3fthB"
   },
   "outputs": [],
   "source": [
    "X = dg3[['Trip_distance',\n",
    "           'day_of_week','month','year',\n",
    "           'hour','Passenger_count','Pickup_longitude',\n",
    "          'Pickup_latitude','Dropoff_longitude','Dropoff_latitude','JFKDist','EWRDist','LGADist', 'Duración_del_trayecto_min']]"
   ]
  },
  {
   "cell_type": "markdown",
   "metadata": {
    "colab_type": "text",
    "id": "l7C-x2Nrn_58"
   },
   "source": [
    "**15. Split de las muestras en train y test**"
   ]
  },
  {
   "cell_type": "code",
   "execution_count": 0,
   "metadata": {
    "colab": {},
    "colab_type": "code",
    "id": "8NEj6EBV2W17"
   },
   "outputs": [],
   "source": [
    "X_train, X_test, y_train, y_test = train_test_split(X, y, random_state=42, test_size = .3)"
   ]
  },
  {
   "cell_type": "markdown",
   "metadata": {
    "colab_type": "text",
    "id": "vBzHz-HCoDeR"
   },
   "source": [
    "**16. Librería para la regresión lineal**"
   ]
  },
  {
   "cell_type": "code",
   "execution_count": 0,
   "metadata": {
    "colab": {
     "base_uri": "https://localhost:8080/",
     "height": 51
    },
    "colab_type": "code",
    "executionInfo": {
     "elapsed": 1100,
     "status": "ok",
     "timestamp": 1557674801563,
     "user": {
      "displayName": "iago feliubadaló",
      "photoUrl": "https://lh6.googleusercontent.com/-g5vDNw1YDNI/AAAAAAAAAAI/AAAAAAAAAQU/Mw5sY3LeNvs/s64/photo.jpg",
      "userId": "13426049142450112585"
     },
     "user_tz": -120
    },
    "id": "pUI4i_tD2cVs",
    "outputId": "2f7a3c60-092c-40d2-95de-4690cc843daa"
   },
   "outputs": [
    {
     "data": {
      "text/plain": [
       "LinearRegression(copy_X=True, fit_intercept=True, n_jobs=None,\n",
       "         normalize=False)"
      ]
     },
     "execution_count": 66,
     "metadata": {
      "tags": []
     },
     "output_type": "execute_result"
    }
   ],
   "source": [
    "from sklearn.linear_model import LinearRegression\n",
    "lr = LinearRegression()\n",
    "lr.fit(X_train, y_train)"
   ]
  },
  {
   "cell_type": "markdown",
   "metadata": {
    "colab_type": "text",
    "id": "AH-CA1TfoJ6a"
   },
   "source": [
    "**17. Resultado del algoritmo de la regresión lineal, cuanto más cerca del 0; mejor es el resultado**"
   ]
  },
  {
   "cell_type": "code",
   "execution_count": 0,
   "metadata": {
    "colab": {
     "base_uri": "https://localhost:8080/",
     "height": 51
    },
    "colab_type": "code",
    "executionInfo": {
     "elapsed": 996,
     "status": "ok",
     "timestamp": 1557674804127,
     "user": {
      "displayName": "iago feliubadaló",
      "photoUrl": "https://lh6.googleusercontent.com/-g5vDNw1YDNI/AAAAAAAAAAI/AAAAAAAAAQU/Mw5sY3LeNvs/s64/photo.jpg",
      "userId": "13426049142450112585"
     },
     "user_tz": -120
    },
    "id": "itDzVU-p2kHE",
    "outputId": "0370ee01-2674-4a3b-cd8a-5aea2c744397"
   },
   "outputs": [
    {
     "name": "stdout",
     "output_type": "stream",
     "text": [
      "0.7695336340906328\n",
      "0.7795767416398377\n"
     ]
    }
   ],
   "source": [
    "lm = LinearRegression()\n",
    "lm.fit(X_train,y_train)\n",
    "print(lm.score(X_train,y_train))\n",
    "print(lm.score(X_test,y_test))\n",
    "\n"
   ]
  },
  {
   "cell_type": "markdown",
   "metadata": {
    "colab_type": "text",
    "id": "7hsLFqjUoWSf"
   },
   "source": [
    "**18. Le aplicamos la métrica del error cuadrático medio, da un valor claramente mejorable**"
   ]
  },
  {
   "cell_type": "code",
   "execution_count": 0,
   "metadata": {
    "colab": {
     "base_uri": "https://localhost:8080/",
     "height": 34
    },
    "colab_type": "code",
    "executionInfo": {
     "elapsed": 808,
     "status": "ok",
     "timestamp": 1557674807013,
     "user": {
      "displayName": "iago feliubadaló",
      "photoUrl": "https://lh6.googleusercontent.com/-g5vDNw1YDNI/AAAAAAAAAAI/AAAAAAAAAQU/Mw5sY3LeNvs/s64/photo.jpg",
      "userId": "13426049142450112585"
     },
     "user_tz": -120
    },
    "id": "bZf1pD0z2pKl",
    "outputId": "497d307f-3d52-400b-b50a-c43f52a875dd"
   },
   "outputs": [
    {
     "data": {
      "text/plain": [
       "5.107531904509457"
      ]
     },
     "execution_count": 68,
     "metadata": {
      "tags": []
     },
     "output_type": "execute_result"
    }
   ],
   "source": [
    "y_pred = lm.predict(X_test)\n",
    "lrmse = np.sqrt(metrics.mean_squared_error(y_pred, y_test))\n",
    "lrmse\n",
    "\n"
   ]
  },
  {
   "cell_type": "markdown",
   "metadata": {
    "colab_type": "text",
    "id": "PBhJZ0EAomHv"
   },
   "source": [
    "**19. Librería para plicar el algoritmo correspondiente al random forest. Una vez importado aplicamos dicho algoritmo sobre el set de datos train**"
   ]
  },
  {
   "cell_type": "code",
   "execution_count": 0,
   "metadata": {
    "colab": {
     "base_uri": "https://localhost:8080/",
     "height": 187
    },
    "colab_type": "code",
    "executionInfo": {
     "elapsed": 109182,
     "status": "ok",
     "timestamp": 1557674919328,
     "user": {
      "displayName": "iago feliubadaló",
      "photoUrl": "https://lh6.googleusercontent.com/-g5vDNw1YDNI/AAAAAAAAAAI/AAAAAAAAAQU/Mw5sY3LeNvs/s64/photo.jpg",
      "userId": "13426049142450112585"
     },
     "user_tz": -120
    },
    "id": "gGMQJ5bf2wlr",
    "outputId": "62f1a05a-6e95-40ab-b701-3600330110e5"
   },
   "outputs": [
    {
     "name": "stderr",
     "output_type": "stream",
     "text": [
      "/usr/local/lib/python3.6/dist-packages/sklearn/ensemble/forest.py:246: FutureWarning:\n",
      "\n",
      "The default value of n_estimators will change from 10 in version 0.20 to 100 in 0.22.\n",
      "\n"
     ]
    },
    {
     "data": {
      "text/plain": [
       "RandomForestRegressor(bootstrap=True, criterion='mse', max_depth=None,\n",
       "           max_features='auto', max_leaf_nodes=None,\n",
       "           min_impurity_decrease=0.0, min_impurity_split=None,\n",
       "           min_samples_leaf=1, min_samples_split=2,\n",
       "           min_weight_fraction_leaf=0.0, n_estimators=10, n_jobs=None,\n",
       "           oob_score=False, random_state=42, verbose=0, warm_start=False)"
      ]
     },
     "execution_count": 69,
     "metadata": {
      "tags": []
     },
     "output_type": "execute_result"
    }
   ],
   "source": [
    "from sklearn.ensemble import RandomForestRegressor\n",
    "\n",
    "randomForest = RandomForestRegressor(random_state=42)\n",
    "randomForest.fit(X_train, y_train)\n",
    "\n"
   ]
  },
  {
   "cell_type": "markdown",
   "metadata": {
    "colab_type": "text",
    "id": "mazari9coreM"
   },
   "source": [
    "**20. Resultado del random forest según la métrica MSE (mean squared error)**"
   ]
  },
  {
   "cell_type": "code",
   "execution_count": 0,
   "metadata": {
    "colab": {
     "base_uri": "https://localhost:8080/",
     "height": 34
    },
    "colab_type": "code",
    "executionInfo": {
     "elapsed": 100601,
     "status": "ok",
     "timestamp": 1557674921518,
     "user": {
      "displayName": "iago feliubadaló",
      "photoUrl": "https://lh6.googleusercontent.com/-g5vDNw1YDNI/AAAAAAAAAAI/AAAAAAAAAQU/Mw5sY3LeNvs/s64/photo.jpg",
      "userId": "13426049142450112585"
     },
     "user_tz": -120
    },
    "id": "YXPLhIAI3FwL",
    "outputId": "ebae4de4-3f15-45c2-95e2-cf65e200d6de"
   },
   "outputs": [
    {
     "data": {
      "text/plain": [
       "4.743906549549304"
      ]
     },
     "execution_count": 70,
     "metadata": {
      "tags": []
     },
     "output_type": "execute_result"
    }
   ],
   "source": [
    "randomForestPredict = randomForest.predict(X_test)\n",
    "randomForest_mse = mean_squared_error(y_test, randomForestPredict)\n",
    "randomForestMSE = np.sqrt(randomForest_mse)\n",
    "randomForestMSE"
   ]
  },
  {
   "cell_type": "markdown",
   "metadata": {
    "colab_type": "text",
    "id": "0ryLPYanpF9a"
   },
   "source": [
    "**21. En este apartado tratamos de mejorar el resultado tuneando el algoritmo**"
   ]
  },
  {
   "cell_type": "code",
   "execution_count": 0,
   "metadata": {
    "colab": {},
    "colab_type": "code",
    "id": "UPpy1v2J3Noj"
   },
   "outputs": [],
   "source": [
    "model = RandomForestRegressor(n_estimators=25, max_features=6, max_depth=25, min_samples_split=3,\n",
    "                              min_samples_leaf=2, random_state=0)"
   ]
  },
  {
   "cell_type": "markdown",
   "metadata": {
    "colab_type": "text",
    "id": "M8ZueTP1pMKX"
   },
   "source": [
    "**22. Fit del modelo mejorado**"
   ]
  },
  {
   "cell_type": "code",
   "execution_count": 0,
   "metadata": {
    "colab": {},
    "colab_type": "code",
    "id": "y7n8AVkL3VOd"
   },
   "outputs": [],
   "source": [
    "randomForestImproved = model.fit(X_train,y_train)"
   ]
  },
  {
   "cell_type": "markdown",
   "metadata": {
    "colab_type": "text",
    "id": "KVL-DhytpOmR"
   },
   "source": [
    "**23. Resultado del algoritmo mejorado, mejora en 0.2 puntos aproximadamente**"
   ]
  },
  {
   "cell_type": "code",
   "execution_count": 0,
   "metadata": {
    "colab": {
     "base_uri": "https://localhost:8080/",
     "height": 34
    },
    "colab_type": "code",
    "executionInfo": {
     "elapsed": 213206,
     "status": "ok",
     "timestamp": 1557675044937,
     "user": {
      "displayName": "iago feliubadaló",
      "photoUrl": "https://lh6.googleusercontent.com/-g5vDNw1YDNI/AAAAAAAAAAI/AAAAAAAAAQU/Mw5sY3LeNvs/s64/photo.jpg",
      "userId": "13426049142450112585"
     },
     "user_tz": -120
    },
    "id": "cjclGXp63X7N",
    "outputId": "e2fd167e-9291-4d08-bf53-325d4aa3e2e1"
   },
   "outputs": [
    {
     "data": {
      "text/plain": [
       "4.525558324079368"
      ]
     },
     "execution_count": 73,
     "metadata": {
      "tags": []
     },
     "output_type": "execute_result"
    }
   ],
   "source": [
    "randomForestImprovedPredict = randomForestImproved.predict(X_test)\n",
    "randomForestImproved_mse = mean_squared_error(y_test, randomForestImprovedPredict)\n",
    "randomForestImprovedMSE = np.sqrt(randomForestImproved_mse)\n",
    "randomForestImprovedMSE"
   ]
  },
  {
   "cell_type": "markdown",
   "metadata": {
    "colab_type": "text",
    "id": "9qxALOW3pc4-"
   },
   "source": [
    "**24. Importación de librerías para mostrar gráficos relevantes**"
   ]
  },
  {
   "cell_type": "code",
   "execution_count": 0,
   "metadata": {
    "colab": {
     "base_uri": "https://localhost:8080/",
     "height": 17
    },
    "colab_type": "code",
    "executionInfo": {
     "elapsed": 6309,
     "status": "ok",
     "timestamp": 1557674629466,
     "user": {
      "displayName": "iago feliubadaló",
      "photoUrl": "https://lh6.googleusercontent.com/-g5vDNw1YDNI/AAAAAAAAAAI/AAAAAAAAAQU/Mw5sY3LeNvs/s64/photo.jpg",
      "userId": "13426049142450112585"
     },
     "user_tz": -120
    },
    "id": "fjaKBp4-3py0",
    "outputId": "e5d6f66f-996e-424c-ebbe-472cf9b333b7"
   },
   "outputs": [],
   "source": [
    "import matplotlib.pyplot as plt\n",
    "import seaborn as sns\n",
    "\n",
    "import plotly\n",
    "import plotly.plotly as py\n",
    "import plotly.offline as offline\n",
    "import plotly.graph_objs as go\n",
    "from plotly.offline import download_plotlyjs, init_notebook_mode, plot, iplot\n",
    "init_notebook_mode(connected=True)\n",
    "import cufflinks as cf\n",
    "from plotly.graph_objs import Scatter, Figure, Layout\n",
    "cf.set_config_file(offline=True)\n",
    "\n",
    "# Configuración de los gráficos\n",
    "fig_size = plt.rcParams[\"figure.figsize\"]\n",
    "fig_size[0] = 12\n",
    "fig_size[1] = 9\n",
    "plt.rcParams[\"figure.figsize\"] = fig_size"
   ]
  },
  {
   "cell_type": "markdown",
   "metadata": {
    "colab_type": "text",
    "id": "9NU-CAhOphdh"
   },
   "source": [
    "**25. Importancia de las variables para el modelo random forest mejorado**"
   ]
  },
  {
   "cell_type": "code",
   "execution_count": 0,
   "metadata": {
    "colab": {
     "base_uri": "https://localhost:8080/",
     "height": 1165
    },
    "colab_type": "code",
    "executionInfo": {
     "elapsed": 1529,
     "status": "ok",
     "timestamp": 1557428982353,
     "user": {
      "displayName": "iago feliubadaló",
      "photoUrl": "https://lh6.googleusercontent.com/-g5vDNw1YDNI/AAAAAAAAAAI/AAAAAAAAAQU/Mw5sY3LeNvs/s64/photo.jpg",
      "userId": "13426049142450112585"
     },
     "user_tz": -120
    },
    "id": "e0xB2Cwh3bQr",
    "outputId": "7346b932-9b10-44f2-d3ea-4faa8a903819"
   },
   "outputs": [
    {
     "data": {
      "image/png": "[encoded data removed]",
      "text/plain": [
       "<Figure size 1440x1440 with 1 Axes>"
      ]
     },
     "metadata": {
      "tags": []
     },
     "output_type": "display_data"
    }
   ],
   "source": [
    "feature_importance = randomForestImproved.feature_importances_\n",
    "feature_importance = 100.0 * (feature_importance / feature_importance.max())\n",
    "sorted_idx = np.argsort(feature_importance)\n",
    "pos = np.arange(sorted_idx.shape[0]) + .5\n",
    "plt.figure(figsize=(20,20))\n",
    "plt.subplot(1, 2, 2)\n",
    "plt.barh(pos, feature_importance[sorted_idx], align='center')\n",
    "plt.yticks(pos, X_train.columns[sorted_idx]) \n",
    "plt.xlabel('Relative Importance')\n",
    "plt.ylabel('Features')\n",
    "plt.title('Variable Importance for Random Forest')\n",
    "plt.show()\n",
    "\n"
   ]
  },
  {
   "cell_type": "markdown",
   "metadata": {
    "colab_type": "text",
    "id": "ThhRbBwLpozX"
   },
   "source": [
    "**26. Importamos librería para plicar el algoritmo XGB**"
   ]
  },
  {
   "cell_type": "code",
   "execution_count": 0,
   "metadata": {
    "colab": {},
    "colab_type": "code",
    "id": "v5wnW-OhjdD8"
   },
   "outputs": [],
   "source": [
    "from xgboost import XGBRegressor\n",
    "from sklearn.metrics import mean_absolute_error"
   ]
  },
  {
   "cell_type": "markdown",
   "metadata": {
    "colab_type": "text",
    "id": "e6GS2ggwpt1Y"
   },
   "source": [
    "**27. Aplicación algoritmo XGB sobre set de datos train y posterior print del resultado (1.47)**"
   ]
  },
  {
   "cell_type": "code",
   "execution_count": 0,
   "metadata": {
    "colab": {
     "base_uri": "https://localhost:8080/",
     "height": 68
    },
    "colab_type": "code",
    "executionInfo": {
     "elapsed": 181315,
     "status": "ok",
     "timestamp": 1557673598526,
     "user": {
      "displayName": "iago feliubadaló",
      "photoUrl": "https://lh6.googleusercontent.com/-g5vDNw1YDNI/AAAAAAAAAAI/AAAAAAAAAQU/Mw5sY3LeNvs/s64/photo.jpg",
      "userId": "13426049142450112585"
     },
     "user_tz": -120
    },
    "id": "u1-tPFexhvZX",
    "outputId": "451691d2-24d3-45fa-d522-516fdb8b69de"
   },
   "outputs": [
    {
     "name": "stderr",
     "output_type": "stream",
     "text": [
      "/usr/local/lib/python3.6/dist-packages/xgboost/core.py:587: FutureWarning: Series.base is deprecated and will be removed in a future version\n",
      "  if getattr(data, 'base', None) is not None and \\\n"
     ]
    },
    {
     "name": "stdout",
     "output_type": "stream",
     "text": [
      "Mean Absolute Error of Model: 1.4722263791660115\n"
     ]
    }
   ],
   "source": [
    "model = XGBRegressor(learning_rate= .03, colsample_bytree = .8,\n",
    "                    max_depth= 8, subsample= 1,\n",
    "                    objective='reg:linear', eval_metric= 'rmse',\n",
    "                    early_stopping_rounds=10)\n",
    "\n",
    "model.fit(X_train, y_train)\n",
    "\n",
    "predictions = model.predict(X_test)\n",
    "\n",
    "MAE = mean_absolute_error(y_test, predictions)\n",
    "print(\"Mean Absolute Error of Model: {}\".format(MAE))"
   ]
  },
  {
   "cell_type": "markdown",
   "metadata": {
    "colab_type": "text",
    "id": "lN1Vc4U7p5aM"
   },
   "source": [
    "**28. Importancia de las variables para el algortimo XGB**"
   ]
  },
  {
   "cell_type": "code",
   "execution_count": 0,
   "metadata": {
    "colab": {
     "base_uri": "https://localhost:8080/",
     "height": 1165
    },
    "colab_type": "code",
    "executionInfo": {
     "elapsed": 1812,
     "status": "ok",
     "timestamp": 1557674668394,
     "user": {
      "displayName": "iago feliubadaló",
      "photoUrl": "https://lh6.googleusercontent.com/-g5vDNw1YDNI/AAAAAAAAAAI/AAAAAAAAAQU/Mw5sY3LeNvs/s64/photo.jpg",
      "userId": "13426049142450112585"
     },
     "user_tz": -120
    },
    "id": "_UT8TCKYpLgz",
    "outputId": "fa9cbffd-2c04-4dc9-ebc2-b24cbabc3cbb"
   },
   "outputs": [
    {
     "data": {
      "image/png": "[encoded data removed]",
      "text/plain": [
       "<Figure size 1440x1440 with 1 Axes>"
      ]
     },
     "metadata": {
      "tags": []
     },
     "output_type": "display_data"
    }
   ],
   "source": [
    "feature_importance = model.feature_importances_\n",
    "feature_importance = 100.0 * (feature_importance / feature_importance.max())\n",
    "sorted_idx = np.argsort(feature_importance)\n",
    "pos = np.arange(sorted_idx.shape[0]) + .5\n",
    "plt.figure(figsize=(20,20))\n",
    "plt.subplot(1, 2, 2)\n",
    "plt.barh(pos, feature_importance[sorted_idx], align='center')\n",
    "plt.yticks(pos, X_train.columns[sorted_idx]) \n",
    "plt.xlabel('Relative Importance')\n",
    "plt.ylabel('Features')\n",
    "plt.title('Variable Importance for Random Forest')\n",
    "plt.show()"
   ]
  },
  {
   "cell_type": "markdown",
   "metadata": {
    "colab_type": "text",
    "id": "YpynsWdRqBJL"
   },
   "source": [
    "**29. Importación de la librería para aplicar el agoritmo Gradient boost**"
   ]
  },
  {
   "cell_type": "code",
   "execution_count": 0,
   "metadata": {
    "colab": {},
    "colab_type": "code",
    "id": "FmVMsdt23k59"
   },
   "outputs": [],
   "source": [
    "from sklearn.ensemble import GradientBoostingRegressor\n",
    "model_gradient= GradientBoostingRegressor(n_estimators=100, learning_rate=1, max_depth=3, random_state=0)\n",
    "gradientBoost = model_gradient.fit(X_train, y_train)"
   ]
  },
  {
   "cell_type": "code",
   "execution_count": 0,
   "metadata": {
    "colab": {},
    "colab_type": "code",
    "id": "MOdT393I30is"
   },
   "outputs": [],
   "source": [
    "predicted = model_gradient.predict(X_test)"
   ]
  },
  {
   "cell_type": "markdown",
   "metadata": {
    "colab_type": "text",
    "id": "lP1rRaNFqIUp"
   },
   "source": [
    "**30. Resultado algoritmo Gradient Boost**"
   ]
  },
  {
   "cell_type": "code",
   "execution_count": 0,
   "metadata": {
    "colab": {
     "base_uri": "https://localhost:8080/",
     "height": 34
    },
    "colab_type": "code",
    "executionInfo": {
     "elapsed": 336550,
     "status": "ok",
     "timestamp": 1557675177714,
     "user": {
      "displayName": "iago feliubadaló",
      "photoUrl": "https://lh6.googleusercontent.com/-g5vDNw1YDNI/AAAAAAAAAAI/AAAAAAAAAQU/Mw5sY3LeNvs/s64/photo.jpg",
      "userId": "13426049142450112585"
     },
     "user_tz": -120
    },
    "id": "cLqz1YLD32GU",
    "outputId": "8ae4e44f-b01d-4a66-d135-147e7e2b6ae1"
   },
   "outputs": [
    {
     "data": {
      "text/plain": [
       "4.921257018702692"
      ]
     },
     "execution_count": 76,
     "metadata": {
      "tags": []
     },
     "output_type": "execute_result"
    }
   ],
   "source": [
    "grmse = np.sqrt(metrics.mean_squared_error(predicted, y_test))\n",
    "grmse"
   ]
  },
  {
   "cell_type": "markdown",
   "metadata": {
    "colab_type": "text",
    "id": "DD7oT1I5qNiv"
   },
   "source": [
    "**31. Importancia de las variables para el algortimo Gradient Boost**"
   ]
  },
  {
   "cell_type": "code",
   "execution_count": 0,
   "metadata": {
    "colab": {
     "base_uri": "https://localhost:8080/",
     "height": 1165
    },
    "colab_type": "code",
    "executionInfo": {
     "elapsed": 1367,
     "status": "ok",
     "timestamp": 1557429136325,
     "user": {
      "displayName": "iago feliubadaló",
      "photoUrl": "https://lh6.googleusercontent.com/-g5vDNw1YDNI/AAAAAAAAAAI/AAAAAAAAAQU/Mw5sY3LeNvs/s64/photo.jpg",
      "userId": "13426049142450112585"
     },
     "user_tz": -120
    },
    "id": "Y3MRegSp38Cj",
    "outputId": "2fb7fb2f-9b50-46e8-ba52-e2766447cf16"
   },
   "outputs": [
    {
     "data": {
      "image/png": "[encoded data removed]",
      "text/plain": [
       "<Figure size 1440x1440 with 1 Axes>"
      ]
     },
     "metadata": {
      "tags": []
     },
     "output_type": "display_data"
    }
   ],
   "source": [
    "feature_importance = gradientBoost.feature_importances_\n",
    "# make importances relative to max importance\n",
    "feature_importance = 100.0 * (feature_importance / feature_importance.max())\n",
    "sorted_idx = np.argsort(feature_importance)\n",
    "pos = np.arange(sorted_idx.shape[0]) + .5\n",
    "plt.figure(figsize=(20,20))\n",
    "plt.subplot(1, 2, 2)\n",
    "plt.barh(pos, feature_importance[sorted_idx], align='center')\n",
    "plt.yticks(pos, X_train.columns[sorted_idx]) \n",
    "plt.xlabel('Relative Importance')\n",
    "plt.ylabel('Features')\n",
    "plt.title('Variable Importance for Gradient Boosting Regression')\n",
    "plt.show()"
   ]
  },
  {
   "cell_type": "markdown",
   "metadata": {
    "colab_type": "text",
    "id": "avZ_SLdTqTC2"
   },
   "source": [
    "**32. Creación gráfico para mostrar el rendimiento de los diferentes algoritmos frente al set de datos**"
   ]
  },
  {
   "cell_type": "code",
   "execution_count": 0,
   "metadata": {
    "colab": {},
    "colab_type": "code",
    "id": "Bx-jrVvs380r"
   },
   "outputs": [],
   "source": [
    "regression = pd.DataFrame({\"regression\": ['Multi Linear Regression','Random Forest', 'Improved Random Forest', 'Gradient Boosting Regression', 'XGBRegressor'], \"rmse\": [lrmse,randomForestMSE,randomForestImprovedMSE,grmse,MAE]},columns = ['regression','rmse'])"
   ]
  },
  {
   "cell_type": "code",
   "execution_count": 0,
   "metadata": {
    "colab": {},
    "colab_type": "code",
    "id": "8oXec1Hf4DJV"
   },
   "outputs": [],
   "source": [
    "regression = regression.sort_values(by='rmse', ascending = False)"
   ]
  },
  {
   "cell_type": "markdown",
   "metadata": {
    "colab_type": "text",
    "id": "RHfWhT9Wqcmp"
   },
   "source": [
    "**33. El algoritmo XGB es el que muestra un mejor comportamiento a la hora de predecir**"
   ]
  },
  {
   "cell_type": "code",
   "execution_count": 0,
   "metadata": {
    "colab": {
     "base_uri": "https://localhost:8080/",
     "height": 584
    },
    "colab_type": "code",
    "executionInfo": {
     "elapsed": 1121,
     "status": "ok",
     "timestamp": 1557675282102,
     "user": {
      "displayName": "iago feliubadaló",
      "photoUrl": "https://lh6.googleusercontent.com/-g5vDNw1YDNI/AAAAAAAAAAI/AAAAAAAAAQU/Mw5sY3LeNvs/s64/photo.jpg",
      "userId": "13426049142450112585"
     },
     "user_tz": -120
    },
    "id": "fbDVjGEo4FCc",
    "outputId": "9ee2356b-e678-4bb6-d421-d37fae622b3e"
   },
   "outputs": [
    {
     "data": {
      "text/plain": [
       "Text(0.5, 1.0, 'Comparación de los diferentes algoritmos utilizados')"
      ]
     },
     "execution_count": 82,
     "metadata": {
      "tags": []
     },
     "output_type": "execute_result"
    },
    {
     "data": {
      "image/png": "[encoded data removed]",
      "text/plain": [
       "<Figure size 864x648 with 1 Axes>"
      ]
     },
     "metadata": {
      "tags": []
     },
     "output_type": "display_data"
    }
   ],
   "source": [
    "sns.barplot(regression['rmse'], regression['regression'], palette = 'Set3')\n",
    "plt.xlabel(\"Root Mean Square Error\")\n",
    "plt.ylabel('Tipo de regresión')\n",
    "plt.title('Comparación de los diferentes algoritmos utilizados')"
   ]
  }
 ],
 "metadata": {
  "colab": {
   "collapsed_sections": [],
   "name": "3.3 Análisis predictivo green.ipynb",
   "provenance": [],
   "version": "0.3.2"
  },
  "kernelspec": {
   "display_name": "Python 3",
   "language": "python",
   "name": "python3"
  },
  "language_info": {
   "codemirror_mode": {
    "name": "ipython",
    "version": 3
   },
   "file_extension": ".py",
   "mimetype": "text/x-python",
   "name": "python",
   "nbconvert_exporter": "python",
   "pygments_lexer": "ipython3",
   "version": "3.7.1"
  }
 },
 "nbformat": 4,
 "nbformat_minor": 1
}
